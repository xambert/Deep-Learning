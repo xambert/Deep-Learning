{
  "nbformat": 4,
  "nbformat_minor": 0,
  "metadata": {
    "kernelspec": {
      "display_name": "Python 3",
      "language": "python",
      "name": "python3"
    },
    "language_info": {
      "codemirror_mode": {
        "name": "ipython",
        "version": 3
      },
      "file_extension": ".py",
      "mimetype": "text/x-python",
      "name": "python",
      "nbconvert_exporter": "python",
      "pygments_lexer": "ipython3",
      "version": "3.7.6"
    },
    "colab": {
      "name": "1.1_1Dtensors_v2.ipynb",
      "provenance": []
    }
  },
  "cells": [
    {
      "cell_type": "markdown",
      "metadata": {
        "id": "FRJ5rUwtLhr6"
      },
      "source": [
        "<center>\n",
        "    <img src=\"https://cf-courses-data.s3.us.cloud-object-storage.appdomain.cloud/IBMDeveloperSkillsNetwork-DL0110EN-SkillsNetwork/Template/module%201/images/IDSNlogo.png\" width=\"300\" alt=\"cognitiveclass.ai logo\"  />\n",
        "</center>\n"
      ]
    },
    {
      "cell_type": "markdown",
      "metadata": {
        "id": "kYBYW2G9LhsF"
      },
      "source": [
        "<h1>Torch Tensors in 1D</h1>\n"
      ]
    },
    {
      "cell_type": "markdown",
      "metadata": {
        "id": "UCNbC5sLLhsG"
      },
      "source": [
        "<h2>Objective</h2><ul><li> How tensor operations work in pytorch.</li></ul> \n"
      ]
    },
    {
      "cell_type": "markdown",
      "metadata": {
        "id": "_YLzB-WSLhsG"
      },
      "source": [
        "<h2>Table of Contents</h2>\n"
      ]
    },
    {
      "cell_type": "markdown",
      "metadata": {
        "id": "kQZhWEB0LhsH"
      },
      "source": [
        "<p>In this lab, you will learn the basics of tensor operations. Tensors are an essential part of PyTorch; there are complex mathematical objects in and of themselves. Fortunately, most of the intricacies are not necessary. In this section, you will compare them to vectors and numpy arrays.</p>\n",
        "<ul>\n",
        "    <li><a href=\"#Types_Shape\">Types and Shape</a></li>\n",
        "    <li><a href=\"#Index_Slice\">Indexing and Slicing</a></li>\n",
        "    <li><a href=\"#Tensor_Func\">Tensor Functions</a></li>\n",
        "    <li><a href=\"#Tensor_Op\">Tensor Operations</a></li>\n",
        "    <li><a href=\"#Device_Op\">Device_Op Operations</a></li>\n",
        "</ul>\n",
        "\n",
        "<p>Estimated Time Needed: <b>25 min</b></p>\n",
        "<hr>\n"
      ]
    },
    {
      "cell_type": "markdown",
      "metadata": {
        "id": "SwMFyFEjLhsI"
      },
      "source": [
        "<h2>Preparation</h2>\n"
      ]
    },
    {
      "cell_type": "markdown",
      "metadata": {
        "id": "8EonM5T6LhsI"
      },
      "source": [
        "Import the following libraries that you'll use for this lab:\n"
      ]
    },
    {
      "cell_type": "code",
      "metadata": {
        "collapsed": true,
        "jupyter": {
          "outputs_hidden": true
        },
        "id": "i6-bUujJLhsI"
      },
      "source": [
        "# These are the libraries will be used for this lab.\n",
        "\n",
        "import torch \n",
        "import numpy as np \n",
        "import pandas as pd\n",
        "\n",
        "import matplotlib.pyplot as plt\n",
        "%matplotlib inline  "
      ],
      "execution_count": 1,
      "outputs": []
    },
    {
      "cell_type": "markdown",
      "metadata": {
        "id": "yDTezm4iLhsJ"
      },
      "source": [
        "Check PyTorch version:\n"
      ]
    },
    {
      "cell_type": "code",
      "metadata": {
        "collapsed": true,
        "jupyter": {
          "outputs_hidden": true
        },
        "colab": {
          "base_uri": "https://localhost:8080/",
          "height": 35
        },
        "id": "-oPOOq04LhsK",
        "outputId": "9d1affab-334d-43fc-a309-28778b0b6794"
      },
      "source": [
        "torch.__version__"
      ],
      "execution_count": 2,
      "outputs": [
        {
          "output_type": "execute_result",
          "data": {
            "application/vnd.google.colaboratory.intrinsic+json": {
              "type": "string"
            },
            "text/plain": [
              "'1.8.1+cu101'"
            ]
          },
          "metadata": {
            "tags": []
          },
          "execution_count": 2
        }
      ]
    },
    {
      "cell_type": "markdown",
      "metadata": {
        "id": "tr5jv7bhLhsK"
      },
      "source": [
        "This is the function for plotting diagrams. You will use this function to plot the vectors in Coordinate system.\n"
      ]
    },
    {
      "cell_type": "code",
      "metadata": {
        "jupyter": {
          "outputs_hidden": false
        },
        "id": "wsdIjDTDLhsL"
      },
      "source": [
        "# Plot vecotrs, please keep the parameters in the same length\n",
        "# @param: Vectors = [{\"vector\": vector variable, \"name\": name of vector, \"color\": color of the vector on diagram}]\n",
        "    \n",
        "def plotVec(vectors):\n",
        "    ax = plt.axes()\n",
        "    \n",
        "    # For loop to draw the vectors\n",
        "    for vec in vectors:\n",
        "        ax.arrow(0, 0, *vec[\"vector\"], head_width = 0.05,color = vec[\"color\"], head_length = 0.1)\n",
        "        plt.text(*(vec[\"vector\"] + 0.1), vec[\"name\"])\n",
        "    \n",
        "    plt.ylim(-2,2)\n",
        "    plt.xlim(-2,2)"
      ],
      "execution_count": 55,
      "outputs": []
    },
    {
      "cell_type": "markdown",
      "metadata": {
        "id": "6rHeHFGhLhsL"
      },
      "source": [
        "<!--Empty Space for separating topics-->\n"
      ]
    },
    {
      "cell_type": "markdown",
      "metadata": {
        "id": "uLURMlhtLhsM"
      },
      "source": [
        "<h2 id=\"Types_Shape\">Types and Shape</h2>\n"
      ]
    },
    {
      "cell_type": "markdown",
      "metadata": {
        "id": "ReJRaiM8LhsM"
      },
      "source": [
        "You can find the type of the following list of integers <i>[0, 1, 2, 3, 4]</i> by applying the constructor <code>torch.tensor()</code>:\n"
      ]
    },
    {
      "cell_type": "code",
      "metadata": {
        "jupyter": {
          "outputs_hidden": false
        },
        "colab": {
          "base_uri": "https://localhost:8080/"
        },
        "id": "QI5lxtnnLhsM",
        "outputId": "c1ea20b4-bda3-49c5-95db-026ebcfccc87"
      },
      "source": [
        "# Convert a integer list with length 5 to a tensor\n",
        "\n",
        "ints_to_tensor = torch.tensor([0, 1, 2, 3, 4])\n",
        "print(\"The dtype of tensor object after converting it to tensor: \", ints_to_tensor.dtype)\n",
        "print(\"The type of tensor object after converting it to tensor: \", ints_to_tensor.type())"
      ],
      "execution_count": 3,
      "outputs": [
        {
          "output_type": "stream",
          "text": [
            "The dtype of tensor object after converting it to tensor:  torch.int64\n",
            "The type of tensor object after converting it to tensor:  torch.LongTensor\n"
          ],
          "name": "stdout"
        }
      ]
    },
    {
      "cell_type": "markdown",
      "metadata": {
        "id": "DoNYV9-ILhsN"
      },
      "source": [
        "As a result, the integer list has been converted to a long tensor.\n"
      ]
    },
    {
      "cell_type": "markdown",
      "metadata": {
        "id": "6QaAAspZLhsN"
      },
      "source": [
        "The Python type is still <code>torch.Tensor</code>:\n"
      ]
    },
    {
      "cell_type": "code",
      "metadata": {
        "colab": {
          "base_uri": "https://localhost:8080/"
        },
        "id": "ghR3v-KrLhsO",
        "outputId": "2e79fb49-5483-4bac-c1d8-fcb7eb325688"
      },
      "source": [
        "type(ints_to_tensor)"
      ],
      "execution_count": 4,
      "outputs": [
        {
          "output_type": "execute_result",
          "data": {
            "text/plain": [
              "torch.Tensor"
            ]
          },
          "metadata": {
            "tags": []
          },
          "execution_count": 4
        }
      ]
    },
    {
      "cell_type": "markdown",
      "metadata": {
        "id": "QPb8WtpRLhsO"
      },
      "source": [
        "<!--Empty Space for separate topics-->\n"
      ]
    },
    {
      "cell_type": "markdown",
      "metadata": {
        "id": "x7dA9KLSLhsO"
      },
      "source": [
        "You can find the type of this float list <i>[0.0, 1.0, 2.0, 3.0, 4.0]</i> by applying the method <code>torch.tensor()</code>:\n"
      ]
    },
    {
      "cell_type": "code",
      "metadata": {
        "jupyter": {
          "outputs_hidden": false
        },
        "colab": {
          "base_uri": "https://localhost:8080/"
        },
        "id": "OkJvQFCCLhsP",
        "outputId": "1e559447-2693-48ae-ea43-bfa5ca6f8f01"
      },
      "source": [
        "# Convert a float list with length 5 to a tensor\n",
        "\n",
        "floats_to_tensor = torch.tensor([0.0, 1.0, 2.0, 3.0, 4.0])\n",
        "print(\"The dtype of tensor object after converting it to tensor: \", floats_to_tensor.dtype)\n",
        "print(\"The type of tensor object after converting it to tensor: \", floats_to_tensor.type())"
      ],
      "execution_count": 8,
      "outputs": [
        {
          "output_type": "stream",
          "text": [
            "The dtype of tensor object after converting it to tensor:  torch.float32\n",
            "The type of tensor object after converting it to tensor:  torch.FloatTensor\n"
          ],
          "name": "stdout"
        }
      ]
    },
    {
      "cell_type": "markdown",
      "metadata": {
        "id": "zbccVmqALhsP"
      },
      "source": [
        "The float list is converted to a float tensor.\n"
      ]
    },
    {
      "cell_type": "code",
      "metadata": {
        "id": "wImdEhMNLhsP"
      },
      "source": [
        "list_floats=[0.0, 1.0, 2.0, 3.0, 4.0]\n",
        "\n",
        "floats_int_tensor=torch.tensor(list_floats,dtype=torch.int64)"
      ],
      "execution_count": 9,
      "outputs": []
    },
    {
      "cell_type": "code",
      "metadata": {
        "colab": {
          "base_uri": "https://localhost:8080/"
        },
        "id": "aylTrQIqLhsQ",
        "outputId": "96bb3d78-6c62-4bc0-faa9-5c0bfd8ac106"
      },
      "source": [
        "print(\"The dtype of tensor object is: \", floats_int_tensor.dtype)\n",
        "print(\"The type of tensor object is: \", floats_int_tensor.type())"
      ],
      "execution_count": 10,
      "outputs": [
        {
          "output_type": "stream",
          "text": [
            "The dtype of tensor object is:  torch.int64\n",
            "The type of tensor object is:  torch.LongTensor\n"
          ],
          "name": "stdout"
        }
      ]
    },
    {
      "cell_type": "markdown",
      "metadata": {
        "id": "hj47LXpSLhsQ"
      },
      "source": [
        "<b>Note: The elements in the list that will be converted to tensor must have the same type.</b>\n"
      ]
    },
    {
      "cell_type": "markdown",
      "metadata": {
        "id": "-xugCbBzLhsQ"
      },
      "source": [
        "<!--Empty Space for separating topics-->\n"
      ]
    },
    {
      "cell_type": "markdown",
      "metadata": {
        "id": "ZMr1bjh1LhsR"
      },
      "source": [
        "From the previous examples, you see that <code>torch.tensor()</code> converts the list to the tensor type, which is similar to the original list type. However, what if you want to convert the list to a certain tensor type? <code>torch</code> contains the methods required to do this conversion. The following code  converts an integer list to float tensor:\n"
      ]
    },
    {
      "cell_type": "code",
      "metadata": {
        "colab": {
          "base_uri": "https://localhost:8080/"
        },
        "id": "beiaXk3yLhsR",
        "outputId": "d44af956-6381-4bd6-a2cb-c9179a4642d5"
      },
      "source": [
        "# Convert a integer list with length 5 to float tensor\n",
        "\n",
        "new_float_tensor = torch.FloatTensor([0, 1, 2, 3, 4])\n",
        "new_float_tensor.type()\n",
        "print(\"The type of the new_float_tensor:\", new_float_tensor.type())"
      ],
      "execution_count": 11,
      "outputs": [
        {
          "output_type": "stream",
          "text": [
            "The type of the new_float_tensor: torch.FloatTensor\n"
          ],
          "name": "stdout"
        }
      ]
    },
    {
      "cell_type": "code",
      "metadata": {
        "id": "QRVJ_Ku1LhsS"
      },
      "source": [
        "new_float_tensor = torch.FloatTensor([0, 1, 2, 3, 4])"
      ],
      "execution_count": 12,
      "outputs": []
    },
    {
      "cell_type": "markdown",
      "metadata": {
        "id": "LTLacE8LLhsS"
      },
      "source": [
        "<!--Empty Space for separating topics-->\n"
      ]
    },
    {
      "cell_type": "markdown",
      "metadata": {
        "id": "kghDsjK0LhsS"
      },
      "source": [
        "You can also convert an existing tensor object (<code><i>tensor_obj</i></code>) to another tensor type. Convert the integer tensor to a float tensor:\n"
      ]
    },
    {
      "cell_type": "code",
      "metadata": {
        "colab": {
          "base_uri": "https://localhost:8080/"
        },
        "id": "Y7Ll9kclLhsT",
        "outputId": "18c90105-7e8a-45e1-f5d4-feb75158565e"
      },
      "source": [
        "# Another method to convert the integer list to float tensor\n",
        "\n",
        "old_int_tensor = torch.tensor([0, 1, 2, 3, 4])\n",
        "new_float_tensor = old_int_tensor.type(torch.FloatTensor)\n",
        "print(\"The type of the new_float_tensor:\", new_float_tensor.type())"
      ],
      "execution_count": 13,
      "outputs": [
        {
          "output_type": "stream",
          "text": [
            "The type of the new_float_tensor: torch.FloatTensor\n"
          ],
          "name": "stdout"
        }
      ]
    },
    {
      "cell_type": "markdown",
      "metadata": {
        "id": "WWW4sSm9LhsT"
      },
      "source": [
        "<!--Empty Space for separating topics-->\n"
      ]
    },
    {
      "cell_type": "markdown",
      "metadata": {
        "id": "jhMiffe3LhsU"
      },
      "source": [
        "The <code><i>tensor_obj</i>.size()</code> helps you to find out the size of the <code><i>tensor_obj</i></code>.\n",
        "The <code><i>tensor_obj</i>.ndimension()</code> shows the dimension of the tensor object.\n"
      ]
    },
    {
      "cell_type": "code",
      "metadata": {
        "colab": {
          "base_uri": "https://localhost:8080/"
        },
        "id": "b5gE3WFnLhsU",
        "outputId": "5119909b-855f-4a83-f99f-ae04804254ca"
      },
      "source": [
        "# Introduce the tensor_obj.size() & tensor_ndimension.size() methods\n",
        "\n",
        "print(\"The size of the new_float_tensor: \", new_float_tensor.size())\n",
        "print(\"The dimension of the new_float_tensor: \",new_float_tensor.ndimension())"
      ],
      "execution_count": 14,
      "outputs": [
        {
          "output_type": "stream",
          "text": [
            "The size of the new_float_tensor:  torch.Size([5])\n",
            "The dimension of the new_float_tensor:  1\n"
          ],
          "name": "stdout"
        }
      ]
    },
    {
      "cell_type": "markdown",
      "metadata": {
        "id": "Dg433DDtLhsV"
      },
      "source": [
        "<!--Empty Space for separating topics-->\n"
      ]
    },
    {
      "cell_type": "markdown",
      "metadata": {
        "id": "oqpfMiwJLhsV"
      },
      "source": [
        "The <code><i>tensor_obj</i>.view(<i>row, column</i>)</code> is used for reshaping a tensor object.<br>\n"
      ]
    },
    {
      "cell_type": "markdown",
      "metadata": {
        "id": "hjOnLGKGLhsW"
      },
      "source": [
        "What if you have a tensor object with <code>torch.Size([5])</code> as a <code>new_float_tensor</code> as shown in the previous example?<br>\n",
        "After you execute <code>new_float_tensor.view(5, 1)</code>, the size of <code>new_float_tensor</code> will be <code>torch.Size([5, 1])</code>.<br>\n",
        "This means that the tensor object <code>new_float_tensor</code> has been reshaped from a one-dimensional  tensor object with 5 elements to a two-dimensional tensor object with 5 rows and 1 column.\n"
      ]
    },
    {
      "cell_type": "code",
      "metadata": {
        "colab": {
          "base_uri": "https://localhost:8080/"
        },
        "id": "MeV-J5O0LhsW",
        "outputId": "bde55a38-78f2-4b3d-d4e1-d559968dc83b"
      },
      "source": [
        "# Introduce the tensor_obj.view(row, column) method\n",
        "\n",
        "twoD_float_tensor = new_float_tensor.view(5, 1)\n",
        "print(\"Original Size: \", new_float_tensor)\n",
        "print(\"Size after view method\", twoD_float_tensor)"
      ],
      "execution_count": 15,
      "outputs": [
        {
          "output_type": "stream",
          "text": [
            "Original Size:  tensor([0., 1., 2., 3., 4.])\n",
            "Size after view method tensor([[0.],\n",
            "        [1.],\n",
            "        [2.],\n",
            "        [3.],\n",
            "        [4.]])\n"
          ],
          "name": "stdout"
        }
      ]
    },
    {
      "cell_type": "markdown",
      "metadata": {
        "id": "cCCYu8azLhsX"
      },
      "source": [
        "Note that the original size is 5. The tensor after reshaping becomes a 5X1 tensor analog to a column vector.\n"
      ]
    },
    {
      "cell_type": "markdown",
      "metadata": {
        "id": "oXZ4REggLhsX"
      },
      "source": [
        "<b>Note: The number of elements in a tensor must remain constant after applying view.</b>\n"
      ]
    },
    {
      "cell_type": "markdown",
      "metadata": {
        "id": "o_9Dzt4xLhsX"
      },
      "source": [
        "<!--Empty Space for separating topics-->\n"
      ]
    },
    {
      "cell_type": "markdown",
      "metadata": {
        "id": "qWOEKHMNLhsX"
      },
      "source": [
        "What if you have a tensor with dynamic size but you want to reshape it? You can use <b>-1</b> to do just that.\n"
      ]
    },
    {
      "cell_type": "code",
      "metadata": {
        "colab": {
          "base_uri": "https://localhost:8080/"
        },
        "id": "lEQjgt6VLhsY",
        "outputId": "804004ae-aa67-4c7a-ba47-9b4fb2264f60"
      },
      "source": [
        "# Introduce the use of -1 in tensor_obj.view(row, column) method\n",
        "\n",
        "twoD_float_tensor = new_float_tensor.view(-1, 1)\n",
        "print(\"Original Size: \", new_float_tensor)\n",
        "print(\"Size after view method\", twoD_float_tensor)"
      ],
      "execution_count": 16,
      "outputs": [
        {
          "output_type": "stream",
          "text": [
            "Original Size:  tensor([0., 1., 2., 3., 4.])\n",
            "Size after view method tensor([[0.],\n",
            "        [1.],\n",
            "        [2.],\n",
            "        [3.],\n",
            "        [4.]])\n"
          ],
          "name": "stdout"
        }
      ]
    },
    {
      "cell_type": "markdown",
      "metadata": {
        "id": "dy0IZZ3KLhsY"
      },
      "source": [
        "You get the same result as the previous example. The <b>-1</b> can represent any size. However, be careful because you can set only one argument as <b>-1</b>.\n"
      ]
    },
    {
      "cell_type": "markdown",
      "metadata": {
        "id": "r00RA232LhsY"
      },
      "source": [
        "<!--Empty Space for separating topics-->\n"
      ]
    },
    {
      "cell_type": "markdown",
      "metadata": {
        "id": "sRLDZianLhsZ"
      },
      "source": [
        "You can also convert a <b>numpy</b> array to a <b>tensor</b>, for example: \n"
      ]
    },
    {
      "cell_type": "code",
      "metadata": {
        "colab": {
          "base_uri": "https://localhost:8080/"
        },
        "id": "3kbjJGDQLhsZ",
        "outputId": "b073ee04-2d1b-463e-d189-ad249f9b53be"
      },
      "source": [
        "# Convert a numpy array to a tensor\n",
        "\n",
        "numpy_array = np.array([0.0, 1.0, 2.0, 3.0, 4.0])\n",
        "new_tensor = torch.from_numpy(numpy_array)\n",
        "\n",
        "print(\"The dtype of new tensor: \", new_tensor.dtype)\n",
        "print(\"The type of new tensor: \", new_tensor.type())"
      ],
      "execution_count": 17,
      "outputs": [
        {
          "output_type": "stream",
          "text": [
            "The dtype of new tensor:  torch.float64\n",
            "The type of new tensor:  torch.DoubleTensor\n"
          ],
          "name": "stdout"
        }
      ]
    },
    {
      "cell_type": "markdown",
      "metadata": {
        "id": "c5QWgvBpLhsZ"
      },
      "source": [
        "<!--Empty Space for separating topics-->\n"
      ]
    },
    {
      "cell_type": "markdown",
      "metadata": {
        "id": "9ori1qozLhsa"
      },
      "source": [
        "Converting a <b>tensor</b> to a <b>numpy</b> is also supported in PyTorch. The syntax is shown below:\n"
      ]
    },
    {
      "cell_type": "code",
      "metadata": {
        "colab": {
          "base_uri": "https://localhost:8080/"
        },
        "id": "x8avK_k6Lhsa",
        "outputId": "493e6dc7-7693-4950-d4ec-2ddabcea84f9"
      },
      "source": [
        "# Convert a tensor to a numpy array\n",
        "\n",
        "back_to_numpy = new_tensor.numpy()\n",
        "print(\"The numpy array from tensor: \", back_to_numpy)\n",
        "print(\"The dtype of numpy array: \", back_to_numpy.dtype)"
      ],
      "execution_count": 18,
      "outputs": [
        {
          "output_type": "stream",
          "text": [
            "The numpy array from tensor:  [0. 1. 2. 3. 4.]\n",
            "The dtype of numpy array:  float64\n"
          ],
          "name": "stdout"
        }
      ]
    },
    {
      "cell_type": "markdown",
      "metadata": {
        "id": "hOqEjv0lLhsa"
      },
      "source": [
        "<code>back_to_numpy</code> and <code>new_tensor</code> still point to <code>numpy_array</code>. As a result if we change <code>numpy_array</code> both <code>back_to_numpy</code> and <code>new_tensor</code> will change. For example if we set all the elements in <code>numpy_array</code> to zeros, <code>back_to_numpy</code> and <code> new_tensor</code> will follow suit.\n"
      ]
    },
    {
      "cell_type": "code",
      "metadata": {
        "colab": {
          "base_uri": "https://localhost:8080/"
        },
        "id": "KzHbLhLVLhsa",
        "outputId": "24f6f0ac-2f19-4a10-a227-8ea58ff7a641"
      },
      "source": [
        "# Set all elements in numpy array to zero \n",
        "numpy_array[:] = 0\n",
        "print(\"The new tensor points to numpy_array : \", new_tensor)\n",
        "print(\"and back to numpy array points to the tensor: \", back_to_numpy)"
      ],
      "execution_count": 19,
      "outputs": [
        {
          "output_type": "stream",
          "text": [
            "The new tensor points to numpy_array :  tensor([0., 0., 0., 0., 0.], dtype=torch.float64)\n",
            "and back to numpy array points to the tensor:  [0. 0. 0. 0. 0.]\n"
          ],
          "name": "stdout"
        }
      ]
    },
    {
      "cell_type": "markdown",
      "metadata": {
        "id": "n3KX10kiLhsb"
      },
      "source": [
        "<!--Empty Space for separating topics-->\n"
      ]
    },
    {
      "cell_type": "markdown",
      "metadata": {
        "id": "YC_62BIGLhsb"
      },
      "source": [
        "<b>Pandas Series</b> can also be converted by using the numpy array that is stored in <code>pandas_series.values</code>. Note that <code>pandas_series</code> can be any pandas_series object. \n"
      ]
    },
    {
      "cell_type": "code",
      "metadata": {
        "colab": {
          "base_uri": "https://localhost:8080/"
        },
        "id": "2NHBO94GLhsb",
        "outputId": "7e8d7fec-4a13-4e0b-a468-8ca746ac03d1"
      },
      "source": [
        "# Convert a panda series to a tensor\n",
        "\n",
        "pandas_series=pd.Series([0.1, 2, 0.3, 10.1])\n",
        "new_tensor=torch.from_numpy(pandas_series.values)\n",
        "print(\"The new tensor from numpy array: \", new_tensor)\n",
        "print(\"The dtype of new tensor: \", new_tensor.dtype)\n",
        "print(\"The type of new tensor: \", new_tensor.type())"
      ],
      "execution_count": 20,
      "outputs": [
        {
          "output_type": "stream",
          "text": [
            "The new tensor from numpy array:  tensor([ 0.1000,  2.0000,  0.3000, 10.1000], dtype=torch.float64)\n",
            "The dtype of new tensor:  torch.float64\n",
            "The type of new tensor:  torch.DoubleTensor\n"
          ],
          "name": "stdout"
        }
      ]
    },
    {
      "cell_type": "markdown",
      "metadata": {
        "id": "8OKoV0DALhsc"
      },
      "source": [
        "consider the following tensor \n"
      ]
    },
    {
      "cell_type": "code",
      "metadata": {
        "id": "DL5SK197Lhsc"
      },
      "source": [
        "this_tensor=torch.tensor([0,1, 2,3]) "
      ],
      "execution_count": 21,
      "outputs": []
    },
    {
      "cell_type": "markdown",
      "metadata": {
        "id": "P2haljFjLhsc"
      },
      "source": [
        "The method <code>item()</code> returns the value of this tensor as a standard Python number. This only works for one element. \n"
      ]
    },
    {
      "cell_type": "code",
      "metadata": {
        "colab": {
          "base_uri": "https://localhost:8080/"
        },
        "id": "tTkbSgSlLhsc",
        "outputId": "089dead5-f248-410d-9158-8b930dd7751c"
      },
      "source": [
        "this_tensor=torch.tensor([0,1, 2,3]) \n",
        "\n",
        "print(\"the first item is given by\",this_tensor[0].item(),\"the first tensor value is given by \",this_tensor[0])\n",
        "print(\"the second item is given by\",this_tensor[1].item(),\"the second tensor value is given by \",this_tensor[1])\n",
        "print(\"the third  item is given by\",this_tensor[2].item(),\"the third tensor value is given by \",this_tensor[2])"
      ],
      "execution_count": 22,
      "outputs": [
        {
          "output_type": "stream",
          "text": [
            "the first item is given by 0 the first tensor value is given by  tensor(0)\n",
            "the second item is given by 1 the second tensor value is given by  tensor(1)\n",
            "the third  item is given by 2 the third tensor value is given by  tensor(2)\n"
          ],
          "name": "stdout"
        }
      ]
    },
    {
      "cell_type": "markdown",
      "metadata": {
        "id": "dr6ptaKwLhsd"
      },
      "source": [
        "we can use the method <code> tolist()</code> to return a list \n"
      ]
    },
    {
      "cell_type": "code",
      "metadata": {
        "colab": {
          "base_uri": "https://localhost:8080/"
        },
        "id": "RexorGEsLhsd",
        "outputId": "10bd00e2-88d4-4fb1-b83f-be1943c32802"
      },
      "source": [
        "torch_to_list=this_tensor.tolist()\n",
        "\n",
        "print('tensor:', this_tensor,\"\\nlist:\",torch_to_list)"
      ],
      "execution_count": 23,
      "outputs": [
        {
          "output_type": "stream",
          "text": [
            "tensor: tensor([0, 1, 2, 3]) \n",
            "list: [0, 1, 2, 3]\n"
          ],
          "name": "stdout"
        }
      ]
    },
    {
      "cell_type": "markdown",
      "metadata": {
        "id": "9R2t9fEnLhse"
      },
      "source": [
        "<!--Empty Space for separating topics-->\n"
      ]
    },
    {
      "cell_type": "markdown",
      "metadata": {
        "id": "EoAYmz6MLhse"
      },
      "source": [
        "<h3>Practice</h3>\n"
      ]
    },
    {
      "cell_type": "markdown",
      "metadata": {
        "id": "tXmV5YgNLhsf"
      },
      "source": [
        "Try to convert <code>your_tensor</code> to a 1X5 tensor.\n"
      ]
    },
    {
      "cell_type": "code",
      "metadata": {
        "colab": {
          "base_uri": "https://localhost:8080/"
        },
        "id": "odl1BQYHLhsf",
        "outputId": "76b7c8aa-f305-4612-ec19-18bda98da206"
      },
      "source": [
        "# Practice: convert the following tensor to a tensor object with 1 row and 5 columns\n",
        "\n",
        "your_tensor = torch.tensor([1, 2, 3, 4, 5])\n",
        "your_tensor.view(1,-1)"
      ],
      "execution_count": 27,
      "outputs": [
        {
          "output_type": "execute_result",
          "data": {
            "text/plain": [
              "tensor([[1, 2, 3, 4, 5]])"
            ]
          },
          "metadata": {
            "tags": []
          },
          "execution_count": 27
        }
      ]
    },
    {
      "cell_type": "markdown",
      "metadata": {
        "id": "kVsZDC1ILhsg"
      },
      "source": [
        "Double-click <b>here</b> for the solution.\n",
        "\n",
        "<!-- \n",
        "your_new_tensor = your_tensor.view(1, 5)\n",
        "print(\"Original Size: \", your_tensor)\n",
        "print(\"Size after view method\", your_new_tensor)\n",
        "-->\n"
      ]
    },
    {
      "cell_type": "markdown",
      "metadata": {
        "id": "R2OqeqjrLhsg"
      },
      "source": [
        "<!--Empty Space for separating topics-->\n"
      ]
    },
    {
      "cell_type": "markdown",
      "metadata": {
        "id": "TdWdAX48Lhsh"
      },
      "source": [
        "<h2 id=\"Index_Slice\">Indexing and Slicing</h2>\n"
      ]
    },
    {
      "cell_type": "markdown",
      "metadata": {
        "id": "9eVBo5eDLhsh"
      },
      "source": [
        "In Python, <b>the index starts with 0</b>. Therefore, the last index will always be 1 less than the length of the tensor object.\n",
        "You can access the value on a certain index by using the square bracket, for example:\n"
      ]
    },
    {
      "cell_type": "code",
      "metadata": {
        "colab": {
          "base_uri": "https://localhost:8080/"
        },
        "id": "eAWAzT_bLhsh",
        "outputId": "f58fd7c9-236b-4471-d8cc-76ddd3c567d0"
      },
      "source": [
        "# A tensor for showing how the indexs work on tensors\n",
        "\n",
        "index_tensor = torch.tensor([0, 1, 2, 3, 4])\n",
        "print(\"The value on index 0:\",index_tensor[0])\n",
        "print(\"The value on index 1:\",index_tensor[1])\n",
        "print(\"The value on index 2:\",index_tensor[2])\n",
        "print(\"The value on index 3:\",index_tensor[3])\n",
        "print(\"The value on index 4:\",index_tensor[4])"
      ],
      "execution_count": 28,
      "outputs": [
        {
          "output_type": "stream",
          "text": [
            "The value on index 0: tensor(0)\n",
            "The value on index 1: tensor(1)\n",
            "The value on index 2: tensor(2)\n",
            "The value on index 3: tensor(3)\n",
            "The value on index 4: tensor(4)\n"
          ],
          "name": "stdout"
        }
      ]
    },
    {
      "cell_type": "markdown",
      "metadata": {
        "id": "6BENQORVLhsh"
      },
      "source": [
        "<b>Note that the <code>index_tensor[5]</code> will create an error.</b>\n"
      ]
    },
    {
      "cell_type": "markdown",
      "metadata": {
        "id": "nwGYqTj0Lhsi"
      },
      "source": [
        "<!--Empty Space for separating topics-->\n"
      ]
    },
    {
      "cell_type": "markdown",
      "metadata": {
        "id": "VzX_AJsqLhsi"
      },
      "source": [
        "The index is shown in the following figure: \n"
      ]
    },
    {
      "cell_type": "markdown",
      "metadata": {
        "id": "mT8PRvZkLhsi"
      },
      "source": [
        "<img src=\"https://s3-api.us-geo.objectstorage.softlayer.net/cf-courses-data/CognitiveClass/DL0110EN/notebook_images%20/chapter%201/idex_1.png\" width=\"500\" alt=\"Python Index\" />\n"
      ]
    },
    {
      "cell_type": "markdown",
      "metadata": {
        "id": "NnYZP5bILhsi"
      },
      "source": [
        "<!--Empty Space for separating topics-->\n"
      ]
    },
    {
      "cell_type": "markdown",
      "metadata": {
        "id": "1DyKyzAULhsj"
      },
      "source": [
        "Now, you'll see how to change the values on certain indexes.\n"
      ]
    },
    {
      "cell_type": "markdown",
      "metadata": {
        "id": "7sHhetVgLhsj"
      },
      "source": [
        "Suppose you have a tensor as shown here: \n"
      ]
    },
    {
      "cell_type": "code",
      "metadata": {
        "jupyter": {
          "outputs_hidden": false
        },
        "id": "wdAlGtsFLhsj"
      },
      "source": [
        "# A tensor for showing how to change value according to the index\n",
        "\n",
        "tensor_sample = torch.tensor([20, 1, 2, 3, 4])"
      ],
      "execution_count": 29,
      "outputs": []
    },
    {
      "cell_type": "markdown",
      "metadata": {
        "id": "PdWTvR_ILhsj"
      },
      "source": [
        "Assign the value on index 0 as 100:\n"
      ]
    },
    {
      "cell_type": "code",
      "metadata": {
        "jupyter": {
          "outputs_hidden": false
        },
        "colab": {
          "base_uri": "https://localhost:8080/"
        },
        "id": "DgVoePfJLhsk",
        "outputId": "583c9fdf-ac75-4316-ec3a-3cec5224f89e"
      },
      "source": [
        "# Change the value on the index 0 to 100\n",
        "\n",
        "print(\"Inital value on index 0:\", tensor_sample[0])\n",
        "tensor_sample[0] = 100\n",
        "print(\"Modified tensor:\", tensor_sample)"
      ],
      "execution_count": 30,
      "outputs": [
        {
          "output_type": "stream",
          "text": [
            "Inital value on index 0: tensor(20)\n",
            "Modified tensor: tensor([100,   1,   2,   3,   4])\n"
          ],
          "name": "stdout"
        }
      ]
    },
    {
      "cell_type": "markdown",
      "metadata": {
        "id": "n3UmmDc0Lhsk"
      },
      "source": [
        "As you can see, the value on index 0 changes. Change the value on index 4 to 0:\n"
      ]
    },
    {
      "cell_type": "code",
      "metadata": {
        "jupyter": {
          "outputs_hidden": false
        },
        "colab": {
          "base_uri": "https://localhost:8080/"
        },
        "id": "3WjmB5wnLhsk",
        "outputId": "4cfb94b7-177e-43fc-805d-8c01a71326c4"
      },
      "source": [
        "# Change the value on the index 4 to 0\n",
        "\n",
        "print(\"Inital value on index 4:\", tensor_sample[4])\n",
        "tensor_sample[4] = 0\n",
        "print(\"Modified tensor:\", tensor_sample)"
      ],
      "execution_count": 31,
      "outputs": [
        {
          "output_type": "stream",
          "text": [
            "Inital value on index 4: tensor(4)\n",
            "Modified tensor: tensor([100,   1,   2,   3,   0])\n"
          ],
          "name": "stdout"
        }
      ]
    },
    {
      "cell_type": "markdown",
      "metadata": {
        "id": "0piCayneLhsk"
      },
      "source": [
        "The value on index 4 turns to 0.\n"
      ]
    },
    {
      "cell_type": "markdown",
      "metadata": {
        "id": "yRJf7xZhLhsl"
      },
      "source": [
        "<!--Empty Space for separating topics-->\n"
      ]
    },
    {
      "cell_type": "markdown",
      "metadata": {
        "id": "7vD3qOUILhsl"
      },
      "source": [
        "If you are familiar with Python, you know that there is a feature called slicing on a list. Tensors support the same feature. \n"
      ]
    },
    {
      "cell_type": "markdown",
      "metadata": {
        "id": "LiOlNs8LLhsl"
      },
      "source": [
        "Get the subset of <code>tensor_sample</code>. The subset should contain the values in <code>tensor_sample</code> from index 1 to index 3.\n"
      ]
    },
    {
      "cell_type": "code",
      "metadata": {
        "jupyter": {
          "outputs_hidden": false
        },
        "colab": {
          "base_uri": "https://localhost:8080/"
        },
        "id": "q7wW90F8Lhsm",
        "outputId": "8773c181-d153-4324-8f9c-db8f7867f015"
      },
      "source": [
        "# Slice tensor_sample\n",
        "\n",
        "subset_tensor_sample = tensor_sample[1:4]\n",
        "print(\"Original tensor sample: \", tensor_sample)\n",
        "print(\"The subset of tensor sample:\", subset_tensor_sample)"
      ],
      "execution_count": 32,
      "outputs": [
        {
          "output_type": "stream",
          "text": [
            "Original tensor sample:  tensor([100,   1,   2,   3,   0])\n",
            "The subset of tensor sample: tensor([1, 2, 3])\n"
          ],
          "name": "stdout"
        }
      ]
    },
    {
      "cell_type": "markdown",
      "metadata": {
        "id": "5tqvS_lNLhsm"
      },
      "source": [
        "As a result, the <code>subset_tensor_sample</code> returned only the values on index 1, index 2, and index 3. Then, it stored them in a <code>subset_tensor_sample</code>.\n"
      ]
    },
    {
      "cell_type": "markdown",
      "metadata": {
        "id": "nBQTy1oJLhsm"
      },
      "source": [
        "<b>Note: The number on the left side of the colon represents the index of the first value. The number on the right side of the colon is always 1 larger than the index of the last value. For example, <code>tensor_sample[1:4]</code> means you get values from the index 1 to index 3 <i>(4-1)</i></b>.\n"
      ]
    },
    {
      "cell_type": "markdown",
      "metadata": {
        "id": "0VW7MbF5Lhsm"
      },
      "source": [
        "<!--Empty Space for separating topics-->\n"
      ]
    },
    {
      "cell_type": "markdown",
      "metadata": {
        "id": "zUmvhH8LLhsn"
      },
      "source": [
        "As for assigning values to the certain index, you can also assign the value to the slices:\n"
      ]
    },
    {
      "cell_type": "markdown",
      "metadata": {
        "id": "HG72M-14Lhsn"
      },
      "source": [
        "Change the value of <code>tensor_sample</code> from index 3 to index 4:\n"
      ]
    },
    {
      "cell_type": "code",
      "metadata": {
        "colab": {
          "base_uri": "https://localhost:8080/"
        },
        "id": "ga_CvSlpLhsn",
        "outputId": "7891c07a-672b-436c-ee84-943b581d7512"
      },
      "source": [
        "# Change the values on index 3 and index 4\n",
        "\n",
        "print(\"Inital value on index 3 and index 4:\", tensor_sample[3:5])\n",
        "tensor_sample[3:5] = torch.tensor([300.0, 400.0])\n",
        "print(\"Modified tensor:\", tensor_sample)"
      ],
      "execution_count": 33,
      "outputs": [
        {
          "output_type": "stream",
          "text": [
            "Inital value on index 3 and index 4: tensor([3, 0])\n",
            "Modified tensor: tensor([100,   1,   2, 300, 400])\n"
          ],
          "name": "stdout"
        }
      ]
    },
    {
      "cell_type": "markdown",
      "metadata": {
        "id": "Is4uU9pVLhsn"
      },
      "source": [
        "The values on both index 3 and index 4 were changed. The values on other indexes remain the same.\n"
      ]
    },
    {
      "cell_type": "markdown",
      "metadata": {
        "id": "qaVrFUvlLhso"
      },
      "source": [
        "<!--Empty Space for separating topics-->\n"
      ]
    },
    {
      "cell_type": "markdown",
      "metadata": {
        "id": "9RbpSjZeLhso"
      },
      "source": [
        "You can also use a variable to contain the selected indexes and pass that variable to a tensor slice operation as a parameter, for example:  \n"
      ]
    },
    {
      "cell_type": "code",
      "metadata": {
        "collapsed": true,
        "jupyter": {
          "outputs_hidden": true
        },
        "colab": {
          "base_uri": "https://localhost:8080/"
        },
        "id": "5Xm7bhg1Lhso",
        "outputId": "0962e8b9-af0a-4cb6-f686-9026c4767254"
      },
      "source": [
        "# Using variable to contain the selected index, and pass it to slice operation\n",
        "\n",
        "selected_indexes = [3, 4]\n",
        "subset_tensor_sample = tensor_sample[selected_indexes]\n",
        "print(\"The inital tensor_sample\", tensor_sample)\n",
        "print(\"The subset of tensor_sample with the values on index 3 and 4: \", subset_tensor_sample)"
      ],
      "execution_count": 34,
      "outputs": [
        {
          "output_type": "stream",
          "text": [
            "The inital tensor_sample tensor([100,   1,   2, 300, 400])\n",
            "The subset of tensor_sample with the values on index 3 and 4:  tensor([300, 400])\n"
          ],
          "name": "stdout"
        }
      ]
    },
    {
      "cell_type": "markdown",
      "metadata": {
        "id": "XcWp2seDLhso"
      },
      "source": [
        "<!--Empty Space for separating topics-->\n"
      ]
    },
    {
      "cell_type": "markdown",
      "metadata": {
        "id": "k8cnmVn-Lhsp"
      },
      "source": [
        "You can also assign one value to the selected indexes by using the variable. For example, assign 100,000 to all the <code>selected_indexes</code>:\n"
      ]
    },
    {
      "cell_type": "code",
      "metadata": {
        "jupyter": {
          "outputs_hidden": false
        },
        "colab": {
          "base_uri": "https://localhost:8080/"
        },
        "id": "RTwLV2MnLhsp",
        "outputId": "ed941154-d1cc-4c13-ffa4-9d346c9e4bb6"
      },
      "source": [
        "#Using variable to assign the value to the selected indexes\n",
        "\n",
        "print(\"The inital tensor_sample\", tensor_sample)\n",
        "selected_indexes = [1, 3]\n",
        "tensor_sample[selected_indexes] = 100000\n",
        "print(\"Modified tensor with one value: \", tensor_sample)"
      ],
      "execution_count": 37,
      "outputs": [
        {
          "output_type": "stream",
          "text": [
            "The inital tensor_sample tensor([   100, 100000,      2, 100000,    400])\n",
            "Modified tensor with one value:  tensor([   100, 100000,      2, 100000,    400])\n"
          ],
          "name": "stdout"
        }
      ]
    },
    {
      "cell_type": "markdown",
      "metadata": {
        "id": "vpcNmuc4Lhsp"
      },
      "source": [
        "The values on index 1 and index 3 were changed to 100,000. Others remain the same.\n"
      ]
    },
    {
      "cell_type": "markdown",
      "metadata": {
        "id": "FonMhYvVLhsp"
      },
      "source": [
        "<b>Note: You can use only one value for the assignment.</b>\n"
      ]
    },
    {
      "cell_type": "markdown",
      "metadata": {
        "id": "5C0gxjK3Lhsq"
      },
      "source": [
        "<!--Empty Space for separating topics-->\n"
      ]
    },
    {
      "cell_type": "markdown",
      "metadata": {
        "id": "G4FruzCFLhsq"
      },
      "source": [
        "<h3>Practice</h3>\n"
      ]
    },
    {
      "cell_type": "markdown",
      "metadata": {
        "id": "OJdZEnMQLhsq"
      },
      "source": [
        "Try to change the values on index 3, 4, 7 of the following tensor to 0.\n"
      ]
    },
    {
      "cell_type": "code",
      "metadata": {
        "id": "Bem_bSLCLhsr"
      },
      "source": [
        "# Practice: Change the values on index 3, 4, 7 to 0\n",
        "\n",
        "practice_tensor = torch.tensor([2, 7, 3, 4, 6, 2, 3, 1, 2])\n",
        "practice_tensor[[3,4,7]] = 0"
      ],
      "execution_count": 39,
      "outputs": []
    },
    {
      "cell_type": "markdown",
      "metadata": {
        "id": "qfSroapuLhsr"
      },
      "source": [
        "Double-click <b>here</b> for the solution.\n",
        "\n",
        "<!-- \n",
        "selected_indexes = [3, 4, 7]\n",
        "practice_tensor[selected_indexes] = 0\n",
        "print(\"New Practice Tensor: \", practice_tensor)\n",
        "-->\n"
      ]
    },
    {
      "cell_type": "markdown",
      "metadata": {
        "id": "CsEvizCWLhsr"
      },
      "source": [
        "<!--Empty Space for separating topics-->\n"
      ]
    },
    {
      "cell_type": "markdown",
      "metadata": {
        "id": "HUpc7vEeLhsr"
      },
      "source": [
        "<h2 id=\"Tensor_Func\">Tensor Functions</h2>\n"
      ]
    },
    {
      "cell_type": "markdown",
      "metadata": {
        "id": "ETkgVgAkLhss"
      },
      "source": [
        "For this section, you'll work with some methods that you can apply to tensor objects.\n"
      ]
    },
    {
      "cell_type": "markdown",
      "metadata": {
        "id": "fM2OL0OOLhss"
      },
      "source": [
        "<h3>Mean and Standard Deviation</h3>\n"
      ]
    },
    {
      "cell_type": "markdown",
      "metadata": {
        "id": "3eTBxBX-Lhss"
      },
      "source": [
        "You'll review the mean and standard deviation methods first. They are two basic statistical methods.\n"
      ]
    },
    {
      "cell_type": "markdown",
      "metadata": {
        "id": "6cNYecCELhss"
      },
      "source": [
        "<!--Empty Space for separating topics-->\n"
      ]
    },
    {
      "cell_type": "markdown",
      "metadata": {
        "id": "R-y8hXIELhst"
      },
      "source": [
        "Create a tensor with values <i>[1.0, -1, 1, -1]</i>:\n"
      ]
    },
    {
      "cell_type": "code",
      "metadata": {
        "collapsed": true,
        "jupyter": {
          "outputs_hidden": true
        },
        "colab": {
          "base_uri": "https://localhost:8080/"
        },
        "id": "VzpF_hnBLhst",
        "outputId": "5522173b-b76d-4e59-e86f-a7f1b014d2d9"
      },
      "source": [
        "# Sample tensor for mathmatic calculation methods on tensor\n",
        "\n",
        "math_tensor = torch.tensor([1.0, -1.0, 1, -1])\n",
        "print(\"Tensor example: \", math_tensor)"
      ],
      "execution_count": 40,
      "outputs": [
        {
          "output_type": "stream",
          "text": [
            "Tensor example:  tensor([ 1., -1.,  1., -1.])\n"
          ],
          "name": "stdout"
        }
      ]
    },
    {
      "cell_type": "markdown",
      "metadata": {
        "id": "1kMfrEQ2Lhst"
      },
      "source": [
        "<!--Empty Space for separating topics-->\n"
      ]
    },
    {
      "cell_type": "markdown",
      "metadata": {
        "id": "hgCjJ51-Lhst"
      },
      "source": [
        "Here is the mean method:  \n"
      ]
    },
    {
      "cell_type": "code",
      "metadata": {
        "jupyter": {
          "outputs_hidden": false
        },
        "colab": {
          "base_uri": "https://localhost:8080/"
        },
        "id": "hi80703tLhsu",
        "outputId": "56cfa8c4-2191-4651-c908-1fa3932b69fd"
      },
      "source": [
        "#Calculate the mean for math_tensor\n",
        "\n",
        "mean = math_tensor.mean()\n",
        "print(\"The mean of math_tensor: \", mean)"
      ],
      "execution_count": 41,
      "outputs": [
        {
          "output_type": "stream",
          "text": [
            "The mean of math_tensor:  tensor(0.)\n"
          ],
          "name": "stdout"
        }
      ]
    },
    {
      "cell_type": "markdown",
      "metadata": {
        "id": "UHju4jOCLhsu"
      },
      "source": [
        "<!--Empty Space for separating topics-->\n"
      ]
    },
    {
      "cell_type": "markdown",
      "metadata": {
        "id": "QQ-FPYkiLhsu"
      },
      "source": [
        "The standard deviation can also be calculated by using <code><i>tensor_obj</i>.std()</code>:\n"
      ]
    },
    {
      "cell_type": "code",
      "metadata": {
        "jupyter": {
          "outputs_hidden": false
        },
        "colab": {
          "base_uri": "https://localhost:8080/"
        },
        "id": "uG7eIuzsLhsu",
        "outputId": "e00fd4da-de0d-4145-b2ce-8933970e45fe"
      },
      "source": [
        "#Calculate the standard deviation for math_tensor\n",
        "\n",
        "standard_deviation = math_tensor.std()\n",
        "print(\"The standard deviation of math_tensor: \", standard_deviation)"
      ],
      "execution_count": 42,
      "outputs": [
        {
          "output_type": "stream",
          "text": [
            "The standard deviation of math_tensor:  tensor(1.1547)\n"
          ],
          "name": "stdout"
        }
      ]
    },
    {
      "cell_type": "markdown",
      "metadata": {
        "id": "suLqOGBoLhsv"
      },
      "source": [
        "<!--Empty Space for separating topics-->\n"
      ]
    },
    {
      "cell_type": "markdown",
      "metadata": {
        "id": "leB5IjzYLhsv"
      },
      "source": [
        "<h3>Max and Min</h3>\n"
      ]
    },
    {
      "cell_type": "markdown",
      "metadata": {
        "id": "o66KvYxgLhsv"
      },
      "source": [
        "Now, you'll review another two useful methods: <code><i>tensor_obj</i>.max()</code> and <code><i>tensor_obj</i>.min()</code>. These two methods are used for finding the maximum value and the minimum value in the tensor.\n"
      ]
    },
    {
      "cell_type": "markdown",
      "metadata": {
        "id": "JG_uoKxuLhsv"
      },
      "source": [
        "<!--Empty Space for separating topics-->\n"
      ]
    },
    {
      "cell_type": "markdown",
      "metadata": {
        "id": "G-MvN38NLhsw"
      },
      "source": [
        "Create a <code>max_min_tensor</code>: \n"
      ]
    },
    {
      "cell_type": "code",
      "metadata": {
        "jupyter": {
          "outputs_hidden": false
        },
        "colab": {
          "base_uri": "https://localhost:8080/"
        },
        "id": "mwDLulRSLhsw",
        "outputId": "039c3054-db32-4d09-d0f6-818efd1ae1c5"
      },
      "source": [
        "# Sample for introducing max and min methods\n",
        "\n",
        "max_min_tensor = torch.tensor([1, 1, 3, 5, 5])\n",
        "print(\"Tensor example: \", max_min_tensor)"
      ],
      "execution_count": 43,
      "outputs": [
        {
          "output_type": "stream",
          "text": [
            "Tensor example:  tensor([1, 1, 3, 5, 5])\n"
          ],
          "name": "stdout"
        }
      ]
    },
    {
      "cell_type": "markdown",
      "metadata": {
        "id": "AGX02K52Lhsw"
      },
      "source": [
        "<b>Note: There are two minimum numbers as 1 and two maximum numbers as 5 in the tensor. Can you guess how PyTorch is going to deal with the duplicates?</b>\n"
      ]
    },
    {
      "cell_type": "markdown",
      "metadata": {
        "id": "iD1OLfmbLhsx"
      },
      "source": [
        "<!--Empty Space for separating topics-->\n"
      ]
    },
    {
      "cell_type": "markdown",
      "metadata": {
        "id": "Thm3wJFhLhsx"
      },
      "source": [
        "Apply <code><i>tensor_obj</i>.max()</code> on <code>max_min_tensor</code>:\n"
      ]
    },
    {
      "cell_type": "code",
      "metadata": {
        "jupyter": {
          "outputs_hidden": false
        },
        "colab": {
          "base_uri": "https://localhost:8080/"
        },
        "id": "INSPF3dcLhsx",
        "outputId": "1d996543-327a-4a67-b247-da4123b16d57"
      },
      "source": [
        "# Method for finding the maximum value in the tensor\n",
        "\n",
        "max_val = max_min_tensor.max()\n",
        "print(\"Maximum number in the tensor: \", max_val)"
      ],
      "execution_count": 44,
      "outputs": [
        {
          "output_type": "stream",
          "text": [
            "Maximum number in the tensor:  tensor(5)\n"
          ],
          "name": "stdout"
        }
      ]
    },
    {
      "cell_type": "markdown",
      "metadata": {
        "id": "sFb5uP3nLhsx"
      },
      "source": [
        "The answer is <code>tensor(5)</code>. Therefore, the method <code><i>tensor_obj</i>.max()</code> is grabbing the maximum value but not the elements that contain the maximum value in the tensor.\n"
      ]
    },
    {
      "cell_type": "code",
      "metadata": {
        "colab": {
          "base_uri": "https://localhost:8080/"
        },
        "id": "lBmgBMtwLhsy",
        "outputId": "a98c11f3-d8bb-451d-dfd8-2142bccce4fb"
      },
      "source": [
        " max_min_tensor.max()"
      ],
      "execution_count": 45,
      "outputs": [
        {
          "output_type": "execute_result",
          "data": {
            "text/plain": [
              "tensor(5)"
            ]
          },
          "metadata": {
            "tags": []
          },
          "execution_count": 45
        }
      ]
    },
    {
      "cell_type": "markdown",
      "metadata": {
        "id": "PD7vPMGkLhsy"
      },
      "source": [
        "<!--Empty Space for separating topics-->\n"
      ]
    },
    {
      "cell_type": "markdown",
      "metadata": {
        "id": "cee54AGFLhsy"
      },
      "source": [
        "Use <code><i>tensor_obj</i>.min()</code> on <code>max_min_tensor</code>:\n"
      ]
    },
    {
      "cell_type": "code",
      "metadata": {
        "jupyter": {
          "outputs_hidden": false
        },
        "colab": {
          "base_uri": "https://localhost:8080/"
        },
        "id": "pihOHfc4Lhsy",
        "outputId": "a7d72a83-e2d7-481d-959e-77114d6deae8"
      },
      "source": [
        "# Method for finding the minimum value in the tensor\n",
        "\n",
        "min_val = max_min_tensor.min()\n",
        "print(\"Minimum number in the tensor: \", min_val)"
      ],
      "execution_count": 46,
      "outputs": [
        {
          "output_type": "stream",
          "text": [
            "Minimum number in the tensor:  tensor(1)\n"
          ],
          "name": "stdout"
        }
      ]
    },
    {
      "cell_type": "markdown",
      "metadata": {
        "id": "qXawMUgCLhsz"
      },
      "source": [
        "The answer is <code>tensor(1)</code>. Therefore, the method <code><i>tensor_obj</i>.min()</code> is grabbing the minimum value but not the elements that contain the minimum value in the tensor.\n"
      ]
    },
    {
      "cell_type": "markdown",
      "metadata": {
        "id": "UBLoWAJQLhsz"
      },
      "source": [
        "<!--Empty Space for separating topics-->\n"
      ]
    },
    {
      "cell_type": "markdown",
      "metadata": {
        "id": "esPVXu8ULhsz"
      },
      "source": [
        "<h3>Sin</h3>\n"
      ]
    },
    {
      "cell_type": "markdown",
      "metadata": {
        "id": "2fG7nsHiLhsz"
      },
      "source": [
        "Sin is the trigonometric function of an angle. Again, you will not be introducedvto any mathematic functions. You'll focus on Python.\n"
      ]
    },
    {
      "cell_type": "markdown",
      "metadata": {
        "id": "X4upQxshLhs0"
      },
      "source": [
        "<!--Empty Space for separating topics-->\n"
      ]
    },
    {
      "cell_type": "markdown",
      "metadata": {
        "id": "pu9w0EObLhs0"
      },
      "source": [
        "Create a tensor with 0, π/2 and π. Then, apply the sin function on the tensor. Notice here that the <code>sin()</code> is not a method of tensor object but is a function of torch:\n"
      ]
    },
    {
      "cell_type": "code",
      "metadata": {
        "jupyter": {
          "outputs_hidden": false
        },
        "colab": {
          "base_uri": "https://localhost:8080/"
        },
        "id": "I6l1pLOyLhs0",
        "outputId": "69d8d0a0-cdef-48b1-cfb8-634db96da07a"
      },
      "source": [
        "# Method for calculating the sin result of each element in the tensor\n",
        "\n",
        "pi_tensor = torch.tensor([0, np.pi/2, np.pi])\n",
        "sin = torch.sin(pi_tensor)\n",
        "print(\"The sin result of pi_tensor: \", sin)"
      ],
      "execution_count": 47,
      "outputs": [
        {
          "output_type": "stream",
          "text": [
            "The sin result of pi_tensor:  tensor([ 0.0000e+00,  1.0000e+00, -8.7423e-08])\n"
          ],
          "name": "stdout"
        }
      ]
    },
    {
      "cell_type": "markdown",
      "metadata": {
        "id": "xaSnGw_oLhs1"
      },
      "source": [
        "The resultant tensor <code>sin</code> contains the result of the <code>sin</code> function applied to each element in the <code>pi_tensor</code>.<br>\n",
        "This is different from the previous methods. For <code><i>tensor_obj</i>.mean()</code>, <code><i>tensor_obj</i>.std()</code>, <code><i>tensor_obj</i>.max()</code>, and <code><i>tensor_obj</i>.min()</code>, the result is a tensor with only one number because these are aggregate methods.<br>\n",
        "However, the <code>torch.sin()</code> is not. Therefore, the resultant tensors have the same length as the input tensor.\n"
      ]
    },
    {
      "cell_type": "markdown",
      "metadata": {
        "id": "Ii4JJGbTLhs1"
      },
      "source": [
        "<!--Empty Space for separating topics-->\n"
      ]
    },
    {
      "cell_type": "markdown",
      "metadata": {
        "id": "NnUAc08dLhs1"
      },
      "source": [
        "<h3>Create Tensor by <code>torch.linspace()</code></h3>\n"
      ]
    },
    {
      "cell_type": "markdown",
      "metadata": {
        "id": "G90lj59YLhs1"
      },
      "source": [
        "A useful function for plotting mathematical functions is <code>torch.linspace()</code>. <code>torch.linspace()</code> returns evenly spaced numbers over a specified interval. You specify the starting point of the sequence and the ending point of the sequence. The parameter <code>steps</code> indicates the number of samples to generate. Now, you'll work with <code>steps = 5</code>.\n"
      ]
    },
    {
      "cell_type": "code",
      "metadata": {
        "jupyter": {
          "outputs_hidden": false
        },
        "colab": {
          "base_uri": "https://localhost:8080/"
        },
        "id": "yEBxpoXYLhs2",
        "outputId": "25a85008-112c-4fd7-d88a-8c3e3de95fe0"
      },
      "source": [
        "# First try on using linspace to create tensor\n",
        "\n",
        "len_5_tensor = torch.linspace(-2, 2, steps = 5)\n",
        "print (\"First Try on linspace\", len_5_tensor)"
      ],
      "execution_count": 48,
      "outputs": [
        {
          "output_type": "stream",
          "text": [
            "First Try on linspace tensor([-2., -1.,  0.,  1.,  2.])\n"
          ],
          "name": "stdout"
        }
      ]
    },
    {
      "cell_type": "markdown",
      "metadata": {
        "id": "fkn3S7x2Lhs2"
      },
      "source": [
        "<!--Empty Space for separating topics-->\n"
      ]
    },
    {
      "cell_type": "markdown",
      "metadata": {
        "id": "0DifZ_mwLhs2"
      },
      "source": [
        "Assign <code>steps</code> with 9:\n"
      ]
    },
    {
      "cell_type": "code",
      "metadata": {
        "jupyter": {
          "outputs_hidden": false
        },
        "colab": {
          "base_uri": "https://localhost:8080/"
        },
        "id": "82U8yhWtLhs3",
        "outputId": "47e69768-3ccd-438a-deba-7a4a6c416bf9"
      },
      "source": [
        "# Second try on using linspace to create tensor\n",
        "\n",
        "len_9_tensor = torch.linspace(-2, 2, steps = 9)\n",
        "print (\"Second Try on linspace\", len_9_tensor)"
      ],
      "execution_count": 49,
      "outputs": [
        {
          "output_type": "stream",
          "text": [
            "Second Try on linspace tensor([-2.0000, -1.5000, -1.0000, -0.5000,  0.0000,  0.5000,  1.0000,  1.5000,\n",
            "         2.0000])\n"
          ],
          "name": "stdout"
        }
      ]
    },
    {
      "cell_type": "markdown",
      "metadata": {
        "id": "4Soi-FilLhs3"
      },
      "source": [
        "<!--Empty Space for separating topics-->\n"
      ]
    },
    {
      "cell_type": "markdown",
      "metadata": {
        "id": "tP5YnTa6Lhs3"
      },
      "source": [
        "Use both <code>torch.linspace()</code> and <code>torch.sin()</code> to construct a tensor that contains the 100 sin result in range from 0 (0 degree) to 2π (360 degree): \n"
      ]
    },
    {
      "cell_type": "code",
      "metadata": {
        "jupyter": {
          "outputs_hidden": false
        },
        "id": "5G7IPXLILhs3"
      },
      "source": [
        "# Construct the tensor within 0 to 360 degree\n",
        "\n",
        "pi_tensor = torch.linspace(0, 2*np.pi, 100)\n",
        "sin_result = torch.sin(pi_tensor)"
      ],
      "execution_count": 50,
      "outputs": []
    },
    {
      "cell_type": "markdown",
      "metadata": {
        "id": "o20xnb13Lhs4"
      },
      "source": [
        "Plot the result to get a clearer picture. You must cast the tensor to a numpy array before plotting it.\n"
      ]
    },
    {
      "cell_type": "code",
      "metadata": {
        "jupyter": {
          "outputs_hidden": false
        },
        "colab": {
          "base_uri": "https://localhost:8080/",
          "height": 282
        },
        "id": "gc9lHthCLhs4",
        "outputId": "c4ef2fa3-cbb7-4190-bf03-a60606ea0f7d"
      },
      "source": [
        "# Plot sin_result\n",
        "\n",
        "plt.plot(pi_tensor.numpy(), sin_result.numpy())"
      ],
      "execution_count": 51,
      "outputs": [
        {
          "output_type": "execute_result",
          "data": {
            "text/plain": [
              "[<matplotlib.lines.Line2D at 0x7fba062426d0>]"
            ]
          },
          "metadata": {
            "tags": []
          },
          "execution_count": 51
        },
        {
          "output_type": "display_data",
          "data": {
            "image/png": "[encoded data removed]",
            "text/plain": [
              "<Figure size 432x288 with 1 Axes>"
            ]
          },
          "metadata": {
            "tags": [],
            "needs_background": "light"
          }
        }
      ]
    },
    {
      "cell_type": "markdown",
      "metadata": {
        "id": "QqyJXn_bLhs4"
      },
      "source": [
        "If you know the trigonometric function, you will notice this is the diagram of the sin result in the range 0 to 360 degrees.\n"
      ]
    },
    {
      "cell_type": "markdown",
      "metadata": {
        "id": "e-iDmc95Lhs4"
      },
      "source": [
        "<!--Empty Space for separating topics-->\n"
      ]
    },
    {
      "cell_type": "markdown",
      "metadata": {
        "id": "etGmz_mBLhs5"
      },
      "source": [
        "<h3>Practice</h3>\n"
      ]
    },
    {
      "cell_type": "markdown",
      "metadata": {
        "id": "te4tNPchLhs5"
      },
      "source": [
        "Construct a tensor with 25 steps in the range 0 to π/2. Print out the Maximum and Minimum number. Also, plot  a graph showing the diagram that shows the result.\n"
      ]
    },
    {
      "cell_type": "code",
      "metadata": {
        "id": "7DXDMKVnLhs5"
      },
      "source": [
        "# Practice: Create your tensor, print max and min number, plot the sin result diagram\n",
        "\n",
        "# Type your code here"
      ],
      "execution_count": null,
      "outputs": []
    },
    {
      "cell_type": "markdown",
      "metadata": {
        "id": "nTFIosqBLhs6"
      },
      "source": [
        "Double-click <b>here</b> for the solution.\n",
        "\n",
        "<!-- \n",
        "pi_tensor = torch.linspace(0, np.pi/2, 100)\n",
        "print(\"Max Number: \", pi_tensor.max())\n",
        "print(\"Min Number\", pi_tensor.min())\n",
        "sin_result = torch.sin(pi_tensor)\n",
        "plt.plot(pi_tensor.numpy(), sin_result.numpy())\n",
        "-->\n"
      ]
    },
    {
      "cell_type": "markdown",
      "metadata": {
        "id": "ZIzRchpYLhs6"
      },
      "source": [
        "<!--Empty Space for separating topics-->\n"
      ]
    },
    {
      "cell_type": "markdown",
      "metadata": {
        "id": "n4rjyLhpLhs6"
      },
      "source": [
        "<h2 id=\"Tensor_Op\">Tensor Operations</h2>\n"
      ]
    },
    {
      "cell_type": "markdown",
      "metadata": {
        "id": "00FB63cVLhs6"
      },
      "source": [
        "In the following section, you'll work with operations that you can apply to a tensor.\n"
      ]
    },
    {
      "cell_type": "markdown",
      "metadata": {
        "id": "NLzuzEKILhs7"
      },
      "source": [
        "<!--Empty Space for separating topics-->\n"
      ]
    },
    {
      "cell_type": "markdown",
      "metadata": {
        "id": "9pDLw2JLLhs7"
      },
      "source": [
        "<h3>Tensor Addition</h3>\n"
      ]
    },
    {
      "cell_type": "markdown",
      "metadata": {
        "id": "e504Kh6pLhs7"
      },
      "source": [
        "You can perform addition between two tensors.\n"
      ]
    },
    {
      "cell_type": "markdown",
      "metadata": {
        "id": "A_Uv2olYLhs7"
      },
      "source": [
        "Create a tensor <code>u</code> with 1 dimension and 2 elements. Then, create another tensor <code>v</code> with the same number of dimensions and the same number of elements:\n"
      ]
    },
    {
      "cell_type": "code",
      "metadata": {
        "jupyter": {
          "outputs_hidden": false
        },
        "id": "0nR5U1HtLhs8"
      },
      "source": [
        "# Create two sample tensors\n",
        "\n",
        "u = torch.tensor([1, 0])\n",
        "v = torch.tensor([0, 1])"
      ],
      "execution_count": 52,
      "outputs": []
    },
    {
      "cell_type": "markdown",
      "metadata": {
        "id": "CCNg6PPfLhs8"
      },
      "source": [
        "Add <code>u</code> and <code>v</code> together:\n"
      ]
    },
    {
      "cell_type": "code",
      "metadata": {
        "jupyter": {
          "outputs_hidden": false
        },
        "colab": {
          "base_uri": "https://localhost:8080/"
        },
        "id": "kVvOmY_8Lhs8",
        "outputId": "de518287-809b-472c-ea85-1e64a18dcfe4"
      },
      "source": [
        "# Add u and v\n",
        "\n",
        "w = u + v\n",
        "print(\"The result tensor: \", w)"
      ],
      "execution_count": 53,
      "outputs": [
        {
          "output_type": "stream",
          "text": [
            "The result tensor:  tensor([1, 1])\n"
          ],
          "name": "stdout"
        }
      ]
    },
    {
      "cell_type": "markdown",
      "metadata": {
        "id": "LUOZ28DGLhs9"
      },
      "source": [
        "The result is <code>tensor([1, 1])</code>. The behavior is <i>[1 + 0, 0 + 1]</i>.\n"
      ]
    },
    {
      "cell_type": "markdown",
      "metadata": {
        "id": "DuNcBWq6Lhs9"
      },
      "source": [
        "Plot the result to to get a clearer picture.\n"
      ]
    },
    {
      "cell_type": "code",
      "metadata": {
        "jupyter": {
          "outputs_hidden": false
        },
        "colab": {
          "base_uri": "https://localhost:8080/",
          "height": 269
        },
        "id": "6AGJu6wgLhs9",
        "outputId": "5d29ba18-7ab1-4d98-bbd8-e38d500adddb"
      },
      "source": [
        "# Plot u, v, w\n",
        "\n",
        "plotVec([\n",
        "    {\"vector\": u.numpy(), \"name\": 'u', \"color\": 'r'},\n",
        "    {\"vector\": v.numpy(), \"name\": 'v', \"color\": 'b'},\n",
        "    {\"vector\": w.numpy(), \"name\": 'w', \"color\": 'g'}\n",
        "])"
      ],
      "execution_count": 56,
      "outputs": [
        {
          "output_type": "display_data",
          "data": {
            "image/png": "[encoded data removed]",
            "text/plain": [
              "<Figure size 432x288 with 1 Axes>"
            ]
          },
          "metadata": {
            "tags": [],
            "needs_background": "light"
          }
        }
      ]
    },
    {
      "cell_type": "markdown",
      "metadata": {
        "id": "SI-u-XnnLhs9"
      },
      "source": [
        "<!--Empty Space for separating topics-->\n"
      ]
    },
    {
      "cell_type": "markdown",
      "metadata": {
        "id": "WugLsSEnLhs-"
      },
      "source": [
        "<h3>Try</h3> \n"
      ]
    },
    {
      "cell_type": "markdown",
      "metadata": {
        "id": "75B7kMghLhs-"
      },
      "source": [
        "Implement the tensor subtraction with <code>u</code> and <code>v</code> as u-v.\n"
      ]
    },
    {
      "cell_type": "code",
      "metadata": {
        "jupyter": {
          "outputs_hidden": false
        },
        "id": "x-STLYDDLhs-"
      },
      "source": [
        "# Try by yourself to get a result of u-v\n",
        "\n",
        "u = torch.tensor([1, 0])\n",
        "v = torch.tensor([0, 1])"
      ],
      "execution_count": 57,
      "outputs": []
    },
    {
      "cell_type": "markdown",
      "metadata": {
        "id": "gbjq7yhOLhs-"
      },
      "source": [
        "Double-click <b>here</b> for the solution.\n",
        "\n",
        "<!--\n",
        "print(\"The result tensor: \", u-v)\n",
        "-->\n"
      ]
    },
    {
      "cell_type": "markdown",
      "metadata": {
        "id": "Yoo3WDe2Lhs_"
      },
      "source": [
        "Tensors must be of the same data type to perform addition as well as other operations.If you uncomment the  following code and try to run it you will get an error as the two tensors are of two different data types. **NOTE This lab was created on a older PyTorch version so in the current version we are using this is possible and will produce a float64 tensor.**\n"
      ]
    },
    {
      "cell_type": "code",
      "metadata": {
        "colab": {
          "base_uri": "https://localhost:8080/"
        },
        "id": "tDFm6c7RLhs_",
        "outputId": "56a52bf4-7ee5-4ed4-cd62-884aa4549a14"
      },
      "source": [
        "torch.tensor([1,2,3],dtype=torch.int64)+torch.tensor([1,2,3],dtype=torch.float64)"
      ],
      "execution_count": 58,
      "outputs": [
        {
          "output_type": "execute_result",
          "data": {
            "text/plain": [
              "tensor([2., 4., 6.], dtype=torch.float64)"
            ]
          },
          "metadata": {
            "tags": []
          },
          "execution_count": 58
        }
      ]
    },
    {
      "cell_type": "markdown",
      "metadata": {
        "id": "TNcTYWTlLhs_"
      },
      "source": [
        "<!--Empty Space for separating topics-->\n"
      ]
    },
    {
      "cell_type": "markdown",
      "metadata": {
        "id": "Vy_xm4A2LhtA"
      },
      "source": [
        "You can add a scalar to the tensor. Use <code>u</code> as the sample tensor:\n"
      ]
    },
    {
      "cell_type": "code",
      "metadata": {
        "colab": {
          "base_uri": "https://localhost:8080/"
        },
        "id": "O29jkkMmLhtA",
        "outputId": "0b646dc6-13dc-48f8-c260-afed13ec6c29"
      },
      "source": [
        "# tensor + scalar\n",
        "\n",
        "u = torch.tensor([1, 2, 3, -1])\n",
        "v = u + 1\n",
        "print (\"Addition Result: \", v)"
      ],
      "execution_count": 59,
      "outputs": [
        {
          "output_type": "stream",
          "text": [
            "Addition Result:  tensor([2, 3, 4, 0])\n"
          ],
          "name": "stdout"
        }
      ]
    },
    {
      "cell_type": "markdown",
      "metadata": {
        "id": "FIKAaMjhLhtA"
      },
      "source": [
        "The result is simply adding 1 to each element in tensor <code>u</code> as shown in the following image:\n"
      ]
    },
    {
      "cell_type": "markdown",
      "metadata": {
        "id": "_A7w3MS_LhtA"
      },
      "source": [
        "<img src = \"https://s3-api.us-geo.objectstorage.softlayer.net/cf-courses-data/CognitiveClass/DL0110EN/notebook_images%20/chapter%201/brodcasting.gif\" width = \"500\" alt=\"tensor addition\" />\n"
      ]
    },
    {
      "cell_type": "markdown",
      "metadata": {
        "id": "LqdZPEFPLhtB"
      },
      "source": [
        "<!--Empty Space for separating topics-->\n"
      ]
    },
    {
      "cell_type": "markdown",
      "metadata": {
        "id": "JzEvJJwuLhtB"
      },
      "source": [
        "<h3>Tensor Multiplication </h3>\n"
      ]
    },
    {
      "cell_type": "markdown",
      "metadata": {
        "id": "7EMQKaTMLhtB"
      },
      "source": [
        "Now, you'll review the multiplication between a tensor and a scalar.\n"
      ]
    },
    {
      "cell_type": "markdown",
      "metadata": {
        "id": "dy7OpsNLLhtC"
      },
      "source": [
        "Create a tensor with value <code>[1, 2]</code> and then multiply it by 2:\n"
      ]
    },
    {
      "cell_type": "code",
      "metadata": {
        "jupyter": {
          "outputs_hidden": false
        },
        "colab": {
          "base_uri": "https://localhost:8080/"
        },
        "id": "NYRAwf7ZLhtC",
        "outputId": "fc55b6e2-9397-4c49-aeff-15c69fb11952"
      },
      "source": [
        "# tensor * scalar\n",
        "\n",
        "u = torch.tensor([1, 2])\n",
        "v = 2 * u\n",
        "print(\"The result of 2 * u: \", v)"
      ],
      "execution_count": 60,
      "outputs": [
        {
          "output_type": "stream",
          "text": [
            "The result of 2 * u:  tensor([2, 4])\n"
          ],
          "name": "stdout"
        }
      ]
    },
    {
      "cell_type": "markdown",
      "metadata": {
        "id": "RAzzGCmRLhtD"
      },
      "source": [
        "The result is <code>tensor([2, 4])</code>, so the code <code>2 * u</code> multiplies each element in the tensor by 2. This is how you get the product between a vector or matrix and a scalar in linear algebra.\n"
      ]
    },
    {
      "cell_type": "markdown",
      "metadata": {
        "id": "5Et_38NiLhtD"
      },
      "source": [
        "<!--Empty Space for separating topics-->\n"
      ]
    },
    {
      "cell_type": "markdown",
      "metadata": {
        "id": "_pPh0BqXLhtD"
      },
      "source": [
        "You can use multiplication between two tensors.\n"
      ]
    },
    {
      "cell_type": "markdown",
      "metadata": {
        "id": "rhnqYFhbLhtD"
      },
      "source": [
        "Create two tensors <code>u</code> and <code>v</code> and then multiply them together:\n"
      ]
    },
    {
      "cell_type": "code",
      "metadata": {
        "jupyter": {
          "outputs_hidden": false
        },
        "colab": {
          "base_uri": "https://localhost:8080/"
        },
        "id": "y05ot-1NLhtE",
        "outputId": "2f8d74f8-3af9-4de7-8d75-6d443e27c808"
      },
      "source": [
        "# tensor * tensor\n",
        "\n",
        "u = torch.tensor([1, 2])\n",
        "v = torch.tensor([3, 2])\n",
        "w = u * v\n",
        "print (\"The result of u * v\", w)"
      ],
      "execution_count": 61,
      "outputs": [
        {
          "output_type": "stream",
          "text": [
            "The result of u * v tensor([3, 4])\n"
          ],
          "name": "stdout"
        }
      ]
    },
    {
      "cell_type": "markdown",
      "metadata": {
        "id": "1-7NXN3bLhtE"
      },
      "source": [
        "The result is simply <code>tensor([3, 4])</code>. This result is achieved by multiplying every element in <code>u</code> with the corresponding element in the same position <code>v</code>, which is similar to <i>[1 * 3, 2 * 2]</i>.\n"
      ]
    },
    {
      "cell_type": "markdown",
      "metadata": {
        "id": "i9ZzqPKkLhtE"
      },
      "source": [
        "<!--Empty Space for separating topics-->\n"
      ]
    },
    {
      "cell_type": "markdown",
      "metadata": {
        "id": "4XnE_d3KLhtE"
      },
      "source": [
        "<h3>Dot Product</h3>\n"
      ]
    },
    {
      "cell_type": "markdown",
      "metadata": {
        "id": "uR85PmwNLhtF"
      },
      "source": [
        "The dot product is a special operation for a vector that you can use in Torch.\n"
      ]
    },
    {
      "cell_type": "markdown",
      "metadata": {
        "id": "Xo8l41SGLhtF"
      },
      "source": [
        "Here is the dot product of the two tensors <code>u</code> and <code>v</code>:\n"
      ]
    },
    {
      "cell_type": "code",
      "metadata": {
        "colab": {
          "base_uri": "https://localhost:8080/"
        },
        "id": "hmGwWgdQLhtF",
        "outputId": "75c08435-3956-407c-ffc4-7d62dd1c0b5e"
      },
      "source": [
        "# Calculate dot product of u, v\n",
        "\n",
        "u = torch.tensor([1, 2])\n",
        "v = torch.tensor([3, 2])\n",
        "\n",
        "print(\"Dot Product of u, v:\", torch.dot(u,v))"
      ],
      "execution_count": 62,
      "outputs": [
        {
          "output_type": "stream",
          "text": [
            "Dot Product of u, v: tensor(7)\n"
          ],
          "name": "stdout"
        }
      ]
    },
    {
      "cell_type": "markdown",
      "metadata": {
        "id": "WSPPDTaYLhtF"
      },
      "source": [
        "The result is <code>tensor(7)</code>. The function is <i>1 x 3 + 2 x 2 = 7</i>.\n"
      ]
    },
    {
      "cell_type": "markdown",
      "metadata": {
        "id": "uqrWrmxoLhtG"
      },
      "source": [
        "<!--Empty Space for separating topics-->\n"
      ]
    },
    {
      "cell_type": "markdown",
      "metadata": {
        "id": "dcznHVR_LhtG"
      },
      "source": [
        "<h3>Practice</h3>\n"
      ]
    },
    {
      "cell_type": "markdown",
      "metadata": {
        "id": "mi8r5PU1LhtH"
      },
      "source": [
        "Convert the list <i>[-1, 1]</i> and <i>[1, 1]</i> to tensors <code>u</code> and <code>v</code>. Then, plot the tensor <code>u</code> and <code>v</code> as a vector by using the function <code>plotVec</code> and find the dot product:\n"
      ]
    },
    {
      "cell_type": "code",
      "metadata": {
        "jupyter": {
          "outputs_hidden": false
        },
        "id": "VzkHrVdELhtI"
      },
      "source": [
        "# Practice: calculate the dot product of u and v, and plot out two vectors\n",
        "\n",
        "# Type your code here"
      ],
      "execution_count": null,
      "outputs": []
    },
    {
      "cell_type": "markdown",
      "metadata": {
        "id": "DMqu4vp4LhtI"
      },
      "source": [
        "Double-click <b>here</b> for the solution.\n",
        "\n",
        "<!-- \n",
        "u= torch.tensor([-1, 1])\n",
        "v= torch.tensor([1, 1])\n",
        "plotVec([\n",
        "    {\"vector\": u.numpy(), \"name\": 'u', \"color\": 'r'},\n",
        "    {\"vector\": v.numpy(), \"name\": 'v', \"color\": 'b'}\n",
        "])\n",
        "print(\"The Dot Product is\",np.dot(u, v))\n",
        " -->\n"
      ]
    },
    {
      "cell_type": "markdown",
      "metadata": {
        "id": "hg3HjN8ELhtJ"
      },
      "source": [
        "<!--Empty Space for separating topics-->\n"
      ]
    },
    {
      "cell_type": "markdown",
      "metadata": {
        "id": "6qPPV7lkLhtJ"
      },
      "source": [
        "See <a href=\"https://docs.scipy.org/doc/numpy-1.13.0/user/basics.broadcasting.html\">Broadcasting</a> for more information on numpy that is similar to PyTorch.\n"
      ]
    },
    {
      "cell_type": "markdown",
      "metadata": {
        "id": "h9rBKnYcLhtJ"
      },
      "source": [
        "<a href=\"https://dataplatform.cloud.ibm.com/registration/stepone?context=cpdaas&apps=data_science_experience,watson_machine_learning\"><img src=\"https://cf-courses-data.s3.us.cloud-object-storage.appdomain.cloud/IBMDeveloperSkillsNetwork-DL0110EN-SkillsNetwork/Template/module%201/images/Watson_Studio.png\"/></a>\n"
      ]
    },
    {
      "cell_type": "markdown",
      "metadata": {
        "id": "LerKzz8nLhtK"
      },
      "source": [
        "<h2>About the Authors:</h2> \n",
        "\n",
        "<a href=\"https://www.linkedin.com/in/joseph-s-50398b136/\">Joseph Santarcangelo</a> has a PhD in Electrical Engineering, his research focused on using machine learning, signal processing, and computer vision to determine how videos impact human cognition. Joseph has been working for IBM since he completed his PhD.\n"
      ]
    },
    {
      "cell_type": "markdown",
      "metadata": {
        "id": "4wLIY4pmLhtK"
      },
      "source": [
        "Other contributors: <a href=\"https://www.linkedin.com/in/michelleccarey/\">Michelle Carey</a>, <a href=\"www.linkedin.com/in/jiahui-mavis-zhou-a4537814a\">Mavis Zhou</a> \n"
      ]
    },
    {
      "cell_type": "markdown",
      "metadata": {
        "id": "mL4dc3EvLhtK"
      },
      "source": [
        "## Change Log\n",
        "\n",
        "| Date (YYYY-MM-DD) | Version | Changed By | Change Description                                          |\n",
        "| ----------------- | ------- | ---------- | ----------------------------------------------------------- |\n",
        "| 2020-09-21        | 2.0     | Shubham    | Migrated Lab to Markdown and added to course repo in GitLab |\n"
      ]
    },
    {
      "cell_type": "markdown",
      "metadata": {
        "id": "dul8YyL4LhtL"
      },
      "source": [
        "<hr>\n"
      ]
    },
    {
      "cell_type": "markdown",
      "metadata": {
        "id": "vZFVoktULhtL"
      },
      "source": [
        "## <h3 align=\"center\"> © IBM Corporation 2020. All rights reserved. <h3/>\n"
      ]
    }
  ]
}