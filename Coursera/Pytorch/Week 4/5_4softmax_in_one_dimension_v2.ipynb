{
  "nbformat": 4,
  "nbformat_minor": 0,
  "metadata": {
    "kernelspec": {
      "display_name": "Python 3",
      "language": "python",
      "name": "python3"
    },
    "language_info": {
      "codemirror_mode": {
        "name": "ipython",
        "version": 3
      },
      "file_extension": ".py",
      "mimetype": "text/x-python",
      "name": "python",
      "nbconvert_exporter": "python",
      "pygments_lexer": "ipython3",
      "version": "3.7.6"
    },
    "colab": {
      "name": "5.4softmax_in_one_dimension_v2.ipynb",
      "provenance": []
    }
  },
  "cells": [
    {
      "cell_type": "markdown",
      "metadata": {
        "id": "1tlsDhPQt_R1"
      },
      "source": [
        "<center>\n",
        "    <img src=\"https://cf-courses-data.s3.us.cloud-object-storage.appdomain.cloud/IBMDeveloperSkillsNetwork-DL0110EN-SkillsNetwork/Template/module%201/images/IDSNlogo.png\" width=\"300\" alt=\"cognitiveclass.ai logo\"  />\n",
        "</center>\n"
      ]
    },
    {
      "cell_type": "markdown",
      "metadata": {
        "id": "IuAtVokXt_R9"
      },
      "source": [
        "<h1>Softmax Classifer 1D</h1>\n"
      ]
    },
    {
      "cell_type": "markdown",
      "metadata": {
        "id": "kec03VV_t_SA"
      },
      "source": [
        "<h2>Objective</h2><ul><li> How to build a Softmax classifier by using the Sequential module in pytorch.</li></ul> \n"
      ]
    },
    {
      "cell_type": "markdown",
      "metadata": {
        "id": "ckRPuCWOt_SC"
      },
      "source": [
        "<h2>Table of Contents</h2>\n",
        "<p>In this lab, you will use Softmax to classify three linearly separable classes, the features are in one dimension </p>\n",
        "<ul>\n",
        "    <li><a href=\"#Makeup_Data\">Make Some Data</a></li>\n",
        "    <li><a href=\"#Softmax\">Build Softmax Classifier</a></li>\n",
        "    <li><a href=\"#Model_Cost\">Train the Model</a></li>\n",
        "    <li><a href=\"#Result\">Analyze Results</a></li>\n",
        "</ul>\n",
        "<p>Estimated Time Needed: <strong>25 min</strong></p>\n",
        "\n",
        "<hr>\n"
      ]
    },
    {
      "cell_type": "markdown",
      "metadata": {
        "id": "RG3aYoAAt_SF"
      },
      "source": [
        "<h2>Preparation</h2>\n"
      ]
    },
    {
      "cell_type": "markdown",
      "metadata": {
        "id": "5c58BhbLt_SH"
      },
      "source": [
        "We'll need the following libraries:\n"
      ]
    },
    {
      "cell_type": "code",
      "metadata": {
        "id": "h2wbnc7Bt_SJ"
      },
      "source": [
        "# Import the libraries we need for this lab\n",
        "\n",
        "import torch.nn as nn\n",
        "import torch\n",
        "import matplotlib.pyplot as plt \n",
        "import numpy as np\n",
        "from torch.utils.data import Dataset, DataLoader"
      ],
      "execution_count": 1,
      "outputs": []
    },
    {
      "cell_type": "markdown",
      "metadata": {
        "id": "UspLNkWot_SL"
      },
      "source": [
        "Use the helper function to plot labeled data points: \n"
      ]
    },
    {
      "cell_type": "code",
      "metadata": {
        "id": "X74Hffqut_SM"
      },
      "source": [
        "# Create class for plotting\n",
        "\n",
        "def plot_data(data_set, model = None, n = 1, color = False):\n",
        "    X = data_set[:][0]\n",
        "    Y = data_set[:][1]\n",
        "    plt.plot(X[Y == 0, 0].numpy(), Y[Y == 0].numpy(), 'bo', label = 'y = 0')\n",
        "    plt.plot(X[Y == 1, 0].numpy(), 0 * Y[Y == 1].numpy(), 'ro', label = 'y = 1')\n",
        "    plt.plot(X[Y == 2, 0].numpy(), 0 * Y[Y == 2].numpy(), 'go', label = 'y = 2')\n",
        "    plt.ylim((-0.1, 3))\n",
        "    plt.legend()\n",
        "    if model != None:\n",
        "        w = list(model.parameters())[0][0].detach() #alphacodingskills.com/python/notes/python-file-detach.php\n",
        "        b = list(model.parameters())[1][0].detach()\n",
        "        y_label = ['yhat=0', 'yhat=1', 'yhat=2']\n",
        "        y_color = ['b', 'r', 'g']\n",
        "        Y = []\n",
        "        for w, b, y_l, y_c in zip(model.state_dict()['0.weight'], model.state_dict()['0.bias'], y_label, y_color):\n",
        "            Y.append((w * X + b).numpy())\n",
        "            plt.plot(X.numpy(), (w * X + b).numpy(), y_c, label = y_l)\n",
        "        if color == True:\n",
        "            x = X.numpy()\n",
        "            x = x.reshape(-1)\n",
        "            top = np.ones(x.shape)\n",
        "            y0 = Y[0].reshape(-1)\n",
        "            y1 = Y[1].reshape(-1)\n",
        "            y2 = Y[2].reshape(-1)\n",
        "            plt.fill_between(x, y0, where = y1 > y1, interpolate = True, color = 'blue')\n",
        "            plt.fill_between(x, y0, where = y1 > y2, interpolate = True, color = 'blue')\n",
        "            plt.fill_between(x, y1, where = y1 > y0, interpolate = True, color = 'red')\n",
        "            plt.fill_between(x, y1, where = ((y1 > y2) * (y1 > y0)),interpolate = True, color = 'red')\n",
        "            plt.fill_between(x, y2, where = (y2 > y0) * (y0 > 0),interpolate = True, color = 'green')\n",
        "            plt.fill_between(x, y2, where = (y2 > y1), interpolate = True, color = 'green')\n",
        "    plt.legend()\n",
        "    plt.show()"
      ],
      "execution_count": 2,
      "outputs": []
    },
    {
      "cell_type": "markdown",
      "metadata": {
        "id": "XPP_IgFgt_SP"
      },
      "source": [
        "Set the random seed:\n"
      ]
    },
    {
      "cell_type": "code",
      "metadata": {
        "colab": {
          "base_uri": "https://localhost:8080/"
        },
        "id": "xoSI7uExt_SQ",
        "outputId": "32877fbb-cf37-4dd1-faee-3386cfc2e02a"
      },
      "source": [
        "#Set the random seed\n",
        "\n",
        "torch.manual_seed(0)"
      ],
      "execution_count": 3,
      "outputs": [
        {
          "output_type": "execute_result",
          "data": {
            "text/plain": [
              "<torch._C.Generator at 0x7f0f80c81b10>"
            ]
          },
          "metadata": {},
          "execution_count": 3
        }
      ]
    },
    {
      "cell_type": "markdown",
      "metadata": {
        "id": "dk6-_8ldt_SR"
      },
      "source": [
        "<!--Empty Space for separating topics-->\n"
      ]
    },
    {
      "cell_type": "markdown",
      "metadata": {
        "id": "kFF_dA1et_ST"
      },
      "source": [
        "<h2 id=\"Makeup_Data\">Make Some Data</h2> \n"
      ]
    },
    {
      "cell_type": "markdown",
      "metadata": {
        "id": "4apOiGp5t_SU"
      },
      "source": [
        "Create some linearly separable data with three classes: \n"
      ]
    },
    {
      "cell_type": "code",
      "metadata": {
        "id": "3JQrxeyct_SV"
      },
      "source": [
        "# Create the data class\n",
        "\n",
        "class Data(Dataset):\n",
        "    \n",
        "    # Constructor\n",
        "    def __init__(self):\n",
        "        self.x = torch.arange(-2, 2, 0.1).view(-1, 1) #https://stackoverflow.com/questions/42479902/how-does-the-view-method-work-in-pytorch\n",
        "        self.y = torch.zeros(self.x.shape[0]) \n",
        "        self.y[(self.x > -1.0)[:, 0] * (self.x < 1.0)[:, 0]] = 1 # ? what is the use of this line\n",
        "        print(\"Selfx = \",self.x > -1.0)\n",
        "        self.y[(self.x >= 1.0)[:, 0]] = 2\n",
        "        self.y = self.y.type(torch.LongTensor)\n",
        "        self.len = self.x.shape[0]\n",
        "        \n",
        "    # Getter\n",
        "    def __getitem__(self,index):      \n",
        "        return self.x[index], self.y[index]\n",
        "    \n",
        "    # Get Length\n",
        "    def __len__(self):\n",
        "        return self.len"
      ],
      "execution_count": 4,
      "outputs": []
    },
    {
      "cell_type": "markdown",
      "metadata": {
        "id": "4amjIRmNt_SX"
      },
      "source": [
        "Create the dataset object:\n"
      ]
    },
    {
      "cell_type": "code",
      "metadata": {
        "colab": {
          "base_uri": "https://localhost:8080/",
          "height": 949
        },
        "id": "-XKzLi6-t_SY",
        "outputId": "60d0088e-c87c-49b6-dc75-4cc269dbe5e1"
      },
      "source": [
        "# Create the dataset object and plot the dataset object\n",
        "\n",
        "data_set = Data()\n",
        "data_set.x\n",
        "plot_data(data_set)"
      ],
      "execution_count": 5,
      "outputs": [
        {
          "output_type": "stream",
          "text": [
            "Selfx =  tensor([[False],\n",
            "        [False],\n",
            "        [False],\n",
            "        [False],\n",
            "        [False],\n",
            "        [False],\n",
            "        [False],\n",
            "        [False],\n",
            "        [False],\n",
            "        [False],\n",
            "        [False],\n",
            "        [ True],\n",
            "        [ True],\n",
            "        [ True],\n",
            "        [ True],\n",
            "        [ True],\n",
            "        [ True],\n",
            "        [ True],\n",
            "        [ True],\n",
            "        [ True],\n",
            "        [ True],\n",
            "        [ True],\n",
            "        [ True],\n",
            "        [ True],\n",
            "        [ True],\n",
            "        [ True],\n",
            "        [ True],\n",
            "        [ True],\n",
            "        [ True],\n",
            "        [ True],\n",
            "        [ True],\n",
            "        [ True],\n",
            "        [ True],\n",
            "        [ True],\n",
            "        [ True],\n",
            "        [ True],\n",
            "        [ True],\n",
            "        [ True],\n",
            "        [ True],\n",
            "        [ True]])\n"
          ],
          "name": "stdout"
        },
        {
          "output_type": "display_data",
          "data": {
            "image/png": "[encoded data removed]",
            "text/plain": [
              "<Figure size 432x288 with 1 Axes>"
            ]
          },
          "metadata": {
            "needs_background": "light"
          }
        }
      ]
    },
    {
      "cell_type": "markdown",
      "metadata": {
        "id": "8tu7AVAft_SZ"
      },
      "source": [
        "<!--Empty Space for separating topics-->\n"
      ]
    },
    {
      "cell_type": "markdown",
      "metadata": {
        "id": "KpRK8O3Kt_Sa"
      },
      "source": [
        "<h2 id=\"Softmax\">Build a Softmax Classifier </h2>\n"
      ]
    },
    {
      "cell_type": "markdown",
      "metadata": {
        "id": "k_8BGZTgt_Sc"
      },
      "source": [
        "Build a Softmax classifier by using the Sequential module:\n"
      ]
    },
    {
      "cell_type": "code",
      "metadata": {
        "colab": {
          "base_uri": "https://localhost:8080/"
        },
        "id": "qOx4uQcPt_Sd",
        "outputId": "13cc6aca-5310-438d-8e67-44e73b43d8c6"
      },
      "source": [
        "# Build Softmax Classifier technically you only need nn.Linear\n",
        "\n",
        "model = nn.Sequential(nn.Linear(1, 3))\n",
        "model.state_dict()"
      ],
      "execution_count": 6,
      "outputs": [
        {
          "output_type": "execute_result",
          "data": {
            "text/plain": [
              "OrderedDict([('0.weight', tensor([[-0.0075],\n",
              "                      [ 0.5364],\n",
              "                      [-0.8230]])),\n",
              "             ('0.bias', tensor([-0.7359, -0.3852,  0.2682]))])"
            ]
          },
          "metadata": {},
          "execution_count": 6
        }
      ]
    },
    {
      "cell_type": "markdown",
      "metadata": {
        "id": "3aFwcd76t_Sf"
      },
      "source": [
        "<!--Empty Space for separating topics-->\n"
      ]
    },
    {
      "cell_type": "markdown",
      "metadata": {
        "id": "C_3W6DM_t_Sg"
      },
      "source": [
        "<h2 id=\"Model\">Train the Model</h2> \n"
      ]
    },
    {
      "cell_type": "markdown",
      "metadata": {
        "id": "8qjDum4At_Si"
      },
      "source": [
        "Create the criterion function, the optimizer and the dataloader\n"
      ]
    },
    {
      "cell_type": "code",
      "metadata": {
        "id": "a9c9s_vwt_Sj"
      },
      "source": [
        "# Create criterion function, optimizer, and dataloader\n",
        "\n",
        "criterion = nn.CrossEntropyLoss()\n",
        "optimizer = torch.optim.SGD(model.parameters(), lr = 0.01)\n",
        "trainloader = DataLoader(dataset = data_set, batch_size = 5)"
      ],
      "execution_count": 7,
      "outputs": []
    },
    {
      "cell_type": "markdown",
      "metadata": {
        "id": "EBn82Xxrt_Sk"
      },
      "source": [
        "Train the model for every 50 epochs plot, the line generated for each class.\n"
      ]
    },
    {
      "cell_type": "code",
      "metadata": {
        "colab": {
          "base_uri": "https://localhost:8080/",
          "height": 1000
        },
        "id": "aVwgMo-zt_Sn",
        "outputId": "b9da95b9-d9b5-45b8-97fa-95e0eba62ab2"
      },
      "source": [
        "# Train the model\n",
        "\n",
        "LOSS = []\n",
        "def train_model(epochs):\n",
        "    for epoch in range(epochs):\n",
        "        if epoch % 50 == 0:\n",
        "            pass\n",
        "            plot_data(data_set, model)\n",
        "        for x, y in trainloader:\n",
        "            optimizer.zero_grad()\n",
        "            yhat = model(x)\n",
        "            loss = criterion(yhat, y)\n",
        "            LOSS.append(loss)\n",
        "            loss.backward()\n",
        "            optimizer.step()\n",
        "train_model(300)"
      ],
      "execution_count": 8,
      "outputs": [
        {
          "output_type": "display_data",
          "data": {
            "image/png": "[encoded data removed]",
            "text/plain": [
              "<Figure size 432x288 with 1 Axes>"
            ]
          },
          "metadata": {
            "needs_background": "light"
          }
        },
        {
          "output_type": "display_data",
          "data": {
            "image/png": "[encoded data removed]",
            "text/plain": [
              "<Figure size 432x288 with 1 Axes>"
            ]
          },
          "metadata": {
            "needs_background": "light"
          }
        },
        {
          "output_type": "display_data",
          "data": {
            "image/png": "[encoded data removed]",
            "text/plain": [
              "<Figure size 432x288 with 1 Axes>"
            ]
          },
          "metadata": {
            "needs_background": "light"
          }
        },
        {
          "output_type": "display_data",
          "data": {
            "image/png": "[encoded data removed]",
            "text/plain": [
              "<Figure size 432x288 with 1 Axes>"
            ]
          },
          "metadata": {
            "needs_background": "light"
          }
        },
        {
          "output_type": "display_data",
          "data": {
            "image/png": "[encoded data removed]",
            "text/plain": [
              "<Figure size 432x288 with 1 Axes>"
            ]
          },
          "metadata": {
            "needs_background": "light"
          }
        },
        {
          "output_type": "display_data",
          "data": {
            "image/png": "[encoded data removed]",
            "text/plain": [
              "<Figure size 432x288 with 1 Axes>"
            ]
          },
          "metadata": {
            "needs_background": "light"
          }
        }
      ]
    },
    {
      "cell_type": "markdown",
      "metadata": {
        "id": "5hQ4NqzAt_Sp"
      },
      "source": [
        "<!--Empty Space for separating topics-->\n"
      ]
    },
    {
      "cell_type": "markdown",
      "metadata": {
        "id": "rWVs_LFNt_Sq"
      },
      "source": [
        "<h2 id=\"Result\">Analyze Results</h2> \n"
      ]
    },
    {
      "cell_type": "markdown",
      "metadata": {
        "id": "0mnJwfYzt_Sr"
      },
      "source": [
        "Find the predicted class on the test data: \n"
      ]
    },
    {
      "cell_type": "code",
      "metadata": {
        "colab": {
          "base_uri": "https://localhost:8080/"
        },
        "id": "-bqRBkhIt_Ss",
        "outputId": "3782fa8f-7989-40ee-b3a1-ace517ea541d"
      },
      "source": [
        "# Make the prediction\n",
        "\n",
        "z =  model(data_set.x)\n",
        "_, yhat = z.max(1)\n",
        "print(\"The prediction:\", yhat)\n"
      ],
      "execution_count": 9,
      "outputs": [
        {
          "output_type": "stream",
          "text": [
            "The prediction: tensor([0, 0, 0, 0, 0, 0, 0, 0, 0, 0, 0, 1, 1, 1, 1, 1, 1, 1, 1, 1, 1, 1, 1, 1,\n",
            "        1, 1, 1, 1, 1, 2, 2, 2, 2, 2, 2, 2, 2, 2, 2, 2])\n"
          ],
          "name": "stdout"
        }
      ]
    },
    {
      "cell_type": "markdown",
      "metadata": {
        "id": "tjo3otXgt_Su"
      },
      "source": [
        "Calculate the accuracy on the test data:\n"
      ]
    },
    {
      "cell_type": "code",
      "metadata": {
        "colab": {
          "base_uri": "https://localhost:8080/"
        },
        "id": "OqApx6fst_Sv",
        "outputId": "b9cca9c0-9db7-4bc1-b340-1d655b1beb97"
      },
      "source": [
        "# Print the accuracy\n",
        "\n",
        "correct = (data_set.y == yhat).sum().item()\n",
        "accuracy = correct / len(data_set)\n",
        "print(\"The accuracy: \", accuracy)"
      ],
      "execution_count": 10,
      "outputs": [
        {
          "output_type": "stream",
          "text": [
            "The accuracy:  0.975\n"
          ],
          "name": "stdout"
        }
      ]
    },
    {
      "cell_type": "markdown",
      "metadata": {
        "id": "-QZke4M7t_Sx"
      },
      "source": [
        "You can also use the softmax function to convert the output to a probability,first, we create a Softmax object:\n"
      ]
    },
    {
      "cell_type": "code",
      "metadata": {
        "id": "XwGGwpc8t_Sy"
      },
      "source": [
        "Softmax_fn=nn.Softmax(dim=-1)"
      ],
      "execution_count": null,
      "outputs": []
    },
    {
      "cell_type": "markdown",
      "metadata": {
        "id": "swmrlLmat_Sz"
      },
      "source": [
        "The result is a tensor <code> Probability </code>, where each row corresponds to a different sample, and each column corresponds to that sample  belonging to a particular class\n"
      ]
    },
    {
      "cell_type": "code",
      "metadata": {
        "id": "beUC9WOut_S0"
      },
      "source": [
        "Probability =Softmax_fn(z)"
      ],
      "execution_count": null,
      "outputs": []
    },
    {
      "cell_type": "markdown",
      "metadata": {
        "id": "wp1YV_cat_S0"
      },
      "source": [
        "we can obtain the probability of the first sample belonging to the first, second and third class respectively as follows:\n"
      ]
    },
    {
      "cell_type": "code",
      "metadata": {
        "id": "GenW2IZOt_S1"
      },
      "source": [
        "for i in range(3):\n",
        "    print(\"probability of class {} isg given by  {}\".format(i, Probability[0,i]) )"
      ],
      "execution_count": null,
      "outputs": []
    },
    {
      "cell_type": "markdown",
      "metadata": {
        "id": "FS1tejE8t_S2"
      },
      "source": [
        "<a href=\"https://dataplatform.cloud.ibm.com/registration/stepone?context=cpdaas&apps=data_science_experience,watson_machine_learning\"><img src=\"https://cf-courses-data.s3.us.cloud-object-storage.appdomain.cloud/IBMDeveloperSkillsNetwork-DL0110EN-SkillsNetwork/Template/module%201/images/Watson_Studio.png\"/></a>\n"
      ]
    },
    {
      "cell_type": "markdown",
      "metadata": {
        "id": "mgV-zXTkt_S2"
      },
      "source": [
        "<!--Empty Space for separating topics-->\n"
      ]
    },
    {
      "cell_type": "markdown",
      "metadata": {
        "id": "97LTRFY3t_S3"
      },
      "source": [
        "<h2>About the Authors:</h2> \n",
        "\n",
        "<a href=\"https://www.linkedin.com/in/joseph-s-50398b136/\">Joseph Santarcangelo</a> has a PhD in Electrical Engineering, his research focused on using machine learning, signal processing, and computer vision to determine how videos impact human cognition. Joseph has been working for IBM since he completed his PhD. \n"
      ]
    },
    {
      "cell_type": "markdown",
      "metadata": {
        "id": "JgPipx85t_S3"
      },
      "source": [
        "Other contributors: <a href=\"https://www.linkedin.com/in/michelleccarey/\">Michelle Carey</a>, <a href=\"www.linkedin.com/in/jiahui-mavis-zhou-a4537814a\">Mavis Zhou</a>\n"
      ]
    },
    {
      "cell_type": "markdown",
      "metadata": {
        "id": "3cvzcQ_ht_S4"
      },
      "source": [
        "## Change Log\n",
        "\n",
        "| Date (YYYY-MM-DD) | Version | Changed By | Change Description                                          |\n",
        "| ----------------- | ------- | ---------- | ----------------------------------------------------------- |\n",
        "| 2020-09-23        | 2.0     | Shubham    | Migrated Lab to Markdown and added to course repo in GitLab |\n"
      ]
    },
    {
      "cell_type": "markdown",
      "metadata": {
        "id": "4bSPpSrZt_S4"
      },
      "source": [
        "<hr>\n"
      ]
    },
    {
      "cell_type": "markdown",
      "metadata": {
        "id": "X8ZpZi54t_S5"
      },
      "source": [
        "## <h3 align=\"center\"> © IBM Corporation 2020. All rights reserved. <h3/>\n"
      ]
    }
  ]
}