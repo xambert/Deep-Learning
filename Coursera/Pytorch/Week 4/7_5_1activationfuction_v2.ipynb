{
  "nbformat": 4,
  "nbformat_minor": 0,
  "metadata": {
    "kernelspec": {
      "display_name": "Python 3",
      "language": "python",
      "name": "python3"
    },
    "language_info": {
      "codemirror_mode": {
        "name": "ipython",
        "version": 3
      },
      "file_extension": ".py",
      "mimetype": "text/x-python",
      "name": "python",
      "nbconvert_exporter": "python",
      "pygments_lexer": "ipython3",
      "version": "3.7.6"
    },
    "colab": {
      "name": "7.5.1activationfuction_v2.ipynb",
      "provenance": []
    }
  },
  "cells": [
    {
      "cell_type": "markdown",
      "metadata": {
        "id": "5LB81fg1TIRW"
      },
      "source": [
        "<center>\n",
        "    <img src=\"https://cf-courses-data.s3.us.cloud-object-storage.appdomain.cloud/IBMDeveloperSkillsNetwork-DL0110EN-SkillsNetwork/Template/module%201/images/IDSNlogo.png\" width=\"300\" alt=\"cognitiveclass.ai logo\"  />\n",
        "</center>\n"
      ]
    },
    {
      "cell_type": "markdown",
      "metadata": {
        "id": "mdQOpRsRTIRZ"
      },
      "source": [
        "<h1>Activation Functions</h1> \n"
      ]
    },
    {
      "cell_type": "markdown",
      "metadata": {
        "id": "j9bwc5QkTIRa"
      },
      "source": [
        "<h2>Objective</h2><ul><li> How to apply different Activation functions in Neural Network.</li></ul> \n"
      ]
    },
    {
      "cell_type": "markdown",
      "metadata": {
        "id": "nNEFg29GTIRa"
      },
      "source": [
        "<h2>Table of Contents</h2>\n",
        "<p>In this lab, you will cover logistic regression by using PyTorch.</p>\n",
        "\n",
        "<ul>\n",
        "    <li><a href=\"#Log\">Logistic Function</a></li>\n",
        "    <li><a href=\"#Tanh\">Tanh</a></li>\n",
        "    <li><a href=\"#Relu\">Relu</a></li>\n",
        "    <li><a href=\"#Compare\">Compare Activation Functions</a></li>\n",
        "</ul>\n",
        "<p>Estimated Time Needed: <strong>15 min</strong></p>\n",
        "\n",
        "<hr>\n"
      ]
    },
    {
      "cell_type": "markdown",
      "metadata": {
        "id": "Ig2g_1NHTIRb"
      },
      "source": [
        "We'll need the following libraries\n"
      ]
    },
    {
      "cell_type": "code",
      "metadata": {
        "id": "4mP2wPPKTIRb"
      },
      "source": [
        "# Import the libraries we need for this lab\n",
        "\n",
        "import torch.nn as nn\n",
        "import torch\n",
        "\n",
        "import matplotlib.pyplot as plt\n",
        "torch.manual_seed(2)"
      ],
      "execution_count": null,
      "outputs": []
    },
    {
      "cell_type": "markdown",
      "metadata": {
        "id": "7mYbnFN7TIRc"
      },
      "source": [
        "<!--Empty Space for separating topics-->\n"
      ]
    },
    {
      "cell_type": "markdown",
      "metadata": {
        "id": "SxKrBgJ1TIRc"
      },
      "source": [
        "<h2 id=\"Log\">Logistic Function</h2>\n"
      ]
    },
    {
      "cell_type": "markdown",
      "metadata": {
        "id": "9KwHFDt8TIRc"
      },
      "source": [
        "Create a tensor ranging from -10 to 10: \n"
      ]
    },
    {
      "cell_type": "code",
      "metadata": {
        "id": "6ftVS-O9TIRd"
      },
      "source": [
        "# Create a tensor\n",
        "\n",
        "z = torch.arange(-10, 10, 0.1,).view(-1, 1)"
      ],
      "execution_count": null,
      "outputs": []
    },
    {
      "cell_type": "markdown",
      "metadata": {
        "id": "pHi-CNfKTIRd"
      },
      "source": [
        "When you use sequential, you can create a sigmoid object: \n"
      ]
    },
    {
      "cell_type": "code",
      "metadata": {
        "id": "7g4i3C_lTIRd"
      },
      "source": [
        "# Create a sigmoid object\n",
        "\n",
        "sig = nn.Sigmoid()"
      ],
      "execution_count": null,
      "outputs": []
    },
    {
      "cell_type": "markdown",
      "metadata": {
        "id": "DeLNaeSzTIRe"
      },
      "source": [
        "Apply the element-wise function Sigmoid with the object:\n"
      ]
    },
    {
      "cell_type": "code",
      "metadata": {
        "id": "cm-aDuGuTIRe"
      },
      "source": [
        "# Make a prediction of sigmoid function\n",
        "\n",
        "yhat = sig(z)"
      ],
      "execution_count": null,
      "outputs": []
    },
    {
      "cell_type": "markdown",
      "metadata": {
        "id": "vRLv0CWwTIRe"
      },
      "source": [
        "Plot the results: \n"
      ]
    },
    {
      "cell_type": "code",
      "metadata": {
        "id": "cm761J-GTIRf"
      },
      "source": [
        "# Plot the result\n",
        "\n",
        "plt.plot(z.detach().numpy(),yhat.detach().numpy())\n",
        "plt.xlabel('z')\n",
        "plt.ylabel('yhat')"
      ],
      "execution_count": null,
      "outputs": []
    },
    {
      "cell_type": "markdown",
      "metadata": {
        "id": "PJb4LiibTIRf"
      },
      "source": [
        "For custom modules, call the sigmoid from the torch (<code>nn.functional</code> for the old version), which applies the element-wise sigmoid from the function module and plots the results:\n"
      ]
    },
    {
      "cell_type": "code",
      "metadata": {
        "id": "j8Q8I_KITIRg"
      },
      "source": [
        "# Use the build in function to predict the result\n",
        "\n",
        "yhat = torch.sigmoid(z)\n",
        "plt.plot(z.numpy(), yhat.numpy())\n",
        "\n",
        "plt.show()"
      ],
      "execution_count": null,
      "outputs": []
    },
    {
      "cell_type": "markdown",
      "metadata": {
        "id": "y8msjws7TIRg"
      },
      "source": [
        "<!--Empty Space for separating topics-->\n"
      ]
    },
    {
      "cell_type": "markdown",
      "metadata": {
        "id": "4CkItH1TTIRg"
      },
      "source": [
        "<h2 id=\"Tanh\">Tanh</h2>\n"
      ]
    },
    {
      "cell_type": "markdown",
      "metadata": {
        "id": "zL4m7_0BTIRh"
      },
      "source": [
        "When you use sequential, you can create a tanh object:\n"
      ]
    },
    {
      "cell_type": "code",
      "metadata": {
        "id": "dSLZS3GXTIRh"
      },
      "source": [
        "# Create a tanh object\n",
        "\n",
        "TANH = nn.Tanh()"
      ],
      "execution_count": null,
      "outputs": []
    },
    {
      "cell_type": "markdown",
      "metadata": {
        "id": "LxekWsJ3TIRh"
      },
      "source": [
        "Call the object and plot it:\n"
      ]
    },
    {
      "cell_type": "code",
      "metadata": {
        "id": "xrBZuX1mTIRh"
      },
      "source": [
        "# Make the prediction using tanh object\n",
        "\n",
        "yhat = TANH(z)\n",
        "plt.plot(z.numpy(), yhat.numpy())\n",
        "plt.show()"
      ],
      "execution_count": null,
      "outputs": []
    },
    {
      "cell_type": "markdown",
      "metadata": {
        "id": "_l9wCJUJTIRi"
      },
      "source": [
        "For custom modules, call the Tanh object from the torch (nn.functional for the old version), which applies the element-wise sigmoid from the function module and plots the results:\n"
      ]
    },
    {
      "cell_type": "code",
      "metadata": {
        "id": "aYVW4cu7TIRi"
      },
      "source": [
        "# Make the prediction using the build-in tanh object\n",
        "\n",
        "yhat = torch.tanh(z)\n",
        "plt.plot(z.numpy(), yhat.numpy())\n",
        "plt.show()"
      ],
      "execution_count": null,
      "outputs": []
    },
    {
      "cell_type": "markdown",
      "metadata": {
        "id": "0sJ1nFr2TIRj"
      },
      "source": [
        "<!--Empty Space for separating topics-->\n"
      ]
    },
    {
      "cell_type": "markdown",
      "metadata": {
        "id": "ZtCbYXUuTIRj"
      },
      "source": [
        "<h2 id=\"Relu\">Relu</h2>\n"
      ]
    },
    {
      "cell_type": "markdown",
      "metadata": {
        "id": "L3aeXoYETIRj"
      },
      "source": [
        "When you use sequential, you can create a Relu object: \n"
      ]
    },
    {
      "cell_type": "code",
      "metadata": {
        "id": "kF5roHYbTIRj"
      },
      "source": [
        "# Create a relu object and make the prediction\n",
        "\n",
        "RELU = nn.ReLU()\n",
        "yhat = RELU(z)\n",
        "plt.plot(z.numpy(), yhat.numpy())"
      ],
      "execution_count": null,
      "outputs": []
    },
    {
      "cell_type": "markdown",
      "metadata": {
        "id": "SiJqOi7ATIRk"
      },
      "source": [
        "For custom modules, call the relu object from the nn.functional, which applies the element-wise sigmoid from the function module and plots the results:\n"
      ]
    },
    {
      "cell_type": "code",
      "metadata": {
        "id": "iZEy5_7xTIRk"
      },
      "source": [
        "# Use the build-in function to make the prediction\n",
        "\n",
        "yhat = torch.relu(z)\n",
        "plt.plot(z.numpy(), yhat.numpy())\n",
        "plt.show()"
      ],
      "execution_count": null,
      "outputs": []
    },
    {
      "cell_type": "markdown",
      "metadata": {
        "id": "FDj937KfTIRl"
      },
      "source": [
        "<a id=\"ref3\"></a>\n",
        "\n",
        "<h2> Compare Activation Functions </h2>\n"
      ]
    },
    {
      "cell_type": "code",
      "metadata": {
        "id": "m5Hgio3vTIRl"
      },
      "source": [
        "# Plot the results to compare the activation functions\n",
        "\n",
        "x = torch.arange(-2, 2, 0.1).view(-1, 1)\n",
        "plt.plot(x.numpy(), torch.relu(x).numpy(), label='relu')\n",
        "plt.plot(x.numpy(), torch.sigmoid(x).numpy(), label='sigmoid')\n",
        "plt.plot(x.numpy(), torch.tanh(x).numpy(), label='tanh')\n",
        "plt.legend()"
      ],
      "execution_count": null,
      "outputs": []
    },
    {
      "cell_type": "markdown",
      "metadata": {
        "id": "vhDk_EXcTIRl"
      },
      "source": [
        "<a id=\"ref4\"></a>\n",
        "\n",
        "<h2> Practice </h2>\n"
      ]
    },
    {
      "cell_type": "markdown",
      "metadata": {
        "id": "pxsBLT0rTIRm"
      },
      "source": [
        "Compare the activation functions with a tensor in the range <i>(-1, 1)</i>\n"
      ]
    },
    {
      "cell_type": "code",
      "metadata": {
        "id": "RmeU9R2JTIRm"
      },
      "source": [
        "# Practice: Compare the activation functions again using a tensor in the range (-1, 1)\n",
        "\n",
        "# Type your code here"
      ],
      "execution_count": null,
      "outputs": []
    },
    {
      "cell_type": "markdown",
      "metadata": {
        "id": "XxxWzXVMTIRm"
      },
      "source": [
        "Double-click <b>here</b> for the solution.\n",
        "\n",
        "<!-- \n",
        "x = torch.arange(-1, 1, 0.1).view(-1, 1)\n",
        "plt.plot(x.numpy(), F.relu(x).numpy(), label = 'relu')\n",
        "plt.plot(x.numpy(), torch.sigmoid(x).numpy(), label = 'sigmoid')\n",
        "plt.plot(x.numpy(), torch.tanh(x).numpy(), label = 'tanh')\n",
        "plt.legend()\n",
        "-->\n"
      ]
    },
    {
      "cell_type": "markdown",
      "metadata": {
        "id": "Csk2YxLcTIRn"
      },
      "source": [
        "<a href=\"https://dataplatform.cloud.ibm.com/registration/stepone?context=cpdaas&apps=data_science_experience,watson_machine_learning\"><img src=\"https://cf-courses-data.s3.us.cloud-object-storage.appdomain.cloud/IBMDeveloperSkillsNetwork-DL0110EN-SkillsNetwork/Template/module%201/images/Watson_Studio.png\"/></a>\n"
      ]
    },
    {
      "cell_type": "markdown",
      "metadata": {
        "id": "zFJFZ8pSTIRn"
      },
      "source": [
        "<!--Empty Space for separating topics-->\n"
      ]
    },
    {
      "cell_type": "markdown",
      "metadata": {
        "id": "ZeKmWTgcTIRn"
      },
      "source": [
        "<h2>About the Authors:</h2> \n",
        "\n",
        "<a href=\"https://www.linkedin.com/in/joseph-s-50398b136/\">Joseph Santarcangelo</a> has a PhD in Electrical Engineering, his research focused on using machine learning, signal processing, and computer vision to determine how videos impact human cognition. Joseph has been working for IBM since he completed his PhD. \n"
      ]
    },
    {
      "cell_type": "markdown",
      "metadata": {
        "id": "Ws4IDwyvTIRo"
      },
      "source": [
        "Other contributors: <a href=\"https://www.linkedin.com/in/michelleccarey/\">Michelle Carey</a>, <a href=\"www.linkedin.com/in/jiahui-mavis-zhou-a4537814a\">Mavis Zhou</a>\n"
      ]
    },
    {
      "cell_type": "markdown",
      "metadata": {
        "id": "dx2bK9CaTIRo"
      },
      "source": [
        "## Change Log\n",
        "\n",
        "| Date (YYYY-MM-DD) | Version | Changed By | Change Description                                          |\n",
        "| ----------------- | ------- | ---------- | ----------------------------------------------------------- |\n",
        "| 2020-09-23        | 2.0     | Shubham    | Migrated Lab to Markdown and added to course repo in GitLab |\n"
      ]
    },
    {
      "cell_type": "markdown",
      "metadata": {
        "id": "4bQZwTDBTIRp"
      },
      "source": [
        "<hr>\n"
      ]
    },
    {
      "cell_type": "markdown",
      "metadata": {
        "id": "GukrEUJdTIRp"
      },
      "source": [
        "## <h3 align=\"center\"> © IBM Corporation 2020. All rights reserved. <h3/>\n"
      ]
    }
  ]
}