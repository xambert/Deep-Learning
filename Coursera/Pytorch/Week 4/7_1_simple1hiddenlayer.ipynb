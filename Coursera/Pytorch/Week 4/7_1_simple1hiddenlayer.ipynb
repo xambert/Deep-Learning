{
  "nbformat": 4,
  "nbformat_minor": 0,
  "metadata": {
    "kernelspec": {
      "display_name": "Python 3",
      "language": "python",
      "name": "python3"
    },
    "language_info": {
      "codemirror_mode": {
        "name": "ipython",
        "version": 3
      },
      "file_extension": ".py",
      "mimetype": "text/x-python",
      "name": "python",
      "nbconvert_exporter": "python",
      "pygments_lexer": "ipython3",
      "version": "3.7.6"
    },
    "colab": {
      "name": "7.1_simple1hiddenlayer.ipynb",
      "provenance": []
    }
  },
  "cells": [
    {
      "cell_type": "markdown",
      "metadata": {
        "id": "mLuqquwIAIP1"
      },
      "source": [
        "<center>\n",
        "    <img src=\"https://cf-courses-data.s3.us.cloud-object-storage.appdomain.cloud/IBMDeveloperSkillsNetwork-DL0110EN-SkillsNetwork/Template/module%201/images/IDSNlogo.png\" width=\"300\" alt=\"cognitiveclass.ai logo\"  />\n",
        "</center>\n"
      ]
    },
    {
      "cell_type": "markdown",
      "metadata": {
        "id": "sByKQy-_AIP5"
      },
      "source": [
        "<h1>Simple One Hidden Layer Neural Network</h1>\n"
      ]
    },
    {
      "cell_type": "markdown",
      "metadata": {
        "id": "oEF1Oe80AIP9"
      },
      "source": [
        "<h2>Objective</h2><ul><li> How to create simple Neural Network in pytorch.</li></ul> \n"
      ]
    },
    {
      "cell_type": "markdown",
      "metadata": {
        "id": "zlXhJb6cAIP_"
      },
      "source": [
        "<h2>Table of Contents</h2>\n",
        "<p>In this lab, you will use a single-layer neural network to classify non linearly seprable data in 1-Ddatabase.</p>\n",
        "\n",
        "<ul>\n",
        "    <li><a href=\"#Model\">Neural Network Module and Training Function</a></li>\n",
        "    <li><a href=\"#Makeup_Data\">Make Some Data</a></li>\n",
        "    <li><a href=\"#Train\">Define the Neural Network, Criterion Function, Optimizer, and Train the Model</a></li>\n",
        "</ul>\n",
        "<p>Estimated Time Needed: <strong>25 min</strong></p>\n",
        "\n",
        "<hr>\n"
      ]
    },
    {
      "cell_type": "markdown",
      "metadata": {
        "id": "0m0fFXiSAIQC"
      },
      "source": [
        "<h2>Preparation</h2>\n"
      ]
    },
    {
      "cell_type": "markdown",
      "metadata": {
        "id": "R1b5CFSYAIQC"
      },
      "source": [
        "We'll need the following libraries\n"
      ]
    },
    {
      "cell_type": "code",
      "metadata": {
        "colab": {
          "base_uri": "https://localhost:8080/"
        },
        "id": "w4GdHpfeAIQE",
        "outputId": "701969ff-ae51-4151-9362-35dbd3df6353"
      },
      "source": [
        "# Import the libraries we need for this lab\n",
        "\n",
        "import torch \n",
        "import torch.nn as nn\n",
        "from torch import sigmoid\n",
        "import matplotlib.pylab as plt\n",
        "import numpy as np\n",
        "torch.manual_seed(0)"
      ],
      "execution_count": 1,
      "outputs": [
        {
          "output_type": "execute_result",
          "data": {
            "text/plain": [
              "<torch._C.Generator at 0x7ff89db3aab0>"
            ]
          },
          "metadata": {},
          "execution_count": 1
        }
      ]
    },
    {
      "cell_type": "markdown",
      "metadata": {
        "id": "ZfMjAfxaAIQI"
      },
      "source": [
        "Used for plotting the model\n"
      ]
    },
    {
      "cell_type": "code",
      "metadata": {
        "id": "boSK7Iv2AIQL"
      },
      "source": [
        "# The function for plotting the model\n",
        "\n",
        "def PlotStuff(X, Y, model, epoch, leg=True):\n",
        "    \n",
        "    plt.plot(X.numpy(), model(X).detach().numpy(), label=('epoch ' + str(epoch)))\n",
        "    plt.plot(X.numpy(), Y.numpy(), 'r')\n",
        "    plt.xlabel('x')\n",
        "    if leg == True:\n",
        "        plt.legend()\n",
        "    else:\n",
        "        pass"
      ],
      "execution_count": 2,
      "outputs": []
    },
    {
      "cell_type": "markdown",
      "metadata": {
        "id": "MvUKUEKsAIQO"
      },
      "source": [
        "<!--Empty Space for separating topics-->\n"
      ]
    },
    {
      "cell_type": "markdown",
      "metadata": {
        "id": "nQM41IbGAIQP"
      },
      "source": [
        "<h2 id=\"Model\">Neural Network Module and Training Function</h2> \n"
      ]
    },
    {
      "cell_type": "markdown",
      "metadata": {
        "id": "6XgbI8O5AIQQ"
      },
      "source": [
        "Define the activations and the output of the first linear layer as an attribute. Note that this is not good practice. \n"
      ]
    },
    {
      "cell_type": "code",
      "metadata": {
        "id": "V_tk33tIAIQR"
      },
      "source": [
        "# Define the class Net\n",
        "\n",
        "class Net(nn.Module):\n",
        "    \n",
        "    # Constructor\n",
        "    def __init__(self, D_in, H, D_out):\n",
        "        super(Net, self).__init__()\n",
        "        # hidden layer \n",
        "        self.linear1 = nn.Linear(D_in, H)\n",
        "        self.linear2 = nn.Linear(H, D_out)\n",
        "        # Define the first linear layer as an attribute, this is not good practice\n",
        "        self.a1 = None\n",
        "        self.l1 = None\n",
        "        self.l2=None\n",
        "    \n",
        "    # Prediction\n",
        "    def forward(self, x):\n",
        "        self.l1 = self.linear1(x)\n",
        "        self.a1 = sigmoid(self.l1)\n",
        "        self.l2=self.linear2(self.a1)\n",
        "        yhat = sigmoid(self.linear2(self.a1))\n",
        "        return yhat"
      ],
      "execution_count": 3,
      "outputs": []
    },
    {
      "cell_type": "markdown",
      "metadata": {
        "id": "L4thC4z-AIQS"
      },
      "source": [
        "Define the training function:\n"
      ]
    },
    {
      "cell_type": "code",
      "metadata": {
        "id": "UTuVwK9LAIQT"
      },
      "source": [
        "# Define the training function\n",
        "\n",
        "def train(Y, X, model, optimizer, criterion, epochs=1000):\n",
        "    cost = []\n",
        "    total=0\n",
        "    for epoch in range(epochs):\n",
        "        total=0\n",
        "        for y, x in zip(Y, X):\n",
        "            yhat = model(x)\n",
        "            loss = criterion(yhat, y)\n",
        "            loss.backward()\n",
        "            optimizer.step()\n",
        "            optimizer.zero_grad()\n",
        "            #cumulative loss \n",
        "            total+=loss.item() \n",
        "        cost.append(total)\n",
        "        if epoch % 300 == 0:    \n",
        "            PlotStuff(X, Y, model, epoch, leg=True)\n",
        "            plt.show()\n",
        "            model(X)\n",
        "            plt.scatter(model.a1.detach().numpy()[:, 0], model.a1.detach().numpy()[:, 1], c=Y.numpy().reshape(-1))\n",
        "            plt.title('activations')\n",
        "            plt.show()\n",
        "    return cost"
      ],
      "execution_count": 5,
      "outputs": []
    },
    {
      "cell_type": "markdown",
      "metadata": {
        "id": "bPnSJxh9AIQU"
      },
      "source": [
        "<!--Empty Space for separating topics-->\n"
      ]
    },
    {
      "cell_type": "markdown",
      "metadata": {
        "id": "sVPZ9pX9AIQU"
      },
      "source": [
        "<h2 id=\"Makeup_Data\">Make Some Data</h2>\n"
      ]
    },
    {
      "cell_type": "code",
      "metadata": {
        "id": "0VjvBbDgAIQU"
      },
      "source": [
        "# Make some data\n",
        "\n",
        "X = torch.arange(-20, 20, 1).view(-1, 1).type(torch.FloatTensor)\n",
        "Y = torch.zeros(X.shape[0])\n",
        "Y[(X[:, 0] > -4) & (X[:, 0] < 4)] = 1.0"
      ],
      "execution_count": 6,
      "outputs": []
    },
    {
      "cell_type": "markdown",
      "metadata": {
        "id": "S5vbkIiYAIQV"
      },
      "source": [
        "<!--Empty Space for separating topics-->\n"
      ]
    },
    {
      "cell_type": "markdown",
      "metadata": {
        "id": "g7hBUvj8AIQV"
      },
      "source": [
        "<h2 id=\"Train\">Define the Neural Network, Criterion Function, Optimizer and Train the Model</h2>\n"
      ]
    },
    {
      "cell_type": "markdown",
      "metadata": {
        "id": "qJ39aYtaAIQW"
      },
      "source": [
        "Create the Cross-Entropy loss function: \n"
      ]
    },
    {
      "cell_type": "code",
      "metadata": {
        "id": "curjIly3AIQX"
      },
      "source": [
        "# The loss function\n",
        "\n",
        "def criterion_cross(outputs, labels):\n",
        "    out = -1 * torch.mean(labels * torch.log(outputs) + (1 - labels) * torch.log(1 - outputs))\n",
        "    return out"
      ],
      "execution_count": 7,
      "outputs": []
    },
    {
      "cell_type": "markdown",
      "metadata": {
        "id": "qvmQ_OQnAIQY"
      },
      "source": [
        "Define the Neural Network, Optimizer, and Train the Model:\n"
      ]
    },
    {
      "cell_type": "code",
      "metadata": {
        "colab": {
          "base_uri": "https://localhost:8080/",
          "height": 1000
        },
        "id": "_mzxogJAAIQZ",
        "outputId": "48cb199a-a143-47db-945c-1702404f3c0f"
      },
      "source": [
        "# Train the model\n",
        "# size of input \n",
        "D_in = 1\n",
        "# size of hidden layer \n",
        "H = 2\n",
        "# number of outputs \n",
        "D_out = 1\n",
        "# learning rate \n",
        "learning_rate = 0.1\n",
        "# create the model \n",
        "model = Net(D_in, H, D_out)\n",
        "#optimizer \n",
        "optimizer = torch.optim.SGD(model.parameters(), lr=learning_rate)\n",
        "#train the model usein\n",
        "cost_cross = train(Y, X, model, optimizer, criterion_cross, epochs=1000)\n",
        "#plot the loss\n",
        "plt.plot(cost_cross)\n",
        "plt.xlabel('epoch')\n",
        "plt.title('cross entropy loss')"
      ],
      "execution_count": 8,
      "outputs": [
        {
          "output_type": "display_data",
          "data": {
            "image/png": "[encoded data removed]",
            "text/plain": [
              "<Figure size 432x288 with 1 Axes>"
            ]
          },
          "metadata": {
            "needs_background": "light"
          }
        },
        {
          "output_type": "display_data",
          "data": {
            "image/png": "[encoded data removed]",
            "text/plain": [
              "<Figure size 432x288 with 1 Axes>"
            ]
          },
          "metadata": {
            "needs_background": "light"
          }
        },
        {
          "output_type": "display_data",
          "data": {
            "image/png": "[encoded data removed]",
            "text/plain": [
              "<Figure size 432x288 with 1 Axes>"
            ]
          },
          "metadata": {
            "needs_background": "light"
          }
        },
        {
          "output_type": "display_data",
          "data": {
            "image/png": "[encoded data removed]",
            "text/plain": [
              "<Figure size 432x288 with 1 Axes>"
            ]
          },
          "metadata": {
            "needs_background": "light"
          }
        },
        {
          "output_type": "display_data",
          "data": {
            "image/png": "[encoded data removed]",
            "text/plain": [
              "<Figure size 432x288 with 1 Axes>"
            ]
          },
          "metadata": {
            "needs_background": "light"
          }
        },
        {
          "output_type": "display_data",
          "data": {
            "image/png": "[encoded data removed]",
            "text/plain": [
              "<Figure size 432x288 with 1 Axes>"
            ]
          },
          "metadata": {
            "needs_background": "light"
          }
        },
        {
          "output_type": "display_data",
          "data": {
            "image/png": "[encoded data removed]",
            "text/plain": [
              "<Figure size 432x288 with 1 Axes>"
            ]
          },
          "metadata": {
            "needs_background": "light"
          }
        },
        {
          "output_type": "display_data",
          "data": {
            "image/png": "[encoded data removed]",
            "text/plain": [
              "<Figure size 432x288 with 1 Axes>"
            ]
          },
          "metadata": {
            "needs_background": "light"
          }
        },
        {
          "output_type": "execute_result",
          "data": {
            "text/plain": [
              "Text(0.5, 1.0, 'cross entropy loss')"
            ]
          },
          "metadata": {},
          "execution_count": 8
        },
        {
          "output_type": "display_data",
          "data": {
            "image/png": "[encoded data removed]",
            "text/plain": [
              "<Figure size 432x288 with 1 Axes>"
            ]
          },
          "metadata": {
            "needs_background": "light"
          }
        }
      ]
    },
    {
      "cell_type": "markdown",
      "metadata": {
        "id": "G5RHBYo-AIQa"
      },
      "source": [
        "By examining the output of the  activation, you see by the 600th epoch that the data has been mapped to a linearly separable space.\n"
      ]
    },
    {
      "cell_type": "markdown",
      "metadata": {
        "id": "ihULsGWOAIQa"
      },
      "source": [
        "we can make a prediction for a arbitrary one tensors \n"
      ]
    },
    {
      "cell_type": "code",
      "metadata": {
        "colab": {
          "base_uri": "https://localhost:8080/"
        },
        "id": "oaIi9ilxAIQb",
        "outputId": "fa8be134-84fa-4ac1-ea1b-bdc688d99665"
      },
      "source": [
        "x=torch.tensor([0.0])\n",
        "yhat=model(x)\n",
        "yhat"
      ],
      "execution_count": 9,
      "outputs": [
        {
          "output_type": "execute_result",
          "data": {
            "text/plain": [
              "tensor([0.9969], grad_fn=<SigmoidBackward>)"
            ]
          },
          "metadata": {},
          "execution_count": 9
        }
      ]
    },
    {
      "cell_type": "markdown",
      "metadata": {
        "id": "6Tc7yBFhAIQc"
      },
      "source": [
        "we can make a prediction for some arbitrary one tensors  \n"
      ]
    },
    {
      "cell_type": "code",
      "metadata": {
        "colab": {
          "base_uri": "https://localhost:8080/"
        },
        "id": "4HfNi8keAIQc",
        "outputId": "5d8682d3-76f6-41ed-85e9-42583429543b"
      },
      "source": [
        "X_=torch.tensor([[0.0],[2.0],[3.0]])\n",
        "Yhat=model(X_)\n",
        "Yhat"
      ],
      "execution_count": 10,
      "outputs": [
        {
          "output_type": "execute_result",
          "data": {
            "text/plain": [
              "tensor([[0.9969],\n",
              "        [0.9963],\n",
              "        [0.9680]], grad_fn=<SigmoidBackward>)"
            ]
          },
          "metadata": {},
          "execution_count": 10
        }
      ]
    },
    {
      "cell_type": "markdown",
      "metadata": {
        "id": "nTgdI5_IAIQd"
      },
      "source": [
        "we  can threshold the predication\n"
      ]
    },
    {
      "cell_type": "code",
      "metadata": {
        "colab": {
          "base_uri": "https://localhost:8080/"
        },
        "id": "3dVsktSlAIQd",
        "outputId": "9be96782-b5ce-46bb-9a05-8d4a94a2e59b"
      },
      "source": [
        "Yhat=Yhat>0.5\n",
        "Yhat"
      ],
      "execution_count": 11,
      "outputs": [
        {
          "output_type": "execute_result",
          "data": {
            "text/plain": [
              "tensor([[True],\n",
              "        [True],\n",
              "        [True]])"
            ]
          },
          "metadata": {},
          "execution_count": 11
        }
      ]
    },
    {
      "cell_type": "markdown",
      "metadata": {
        "id": "jnX6UL1pAIQd"
      },
      "source": [
        "<h3>Practice</h3>\n"
      ]
    },
    {
      "cell_type": "markdown",
      "metadata": {
        "id": "FzZZ-NmuAIQe"
      },
      "source": [
        "Repeat the previous steps above by using the MSE cost or total loss: \n"
      ]
    },
    {
      "cell_type": "code",
      "metadata": {
        "id": "h1bw504PAIQe"
      },
      "source": [
        "# Practice: Train the model with MSE Loss Function\n",
        "\n",
        "# Type your code here"
      ],
      "execution_count": null,
      "outputs": []
    },
    {
      "cell_type": "markdown",
      "metadata": {
        "id": "3UpbZ-2dAIQe"
      },
      "source": [
        "Double-click <b>here</b> for the solution.\n",
        "\n",
        "<!-- \n",
        "learning_rate = 0.1\n",
        "criterion_mse=nn.MSELoss()\n",
        "model=Net(D_in,H,D_out)\n",
        "optimizer=torch.optim.SGD(model.parameters(), lr=learning_rate)\n",
        "cost_mse=train(Y,X,model,optimizer,criterion_mse,epochs=1000)\n",
        "plt.plot(cost_mse)\n",
        "plt.xlabel('epoch')\n",
        "plt.title('MSE loss ')\n",
        "-->\n"
      ]
    },
    {
      "cell_type": "markdown",
      "metadata": {
        "id": "kxWuxjTsAIQf"
      },
      "source": [
        "<a href=\"https://dataplatform.cloud.ibm.com/registration/stepone?context=cpdaas&apps=data_science_experience,watson_machine_learning\"><img src=\"https://cf-courses-data.s3.us.cloud-object-storage.appdomain.cloud/IBMDeveloperSkillsNetwork-DL0110EN-SkillsNetwork/Template/module%201/images/Watson_Studio.png\"/></a>\n"
      ]
    },
    {
      "cell_type": "markdown",
      "metadata": {
        "id": "bYpzoOYUAIQf"
      },
      "source": [
        "<!--Empty Space for separating topics-->\n"
      ]
    },
    {
      "cell_type": "markdown",
      "metadata": {
        "id": "_OzRROGYAIQf"
      },
      "source": [
        "<h2>About the Authors:</h2> \n",
        "\n",
        "<a href=\"https://www.linkedin.com/in/joseph-s-50398b136/\">Joseph Santarcangelo</a> has a PhD in Electrical Engineering, his research focused on using machine learning, signal processing, and computer vision to determine how videos impact human cognition. Joseph has been working for IBM since he completed his PhD. \n"
      ]
    },
    {
      "cell_type": "markdown",
      "metadata": {
        "id": "TIeUNOCCAIQg"
      },
      "source": [
        "Other contributors: <a href=\"https://www.linkedin.com/in/michelleccarey/\">Michelle Carey</a>, <a href=\"www.linkedin.com/in/jiahui-mavis-zhou-a4537814a\">Mavis Zhou</a>\n"
      ]
    },
    {
      "cell_type": "markdown",
      "metadata": {
        "id": "BvAWw1v4AIQg"
      },
      "source": [
        "## Change Log\n",
        "\n",
        "| Date (YYYY-MM-DD) | Version | Changed By | Change Description                                          |\n",
        "| ----------------- | ------- | ---------- | ----------------------------------------------------------- |\n",
        "| 2020-09-23        | 2.0     | Shubham    | Migrated Lab to Markdown and added to course repo in GitLab |\n"
      ]
    },
    {
      "cell_type": "markdown",
      "metadata": {
        "id": "S9vM8Xp3AIQg"
      },
      "source": [
        "<hr>\n"
      ]
    },
    {
      "cell_type": "markdown",
      "metadata": {
        "id": "FOBnPK39AIQg"
      },
      "source": [
        "## <h3 align=\"center\"> © IBM Corporation 2020. All rights reserved. <h3/>\n"
      ]
    }
  ]
}