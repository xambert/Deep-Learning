{
  "nbformat": 4,
  "nbformat_minor": 0,
  "metadata": {
    "kernelspec": {
      "display_name": "Python 3",
      "language": "python",
      "name": "python3"
    },
    "language_info": {
      "codemirror_mode": {
        "name": "ipython",
        "version": 3
      },
      "file_extension": ".py",
      "mimetype": "text/x-python",
      "name": "python",
      "nbconvert_exporter": "python",
      "pygments_lexer": "ipython3",
      "version": "3.7.6"
    },
    "colab": {
      "name": "7.5.2mist1layer_v2.ipynb",
      "provenance": []
    }
  },
  "cells": [
    {
      "cell_type": "markdown",
      "metadata": {
        "id": "l-MvoFQsU78v"
      },
      "source": [
        "<center>\n",
        "    <img src=\"https://cf-courses-data.s3.us.cloud-object-storage.appdomain.cloud/IBMDeveloperSkillsNetwork-DL0110EN-SkillsNetwork/Template/module%201/images/IDSNlogo.png\" width=\"300\" alt=\"cognitiveclass.ai logo\"  />\n",
        "</center>\n"
      ]
    },
    {
      "cell_type": "markdown",
      "metadata": {
        "id": "dbsZZwHTU780"
      },
      "source": [
        "<h1>Test Sigmoid, Tanh, and Relu Activations Functions on the MNIST Dataset</h1>\n"
      ]
    },
    {
      "cell_type": "markdown",
      "metadata": {
        "id": "9csSv9UOU782"
      },
      "source": [
        "<h2>Objective</h2><ul><li> How to apply different activation functions on the MNIST dataset.</li></ul> \n"
      ]
    },
    {
      "cell_type": "markdown",
      "metadata": {
        "id": "plX7iJNaU783"
      },
      "source": [
        "<h2>Table of Contents</h2>\n",
        "<p>In this lab, you will test sigmoid, tanh, and relu activation functions on the MNIST dataset.</p>\n",
        "\n",
        "<ul>\n",
        "    <li><a href=\"#Model\">Neural Network Module and Training Function</a></li>\n",
        "    <li><a href=\"#Makeup_Data\">Make Some Data</a></li>\n",
        "    <li><a href=\"#Train\">Define Several Neural Network, Criterion Function, and Optimizer</a></li>\n",
        "    <li><a href=\"#Test\">Test Sigmoid, Tanh, and Relu</a></li>\n",
        "    <li><a href=\"#Result\">Analyze Results</a></li>\n",
        "</ul>\n",
        "<p></p>\n",
        "Estimated Time Needed: <strong>25 min</strong>\n",
        "</div>\n",
        "\n",
        "<hr>\n"
      ]
    },
    {
      "cell_type": "markdown",
      "metadata": {
        "id": "KcshZG81U785"
      },
      "source": [
        "<h2>Preparation</h2>\n"
      ]
    },
    {
      "cell_type": "markdown",
      "metadata": {
        "id": "m6aHXhL2U785"
      },
      "source": [
        "We'll need the following libraries\n"
      ]
    },
    {
      "cell_type": "code",
      "metadata": {
        "id": "bedwz_sAU786"
      },
      "source": [
        "# Import the libraries we need for this lab\n",
        "\n",
        "# Using the following line code to install the torchvision library\n",
        "# !conda install -y torchvision\n",
        "\n",
        "import torch \n",
        "import torch.nn as nn\n",
        "import torchvision.transforms as transforms\n",
        "import torchvision.datasets as dsets\n",
        "\n",
        "import matplotlib.pylab as plt\n",
        "import numpy as np"
      ],
      "execution_count": null,
      "outputs": []
    },
    {
      "cell_type": "markdown",
      "metadata": {
        "id": "xxcFiXITU78-"
      },
      "source": [
        "<!--Empty Space for separating topics-->\n"
      ]
    },
    {
      "cell_type": "markdown",
      "metadata": {
        "id": "smNwucKYU79A"
      },
      "source": [
        "<h2 id=\"Model\">Neural Network Module and Training Function</h2> \n"
      ]
    },
    {
      "cell_type": "markdown",
      "metadata": {
        "id": "8YzOGoaWU79D"
      },
      "source": [
        "Define the neural network module or class using the sigmoid activation function: \n"
      ]
    },
    {
      "cell_type": "code",
      "metadata": {
        "id": "fGPkO0ehU79F"
      },
      "source": [
        "# Build the model with sigmoid function\n",
        "\n",
        "class Net(nn.Module):\n",
        "    \n",
        "    # Constructor\n",
        "    def __init__(self, D_in, H, D_out):\n",
        "        super(Net, self).__init__()\n",
        "        self.linear1 = nn.Linear(D_in, H)\n",
        "        self.linear2 = nn.Linear(H, D_out)\n",
        "    \n",
        "    # Prediction\n",
        "    def forward(self, x):\n",
        "        x = torch.sigmoid(self.linear1(x))  \n",
        "        x = self.linear2(x)\n",
        "        return x"
      ],
      "execution_count": null,
      "outputs": []
    },
    {
      "cell_type": "markdown",
      "metadata": {
        "id": "M5XlBNNEU79F"
      },
      "source": [
        "Define the neural network module or class using the Tanh activation function:\n"
      ]
    },
    {
      "cell_type": "code",
      "metadata": {
        "id": "7rArubO2U79G"
      },
      "source": [
        "# Build the model with Tanh function\n",
        "\n",
        "class NetTanh(nn.Module):\n",
        "    \n",
        "    # Constructor\n",
        "    def __init__(self, D_in, H, D_out):\n",
        "        super(NetTanh, self).__init__()\n",
        "        self.linear1 = nn.Linear(D_in, H)\n",
        "        self.linear2 = nn.Linear(H, D_out)\n",
        "     \n",
        "    # Prediction\n",
        "    def forward(self, x):\n",
        "        x = torch.tanh(self.linear1(x))  \n",
        "        x = self.linear2(x)\n",
        "        return x"
      ],
      "execution_count": null,
      "outputs": []
    },
    {
      "cell_type": "markdown",
      "metadata": {
        "id": "IzAfVx7iU79I"
      },
      "source": [
        "Define the neural network module or class using the Relu activation function:\n"
      ]
    },
    {
      "cell_type": "code",
      "metadata": {
        "id": "cXJTYeePU79I"
      },
      "source": [
        "# Build the model with Relu function\n",
        "\n",
        "class NetRelu(nn.Module):\n",
        "    \n",
        "    # Constructor\n",
        "    def __init__(self, D_in, H, D_out):\n",
        "        super(NetRelu, self).__init__()\n",
        "        self.linear1 = nn.Linear(D_in, H)\n",
        "        self.linear2 = nn.Linear(H, D_out)\n",
        "    \n",
        "    # Prediction\n",
        "    def forward(self, x):\n",
        "        x = torch.relu(self.linear1(x))  \n",
        "        x = self.linear2(x)\n",
        "        return x"
      ],
      "execution_count": null,
      "outputs": []
    },
    {
      "cell_type": "markdown",
      "metadata": {
        "id": "rmxUKWxZU79J"
      },
      "source": [
        "Define a function to train the model. In this case, the function returns a Python dictionary to store the training loss for each iteration  and accuracy on the validation data.\n"
      ]
    },
    {
      "cell_type": "code",
      "metadata": {
        "id": "l8M7sokpU79J"
      },
      "source": [
        "# Define the function for training the model\n",
        "\n",
        "def train(model, criterion, train_loader, validation_loader, optimizer, epochs = 100):\n",
        "    i = 0\n",
        "    useful_stuff = {'training_loss':[], 'validation_accuracy':[]}  \n",
        "\n",
        "    for epoch in range(epochs):\n",
        "        for i, (x, y) in enumerate(train_loader):\n",
        "            optimizer.zero_grad()\n",
        "            z = model(x.view(-1, 28 * 28))\n",
        "            loss = criterion(z, y)\n",
        "            loss.backward()\n",
        "            optimizer.step()\n",
        "            useful_stuff['training_loss'].append(loss.item())\n",
        "            \n",
        "        correct = 0\n",
        "        for x, y in validation_loader:\n",
        "            z = model(x.view(-1, 28 * 28))\n",
        "            _, label=torch.max(z, 1)\n",
        "            correct += (label == y).sum().item()\n",
        "        accuracy = 100 * (correct / len(validation_dataset))\n",
        "        useful_stuff['validation_accuracy'].append(accuracy)\n",
        "        \n",
        "    return useful_stuff"
      ],
      "execution_count": null,
      "outputs": []
    },
    {
      "cell_type": "markdown",
      "metadata": {
        "id": "iyraL0NzU79K"
      },
      "source": [
        "<!--Empty Space for separating topics-->\n"
      ]
    },
    {
      "cell_type": "markdown",
      "metadata": {
        "id": "t6fkI9anU79K"
      },
      "source": [
        "<h2 id=\"Makeup_Data\">Make Some Data</h2> \n"
      ]
    },
    {
      "cell_type": "markdown",
      "metadata": {
        "id": "E5BOLo4wU79L"
      },
      "source": [
        "Load the training dataset by setting the parameters <code>train</code> to <code>True</code> and convert it to a tensor by placing a transform object in the argument <code>transform</code>.\n"
      ]
    },
    {
      "cell_type": "code",
      "metadata": {
        "id": "mS7X5SltU79L"
      },
      "source": [
        "# Create the training dataset\n",
        "\n",
        "train_dataset = dsets.MNIST(root='./data', train=True, download=True, transform=transforms.ToTensor())"
      ],
      "execution_count": null,
      "outputs": []
    },
    {
      "cell_type": "markdown",
      "metadata": {
        "id": "fPOYmX3qU79M"
      },
      "source": [
        "Load the testing dataset by setting the parameter <code>train</code> to <code>False</code> and convert it to a tensor by placing a transform object in the argument <code>transform</code>.\n"
      ]
    },
    {
      "cell_type": "code",
      "metadata": {
        "id": "foYRAbGtU79N"
      },
      "source": [
        "# Create the validation  dataset\n",
        "\n",
        "validation_dataset = dsets.MNIST(root='./data', train=False, download=True, transform=transforms.ToTensor())"
      ],
      "execution_count": null,
      "outputs": []
    },
    {
      "cell_type": "markdown",
      "metadata": {
        "id": "F7I2KXROU79O"
      },
      "source": [
        "Create the criterion function:  \n"
      ]
    },
    {
      "cell_type": "code",
      "metadata": {
        "id": "9Bm8lToVU79O"
      },
      "source": [
        "# Create the criterion function\n",
        "\n",
        "criterion = nn.CrossEntropyLoss()"
      ],
      "execution_count": null,
      "outputs": []
    },
    {
      "cell_type": "markdown",
      "metadata": {
        "id": "H1PloxwhU79O"
      },
      "source": [
        "Create the training-data loader and the validation-data loader object:\n"
      ]
    },
    {
      "cell_type": "code",
      "metadata": {
        "id": "5vdCRxqtU79P"
      },
      "source": [
        "# Create the training data loader and validation data loader object\n",
        "\n",
        "train_loader = torch.utils.data.DataLoader(dataset=train_dataset, batch_size=2000, shuffle=True)\n",
        "validation_loader = torch.utils.data.DataLoader(dataset=validation_dataset, batch_size=5000, shuffle=False)"
      ],
      "execution_count": null,
      "outputs": []
    },
    {
      "cell_type": "markdown",
      "metadata": {
        "id": "qqjQ8MvjU79P"
      },
      "source": [
        "<!--Empty Space for separating topics-->\n"
      ]
    },
    {
      "cell_type": "markdown",
      "metadata": {
        "id": "rmYM8LpzU79P"
      },
      "source": [
        "<h2 id=\"Train\">Define the Neural Network, Criterion Function, Optimizer, and Train the Model</h2> \n"
      ]
    },
    {
      "cell_type": "markdown",
      "metadata": {
        "id": "9rInhW55U79Q"
      },
      "source": [
        "Create the criterion function: \n"
      ]
    },
    {
      "cell_type": "code",
      "metadata": {
        "id": "C7EtlVGFU79Q"
      },
      "source": [
        "# Create the criterion function\n",
        "\n",
        "criterion = nn.CrossEntropyLoss()"
      ],
      "execution_count": null,
      "outputs": []
    },
    {
      "cell_type": "markdown",
      "metadata": {
        "id": "2hL79lxUU79Q"
      },
      "source": [
        "Create the model with 100 hidden neurons:  \n"
      ]
    },
    {
      "cell_type": "code",
      "metadata": {
        "id": "RDCMo-WHU79R"
      },
      "source": [
        "# Create the model object\n",
        "\n",
        "input_dim = 28 * 28\n",
        "hidden_dim = 100\n",
        "output_dim = 10\n",
        "\n",
        "model = Net(input_dim, hidden_dim, output_dim)"
      ],
      "execution_count": null,
      "outputs": []
    },
    {
      "cell_type": "markdown",
      "metadata": {
        "id": "RlDcWlHYU79R"
      },
      "source": [
        "<!--Empty Space for separating topics-->\n"
      ]
    },
    {
      "cell_type": "markdown",
      "metadata": {
        "id": "SmWS5SzPU79R"
      },
      "source": [
        "<h2 id=\"Test\">Test Sigmoid, Tanh, and Relu</h2> \n"
      ]
    },
    {
      "cell_type": "markdown",
      "metadata": {
        "id": "5ZFAa79nU79R"
      },
      "source": [
        "Train the network by using the sigmoid activations function:\n"
      ]
    },
    {
      "cell_type": "code",
      "metadata": {
        "id": "cPpyAjOPU79S"
      },
      "source": [
        "# Train a model with sigmoid function\n",
        "\n",
        "learning_rate = 0.01\n",
        "optimizer = torch.optim.SGD(model.parameters(), lr=learning_rate)\n",
        "training_results = train(model, criterion, train_loader, validation_loader, optimizer, epochs=30)"
      ],
      "execution_count": null,
      "outputs": []
    },
    {
      "cell_type": "markdown",
      "metadata": {
        "id": "Gl2yGFVuU79S"
      },
      "source": [
        "Train the network by using the Tanh activations function:\n"
      ]
    },
    {
      "cell_type": "code",
      "metadata": {
        "id": "NtZtK5j2U79S"
      },
      "source": [
        "# Train a model with Tanh function\n",
        "\n",
        "model_Tanh = NetTanh(input_dim, hidden_dim, output_dim)\n",
        "optimizer = torch.optim.SGD(model_Tanh.parameters(), lr=learning_rate)\n",
        "training_results_tanch = train(model_Tanh, criterion, train_loader, validation_loader, optimizer, epochs=30)"
      ],
      "execution_count": null,
      "outputs": []
    },
    {
      "cell_type": "markdown",
      "metadata": {
        "id": "6bUcTO7VU79S"
      },
      "source": [
        "Train the network by using the Relu activations function:\n"
      ]
    },
    {
      "cell_type": "code",
      "metadata": {
        "id": "_MdxEdeLU79T"
      },
      "source": [
        "# Train a model with Relu function\n",
        "\n",
        "modelRelu = NetRelu(input_dim, hidden_dim, output_dim)\n",
        "optimizer = torch.optim.SGD(modelRelu.parameters(), lr=learning_rate)\n",
        "training_results_relu = train(modelRelu,criterion, train_loader, validation_loader, optimizer, epochs=30)"
      ],
      "execution_count": null,
      "outputs": []
    },
    {
      "cell_type": "markdown",
      "metadata": {
        "id": "boJ4Y7c_U79T"
      },
      "source": [
        "<!--Empty Space for separating topics-->\n"
      ]
    },
    {
      "cell_type": "markdown",
      "metadata": {
        "id": "9F4mqivKU79T"
      },
      "source": [
        "<h2 id=\"Result\">Analyze Results</h2> \n"
      ]
    },
    {
      "cell_type": "markdown",
      "metadata": {
        "id": "wLjx7EkBU79U"
      },
      "source": [
        "Compare the training loss for each activation: \n"
      ]
    },
    {
      "cell_type": "code",
      "metadata": {
        "id": "tc5PeNosU79U"
      },
      "source": [
        "# Compare the training loss\n",
        "\n",
        "plt.plot(training_results_tanch['training_loss'], label='tanh')\n",
        "plt.plot(training_results['training_loss'], label='sigmoid')\n",
        "plt.plot(training_results_relu['training_loss'], label='relu')\n",
        "plt.ylabel('loss')\n",
        "plt.title('training loss iterations')\n",
        "plt.legend()\n",
        "plt.show()"
      ],
      "execution_count": null,
      "outputs": []
    },
    {
      "cell_type": "markdown",
      "metadata": {
        "id": "dMsd67DjU79U"
      },
      "source": [
        "Compare the validation loss for each model:  \n"
      ]
    },
    {
      "cell_type": "code",
      "metadata": {
        "id": "-6C70oeUU79U"
      },
      "source": [
        "# Compare the validation loss\n",
        "\n",
        "plt.plot(training_results_tanch['validation_accuracy'], label='tanh')\n",
        "plt.plot(training_results['validation_accuracy'], label='sigmoid')\n",
        "plt.plot(training_results_relu['validation_accuracy'], label='relu') \n",
        "plt.ylabel('validation accuracy')\n",
        "plt.xlabel('epochs ')   \n",
        "plt.legend()\n",
        "plt.show()"
      ],
      "execution_count": null,
      "outputs": []
    },
    {
      "cell_type": "markdown",
      "metadata": {
        "id": "cXhMszhsU79U"
      },
      "source": [
        "<!--Empty Space for separating topics-->\n"
      ]
    },
    {
      "cell_type": "markdown",
      "metadata": {
        "id": "MGqTJ4mRU79V"
      },
      "source": [
        "## Which activation function performed best ?\n"
      ]
    },
    {
      "cell_type": "markdown",
      "metadata": {
        "id": "hN_OdwBgU79V"
      },
      "source": [
        "<a href=\"https://dataplatform.cloud.ibm.com/registration/stepone?context=cpdaas&apps=data_science_experience,watson_machine_learning\"><img src=\"https://cf-courses-data.s3.us.cloud-object-storage.appdomain.cloud/IBMDeveloperSkillsNetwork-DL0110EN-SkillsNetwork/Template/module%201/images/Watson_Studio.png\"/></a>\n"
      ]
    },
    {
      "cell_type": "markdown",
      "metadata": {
        "id": "EqOznKa5U79V"
      },
      "source": [
        "<h2>About the Authors:</h2> \n",
        "\n",
        "<a href=\"https://www.linkedin.com/in/joseph-s-50398b136/\">Joseph Santarcangelo</a> has a PhD in Electrical Engineering, his research focused on using machine learning, signal processing, and computer vision to determine how videos impact human cognition. Joseph has been working for IBM since he completed his PhD. \n"
      ]
    },
    {
      "cell_type": "markdown",
      "metadata": {
        "id": "VO5yIFQnU79V"
      },
      "source": [
        "Other contributors: <a href=\"https://www.linkedin.com/in/michelleccarey/\">Michelle Carey</a>, <a href=\"www.linkedin.com/in/jiahui-mavis-zhou-a4537814a\">Mavis Zhou</a>\n"
      ]
    },
    {
      "cell_type": "markdown",
      "metadata": {
        "id": "GzRyLi-fU79V"
      },
      "source": [
        "## Change Log\n",
        "\n",
        "| Date (YYYY-MM-DD) | Version | Changed By | Change Description                                          |\n",
        "| ----------------- | ------- | ---------- | ----------------------------------------------------------- |\n",
        "| 2020-09-23        | 2.0     | Shubham    | Migrated Lab to Markdown and added to course repo in GitLab |\n"
      ]
    },
    {
      "cell_type": "markdown",
      "metadata": {
        "id": "P-nHavZ8U79W"
      },
      "source": [
        "<hr>\n"
      ]
    },
    {
      "cell_type": "markdown",
      "metadata": {
        "id": "44iftDVNU79W"
      },
      "source": [
        "## <h3 align=\"center\"> © IBM Corporation 2020. All rights reserved. <h3/>\n"
      ]
    }
  ]
}