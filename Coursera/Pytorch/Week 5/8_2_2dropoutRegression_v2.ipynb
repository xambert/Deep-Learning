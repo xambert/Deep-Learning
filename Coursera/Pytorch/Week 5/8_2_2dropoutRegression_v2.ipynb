{
  "nbformat": 4,
  "nbformat_minor": 0,
  "metadata": {
    "kernelspec": {
      "display_name": "Python 3",
      "language": "python",
      "name": "python3"
    },
    "language_info": {
      "codemirror_mode": {
        "name": "ipython",
        "version": 3
      },
      "file_extension": ".py",
      "mimetype": "text/x-python",
      "name": "python",
      "nbconvert_exporter": "python",
      "pygments_lexer": "ipython3",
      "version": "3.7.6"
    },
    "colab": {
      "name": "8.2.2dropoutRegression_v2.ipynb",
      "provenance": []
    }
  },
  "cells": [
    {
      "cell_type": "markdown",
      "metadata": {
        "id": "arrBD5Sj7KCZ"
      },
      "source": [
        "<center>\n",
        "    <img src=\"https://cf-courses-data.s3.us.cloud-object-storage.appdomain.cloud/IBMDeveloperSkillsNetwork-DL0110EN-SkillsNetwork/Template/module%201/images/IDSNlogo.png\" width=\"300\" alt=\"cognitiveclass.ai logo\"  />\n",
        "</center>\n"
      ]
    },
    {
      "cell_type": "markdown",
      "metadata": {
        "id": "0O1xZ1IV7KCe"
      },
      "source": [
        "<h1>Using Dropout in Regression</h1>\n"
      ]
    },
    {
      "cell_type": "markdown",
      "metadata": {
        "id": "6ctxp-OW7KCg"
      },
      "source": [
        "<h3>Objective for this Notebook<h3>    \n",
        "<h5> 1. Create the Model and Cost Function the PyTorch way.</h5>\n",
        "<h5> 2. Learn Batch Gradient Descent </h5>    \n"
      ]
    },
    {
      "cell_type": "markdown",
      "metadata": {
        "id": "HOri2VtQ7KCi"
      },
      "source": [
        "<h2>Table of Contents</h2>\n",
        "<p>In this lab, you will see how adding dropout to your model will decrease overfitting.</p>\n",
        "\n",
        "<ul>\n",
        "    <li><a href=\"#Makeup_Data\">Make Some Data</a></li>\n",
        "    <li><a href=\"#Model_Cost\">Create the Model and Cost Function the PyTorch way</a></li>\n",
        "    <li><a href=\"#BGD\">Batch Gradient Descent</a></li>\n",
        "</ul>\n",
        "<p>Estimated Time Needed: <strong>20 min</strong></p>\n",
        "\n",
        "<hr>\n"
      ]
    },
    {
      "cell_type": "markdown",
      "metadata": {
        "id": "vqOmzVWZ7KCj"
      },
      "source": [
        "<h2>Preparation</h2>\n"
      ]
    },
    {
      "cell_type": "markdown",
      "metadata": {
        "id": "giYGVwLf7KCj"
      },
      "source": [
        "We'll need the following libraries\n"
      ]
    },
    {
      "cell_type": "code",
      "metadata": {
        "colab": {
          "base_uri": "https://localhost:8080/"
        },
        "id": "3PkoOz6H7KCk",
        "outputId": "fe1d3bef-a28a-45af-f49d-1ebf77fd136c"
      },
      "source": [
        "# Import the libraries we need for the lab\n",
        "\n",
        "import torch\n",
        "import matplotlib.pyplot as plt\n",
        "import torch.nn as nn\n",
        "import torch.nn.functional as F\n",
        "import numpy as np\n",
        "from torch.utils.data import Dataset, DataLoader\n",
        "\n",
        "torch.manual_seed(0) "
      ],
      "execution_count": 1,
      "outputs": [
        {
          "output_type": "execute_result",
          "data": {
            "text/plain": [
              "<torch._C.Generator at 0x7fb066054ab0>"
            ]
          },
          "metadata": {},
          "execution_count": 1
        }
      ]
    },
    {
      "cell_type": "markdown",
      "metadata": {
        "id": "DEaNdBMz7KCl"
      },
      "source": [
        "<!--Empty Space for separating topics-->\n"
      ]
    },
    {
      "cell_type": "markdown",
      "metadata": {
        "id": "02StgTns7KCn"
      },
      "source": [
        "<h2 id=\"Makeup_Data\">Make Some Data</h2>\n"
      ]
    },
    {
      "cell_type": "markdown",
      "metadata": {
        "id": "TDMoTB0b7KCo"
      },
      "source": [
        "Create polynomial dataset class: \n"
      ]
    },
    {
      "cell_type": "code",
      "metadata": {
        "id": "_StE5Ld17KCp"
      },
      "source": [
        "# Create Data object\n",
        "\n",
        "class Data(Dataset):\n",
        "    \n",
        "    # Constructor\n",
        "    def __init__(self, N_SAMPLES=40, noise_std=1, train=True):\n",
        "        self.x = torch.linspace(-1, 1, N_SAMPLES).view(-1, 1)\n",
        "        self.f = self.x ** 2\n",
        "        if train != True:\n",
        "            torch.manual_seed(1)\n",
        "            self.y = self.f + noise_std * torch.randn(self.f.size())\n",
        "            self.y = self.y.view(-1, 1)\n",
        "            torch.manual_seed(0)\n",
        "        else:\n",
        "            self.y = self.f + noise_std * torch.randn(self.f.size())\n",
        "            self.y = self.y.view(-1, 1)\n",
        "            \n",
        "    # Getter\n",
        "    def __getitem__(self, index):    \n",
        "        return self.x[index], self.y[index]\n",
        "    \n",
        "    # Get Length\n",
        "    def __len__(self):\n",
        "        return self.len\n",
        "    \n",
        "    # Plot the data\n",
        "    def plot(self):\n",
        "        plt.figure(figsize = (6.1, 10))\n",
        "        plt.scatter(self.x.numpy(), self.y.numpy(), label=\"Samples\")\n",
        "        plt.plot(self.x.numpy(), self.f.numpy() ,label=\"True Function\", color='orange')\n",
        "        plt.xlabel(\"x\")\n",
        "        plt.ylabel(\"y\")\n",
        "        plt.xlim((-1, 1))\n",
        "        plt.ylim((-2, 2.5))\n",
        "        plt.legend(loc=\"best\")\n",
        "        plt.show()"
      ],
      "execution_count": 2,
      "outputs": []
    },
    {
      "cell_type": "markdown",
      "metadata": {
        "id": "Q7l62C1g7KCq"
      },
      "source": [
        "Create a dataset object:\n"
      ]
    },
    {
      "cell_type": "code",
      "metadata": {
        "colab": {
          "base_uri": "https://localhost:8080/",
          "height": 610
        },
        "id": "CLL6C9Nt7KCq",
        "outputId": "2295e8a7-8d5a-4dec-a09a-d0930fa0e06c"
      },
      "source": [
        "# Create the dataset object and plot the dataset\n",
        "\n",
        "data_set = Data()\n",
        "data_set.plot()"
      ],
      "execution_count": 3,
      "outputs": [
        {
          "output_type": "display_data",
          "data": {
            "image/png": "[encoded data removed]",
            "text/plain": [
              "<Figure size 439.2x720 with 1 Axes>"
            ]
          },
          "metadata": {
            "needs_background": "light"
          }
        }
      ]
    },
    {
      "cell_type": "markdown",
      "metadata": {
        "id": "gSaIwvzr7KCr"
      },
      "source": [
        "Get some validation data: \n"
      ]
    },
    {
      "cell_type": "code",
      "metadata": {
        "id": "cuP7IlXm7KCr"
      },
      "source": [
        "# Create validation dataset object\n",
        "\n",
        "validation_set = Data(train=False)"
      ],
      "execution_count": 4,
      "outputs": []
    },
    {
      "cell_type": "markdown",
      "metadata": {
        "id": "m89Bk85R7KCs"
      },
      "source": [
        "<!--Empty Space for separating topics-->\n"
      ]
    },
    {
      "cell_type": "markdown",
      "metadata": {
        "id": "hB0Uvad57KCs"
      },
      "source": [
        "<h2 id=\"Model_Cost\">Create the Model, Optimizer, and Total Loss Function (Cost)</h2>\n"
      ]
    },
    {
      "cell_type": "markdown",
      "metadata": {
        "id": "RMeqZR7L7KCt"
      },
      "source": [
        "Create a custom module with three layers. <code>in_size</code> is the size of the input features, <code>n_hidden</code> is the size of the layers, and <code>out_size</code> is the size. <code>p</code> is dropout probability. The default is 0 which is no dropout.\n"
      ]
    },
    {
      "cell_type": "code",
      "metadata": {
        "id": "0B699qEa7KCt"
      },
      "source": [
        "# Create the class for model\n",
        "\n",
        "class Net(nn.Module):\n",
        "    \n",
        "    # Constructor\n",
        "    def __init__(self, in_size, n_hidden, out_size, p=0):\n",
        "        super(Net, self).__init__()\n",
        "        self.drop = nn.Dropout(p=p)\n",
        "        self.linear1 = nn.Linear(in_size, n_hidden)\n",
        "        self.linear2 = nn.Linear(n_hidden, n_hidden)\n",
        "        self.linear3 = nn.Linear(n_hidden, out_size)\n",
        "        \n",
        "    def forward(self, x):\n",
        "        x = F.relu(self.drop(self.linear1(x)))\n",
        "        x = F.relu(self.drop(self.linear2(x)))\n",
        "        x = self.linear3(x)\n",
        "        return x"
      ],
      "execution_count": 5,
      "outputs": []
    },
    {
      "cell_type": "markdown",
      "metadata": {
        "id": "1QumtptX7KCt"
      },
      "source": [
        "Create two model objects: <code>model</code> had no dropout, and <code>model_drop </cdoe> has a dropout probability of 0.5:\n"
      ]
    },
    {
      "cell_type": "code",
      "metadata": {
        "id": "5qyBoBqV7KCu"
      },
      "source": [
        "# Create the model objects\n",
        "\n",
        "model = Net(1, 300, 1)\n",
        "model_drop = Net(1, 300, 1, p=0.5)"
      ],
      "execution_count": 6,
      "outputs": []
    },
    {
      "cell_type": "markdown",
      "metadata": {
        "id": "8MNU_Tqb7KCu"
      },
      "source": [
        "<!--Empty Space for separating topics-->\n"
      ]
    },
    {
      "cell_type": "markdown",
      "metadata": {
        "id": "nHNSRRZe7KCv"
      },
      "source": [
        "<h2 id=\"Train\">Train the Model via Mini-Batch Gradient Descent</h2>\n"
      ]
    },
    {
      "cell_type": "markdown",
      "metadata": {
        "id": "bR_cttOP7KCv"
      },
      "source": [
        "Set the model using dropout to training mode; this is the default mode, but it's good practice. \n"
      ]
    },
    {
      "cell_type": "code",
      "metadata": {
        "colab": {
          "base_uri": "https://localhost:8080/"
        },
        "id": "bwwe07Ay7KCv",
        "outputId": "f0416cfe-34c0-4d0f-8973-655a153ea293"
      },
      "source": [
        "# Set the model to train mode\n",
        "\n",
        "model_drop.train()"
      ],
      "execution_count": 7,
      "outputs": [
        {
          "output_type": "execute_result",
          "data": {
            "text/plain": [
              "Net(\n",
              "  (drop): Dropout(p=0.5, inplace=False)\n",
              "  (linear1): Linear(in_features=1, out_features=300, bias=True)\n",
              "  (linear2): Linear(in_features=300, out_features=300, bias=True)\n",
              "  (linear3): Linear(in_features=300, out_features=1, bias=True)\n",
              ")"
            ]
          },
          "metadata": {},
          "execution_count": 7
        }
      ]
    },
    {
      "cell_type": "markdown",
      "metadata": {
        "id": "PgKFj1wo7KCw"
      },
      "source": [
        "Train the model by using the Adam optimizer. See the unit on other optimizers. Use the mean square loss: \n"
      ]
    },
    {
      "cell_type": "code",
      "metadata": {
        "id": "FxqOFAuH7KCw"
      },
      "source": [
        "# Set the optimizer and criterion function\n",
        "\n",
        "optimizer_ofit = torch.optim.Adam(model.parameters(), lr=0.01)\n",
        "optimizer_drop = torch.optim.Adam(model_drop.parameters(), lr=0.01)\n",
        "criterion = torch.nn.MSELoss()"
      ],
      "execution_count": 8,
      "outputs": []
    },
    {
      "cell_type": "markdown",
      "metadata": {
        "id": "V6rUu6PK7KCw"
      },
      "source": [
        "Initialize a dictionary that stores the training and validation loss for each model:\n"
      ]
    },
    {
      "cell_type": "code",
      "metadata": {
        "id": "77yKK_sA7KCx"
      },
      "source": [
        "# Initialize the dict to contain the loss results\n",
        "\n",
        "LOSS={}\n",
        "LOSS['training data no dropout']=[]\n",
        "LOSS['validation data no dropout']=[]\n",
        "LOSS['training data dropout']=[]\n",
        "LOSS['validation data dropout']=[]"
      ],
      "execution_count": 9,
      "outputs": []
    },
    {
      "cell_type": "markdown",
      "metadata": {
        "id": "_nd2a5mV7KCx"
      },
      "source": [
        "Run 500 iterations of batch gradient descent: \n"
      ]
    },
    {
      "cell_type": "code",
      "metadata": {
        "id": "00sLeU5w7KCx"
      },
      "source": [
        "# Train the model\n",
        "\n",
        "epochs = 500\n",
        "\n",
        "def train_model(epochs):\n",
        "    for epoch in range(epochs):\n",
        "        yhat = model(data_set.x)\n",
        "        yhat_drop = model_drop(data_set.x)\n",
        "        loss = criterion(yhat, data_set.y)\n",
        "        loss_drop = criterion(yhat_drop, data_set.y)\n",
        "\n",
        "        #store the loss for  both the training and validation  data for both models \n",
        "        LOSS['training data no dropout'].append(loss.item())\n",
        "        LOSS['validation data no dropout'].append(criterion(model(validation_set.x), validation_set.y).item())\n",
        "        LOSS['training data dropout'].append(loss_drop.item())\n",
        "        model_drop.eval()\n",
        "        LOSS['validation data dropout'].append(criterion(model_drop(validation_set.x), validation_set.y).item())\n",
        "        model_drop.train()\n",
        "\n",
        "        optimizer_ofit.zero_grad()\n",
        "        optimizer_drop.zero_grad()\n",
        "        loss.backward()\n",
        "        loss_drop.backward()\n",
        "        optimizer_ofit.step()\n",
        "        optimizer_drop.step()\n",
        "        \n",
        "train_model(epochs)"
      ],
      "execution_count": 10,
      "outputs": []
    },
    {
      "cell_type": "markdown",
      "metadata": {
        "id": "x750F1Vq7KCy"
      },
      "source": [
        "Set the model with dropout to evaluation mode:\n"
      ]
    },
    {
      "cell_type": "code",
      "metadata": {
        "colab": {
          "base_uri": "https://localhost:8080/"
        },
        "id": "-dwE6PIj7KCy",
        "outputId": "fa22ea4e-1cc3-41ef-e068-5add8a558de8"
      },
      "source": [
        "# Set the model with dropout to evaluation mode\n",
        "\n",
        "model_drop.eval()"
      ],
      "execution_count": 11,
      "outputs": [
        {
          "output_type": "execute_result",
          "data": {
            "text/plain": [
              "Net(\n",
              "  (drop): Dropout(p=0.5, inplace=False)\n",
              "  (linear1): Linear(in_features=1, out_features=300, bias=True)\n",
              "  (linear2): Linear(in_features=300, out_features=300, bias=True)\n",
              "  (linear3): Linear(in_features=300, out_features=1, bias=True)\n",
              ")"
            ]
          },
          "metadata": {},
          "execution_count": 11
        }
      ]
    },
    {
      "cell_type": "markdown",
      "metadata": {
        "id": "dgu8VtSI7KCz"
      },
      "source": [
        "Make a prediction by using both models: \n"
      ]
    },
    {
      "cell_type": "code",
      "metadata": {
        "id": "vu9MBPpX7KCz"
      },
      "source": [
        "# Make the prediction\n",
        "\n",
        "yhat = model(data_set.x)\n",
        "yhat_drop = model_drop(data_set.x)"
      ],
      "execution_count": 12,
      "outputs": []
    },
    {
      "cell_type": "markdown",
      "metadata": {
        "id": "Qq3w_4di7KCz"
      },
      "source": [
        "Plot predictions of both models. Compare them to the training points and the true function: \n"
      ]
    },
    {
      "cell_type": "code",
      "metadata": {
        "colab": {
          "base_uri": "https://localhost:8080/",
          "height": 610
        },
        "id": "Zd_cmFA27KCz",
        "outputId": "803544c9-256f-407e-fba7-5f0e8b16655b"
      },
      "source": [
        "# Plot the predictions for both models\n",
        "\n",
        "plt.figure(figsize=(6.1, 10))\n",
        "\n",
        "plt.scatter(data_set.x.numpy(), data_set.y.numpy(), label=\"Samples\")\n",
        "plt.plot(data_set.x.numpy(), data_set.f.numpy(), label=\"True function\", color='orange')\n",
        "plt.plot(data_set.x.numpy(), yhat.detach().numpy(), label='no dropout', c='r')\n",
        "plt.plot(data_set.x.numpy(), yhat_drop.detach().numpy(), label=\"dropout\", c ='g')\n",
        "\n",
        "plt.xlabel(\"x\")\n",
        "plt.ylabel(\"y\")\n",
        "plt.xlim((-1, 1))\n",
        "plt.ylim((-2, 2.5))\n",
        "plt.legend(loc = \"best\")\n",
        "plt.show()"
      ],
      "execution_count": 13,
      "outputs": [
        {
          "output_type": "display_data",
          "data": {
            "image/png": "[encoded data removed]",
            "text/plain": [
              "<Figure size 439.2x720 with 1 Axes>"
            ]
          },
          "metadata": {
            "needs_background": "light"
          }
        }
      ]
    },
    {
      "cell_type": "markdown",
      "metadata": {
        "id": "Ua7UoKeN7KC0"
      },
      "source": [
        "You can see that the model using dropout does better at tracking the function that generated the data. We use the log to make the difference more apparent \n"
      ]
    },
    {
      "cell_type": "markdown",
      "metadata": {
        "id": "mMYIs9cP7KC0"
      },
      "source": [
        "Plot out the loss for training and validation data on both models:  \n"
      ]
    },
    {
      "cell_type": "code",
      "metadata": {
        "colab": {
          "base_uri": "https://localhost:8080/",
          "height": 606
        },
        "id": "ActaL8mQ7KC0",
        "outputId": "bbbfdd99-1afa-494b-ce28-16cbef12cffb"
      },
      "source": [
        "# Plot the loss\n",
        "\n",
        "plt.figure(figsize=(6.1, 10))\n",
        "for key, value in LOSS.items():\n",
        "    plt.plot(np.log(np.array(value)), label=key)\n",
        "    plt.legend()\n",
        "    plt.xlabel(\"iterations\")\n",
        "    plt.ylabel(\"Log of cost or total loss\")"
      ],
      "execution_count": 14,
      "outputs": [
        {
          "output_type": "display_data",
          "data": {
            "image/png": "[encoded data removed]",
            "text/plain": [
              "<Figure size 439.2x720 with 1 Axes>"
            ]
          },
          "metadata": {
            "needs_background": "light"
          }
        }
      ]
    },
    {
      "cell_type": "markdown",
      "metadata": {
        "id": "_0F74UUF7KC0"
      },
      "source": [
        "You see that the model without dropout performs better on the training data, but it performs worse on the validation data. This suggests overfitting.  However, the model using dropout performs better on the validation data, but worse on the training data. \n"
      ]
    },
    {
      "cell_type": "markdown",
      "metadata": {
        "id": "omywBb437KC1"
      },
      "source": [
        "<a href=\"https://dataplatform.cloud.ibm.com/registration/stepone?context=cpdaas&apps=data_science_experience,watson_machine_learning\"><img src=\"https://cf-courses-data.s3.us.cloud-object-storage.appdomain.cloud/IBMDeveloperSkillsNetwork-DL0110EN-SkillsNetwork/Template/module%201/images/Watson_Studio.png\"/></a>\n"
      ]
    },
    {
      "cell_type": "markdown",
      "metadata": {
        "id": "QMqNPly_7KC1"
      },
      "source": [
        "<!--Empty Space for separating topics-->\n"
      ]
    },
    {
      "cell_type": "markdown",
      "metadata": {
        "id": "yREMvzeK7KC1"
      },
      "source": [
        "<h2>About the Authors:</h2> \n",
        "\n",
        "<a href=\"https://www.linkedin.com/in/joseph-s-50398b136/\">Joseph Santarcangelo</a> has a PhD in Electrical Engineering, his research focused on using machine learning, signal processing, and computer vision to determine how videos impact human cognition. Joseph has been working for IBM since he completed his PhD. \n"
      ]
    },
    {
      "cell_type": "markdown",
      "metadata": {
        "id": "8KIarsBq7KC1"
      },
      "source": [
        "Other contributors: <a href=\"https://www.linkedin.com/in/michelleccarey/\">Michelle Carey</a>, <a href=\"www.linkedin.com/in/jiahui-mavis-zhou-a4537814a\">Mavis Zhou</a>\n"
      ]
    },
    {
      "cell_type": "markdown",
      "metadata": {
        "id": "S9LjXHng7KC2"
      },
      "source": [
        "## Change Log\n",
        "\n",
        "| Date (YYYY-MM-DD) | Version | Changed By | Change Description                                          |\n",
        "| ----------------- | ------- | ---------- | ----------------------------------------------------------- |\n",
        "| 2020-09-23        | 2.0     | Srishti    | Migrated Lab to Markdown and added to course repo in GitLab |\n",
        "\n",
        "<hr>\n",
        "\n",
        "## <h3 align=\"center\"> © IBM Corporation 2020. All rights reserved. <h3/>\n"
      ]
    }
  ]
}