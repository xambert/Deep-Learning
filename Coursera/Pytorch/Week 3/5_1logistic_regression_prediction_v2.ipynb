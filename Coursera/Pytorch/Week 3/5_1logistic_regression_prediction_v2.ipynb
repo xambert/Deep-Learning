{
  "nbformat": 4,
  "nbformat_minor": 0,
  "metadata": {
    "kernelspec": {
      "display_name": "Python 3",
      "language": "python",
      "name": "python3"
    },
    "language_info": {
      "codemirror_mode": {
        "name": "ipython",
        "version": 3
      },
      "file_extension": ".py",
      "mimetype": "text/x-python",
      "name": "python",
      "nbconvert_exporter": "python",
      "pygments_lexer": "ipython3",
      "version": "3.7.6"
    },
    "colab": {
      "name": "5.1logistic_regression_prediction_v2.ipynb",
      "provenance": []
    }
  },
  "cells": [
    {
      "cell_type": "markdown",
      "metadata": {
        "id": "JPX8rtJZhmaQ"
      },
      "source": [
        "<center>\n",
        "    <img src=\"https://cf-courses-data.s3.us.cloud-object-storage.appdomain.cloud/IBMDeveloperSkillsNetwork-DL0110EN-SkillsNetwork/Template/module%201/images/IDSNlogo.png\" width=\"300\" alt=\"cognitiveclass.ai logo\"  />\n",
        "</center>\n"
      ]
    },
    {
      "cell_type": "markdown",
      "metadata": {
        "id": "8wROQrdChmaW"
      },
      "source": [
        "<h1>Logistic Regression</h1>\n"
      ]
    },
    {
      "cell_type": "markdown",
      "metadata": {
        "id": "dsu1nxG8hmaW"
      },
      "source": [
        "<h2>Objective</h2><ul><li> How to create a logistic regression object with the nn.Sequential model.</li></ul> \n"
      ]
    },
    {
      "cell_type": "markdown",
      "metadata": {
        "id": "4AZnuwRXhmaX"
      },
      "source": [
        "<h2>Table of Contents</h2>\n",
        "<p>In this lab, we will cover logistic regression using PyTorch.</p>\n",
        "\n",
        "<ul>\n",
        "    <li><a href=\"#Log\">Logistic Function</a></li>\n",
        "    <li><a href=\"#Seq\">Build a Logistic Regression Using nn.Sequential</a></li>\n",
        "    <li><a href=\"#Model\">Build Custom Modules</a></li>\n",
        "</ul>\n",
        "<p>Estimated Time Needed: <strong>15 min</strong></p>\n",
        "\n",
        "<hr>\n"
      ]
    },
    {
      "cell_type": "markdown",
      "metadata": {
        "id": "Mmnd1rmOhmaY"
      },
      "source": [
        "<h2>Preparation</h2>\n"
      ]
    },
    {
      "cell_type": "markdown",
      "metadata": {
        "id": "6XC0YT6vhmaY"
      },
      "source": [
        "We'll need the following libraries:  \n"
      ]
    },
    {
      "cell_type": "code",
      "metadata": {
        "id": "h1zoPj4whmaZ"
      },
      "source": [
        "# Import the libraries we need for this lab\n",
        "\n",
        "import torch.nn as nn\n",
        "import torch\n",
        "import matplotlib.pyplot as plt "
      ],
      "execution_count": 1,
      "outputs": []
    },
    {
      "cell_type": "markdown",
      "metadata": {
        "id": "SbAJD-1mhmaZ"
      },
      "source": [
        "Set the random seed:\n"
      ]
    },
    {
      "cell_type": "code",
      "metadata": {
        "colab": {
          "base_uri": "https://localhost:8080/"
        },
        "id": "4sHSANxdhmaa",
        "outputId": "3415e028-58f8-4211-d3da-bcb90a5c9f80"
      },
      "source": [
        "# Set the random seed\n",
        "\n",
        "torch.manual_seed(2)"
      ],
      "execution_count": 2,
      "outputs": [
        {
          "output_type": "execute_result",
          "data": {
            "text/plain": [
              "<torch._C.Generator at 0x7fdb145b2af0>"
            ]
          },
          "metadata": {
            "tags": []
          },
          "execution_count": 2
        }
      ]
    },
    {
      "cell_type": "markdown",
      "metadata": {
        "id": "ICTOV-0vhmab"
      },
      "source": [
        "<!--Empty Space for separating topics-->\n"
      ]
    },
    {
      "cell_type": "markdown",
      "metadata": {
        "id": "YhX7WHHnhmab"
      },
      "source": [
        "<h2 id=\"Log\">Logistic Function</h2>\n"
      ]
    },
    {
      "cell_type": "markdown",
      "metadata": {
        "id": "Sn2OBnw4hmab"
      },
      "source": [
        "Create a tensor ranging from -100 to 100:\n"
      ]
    },
    {
      "cell_type": "code",
      "metadata": {
        "colab": {
          "base_uri": "https://localhost:8080/"
        },
        "id": "TaLi9xLVhmac",
        "outputId": "759fe2c6-a0cd-4e46-9cc3-7b48d3684985"
      },
      "source": [
        "z = torch.arange(-100, 100, 0.1).view(-1, 1)\n",
        "print(\"The tensor: \", z)"
      ],
      "execution_count": 3,
      "outputs": [
        {
          "output_type": "stream",
          "text": [
            "The tensor:  tensor([[-100.0000],\n",
            "        [ -99.9000],\n",
            "        [ -99.8000],\n",
            "        ...,\n",
            "        [  99.7000],\n",
            "        [  99.8000],\n",
            "        [  99.9000]])\n"
          ],
          "name": "stdout"
        }
      ]
    },
    {
      "cell_type": "markdown",
      "metadata": {
        "id": "WvRRLl2Qhmad"
      },
      "source": [
        "Create a sigmoid object: \n"
      ]
    },
    {
      "cell_type": "code",
      "metadata": {
        "id": "9Kv6QChChmad"
      },
      "source": [
        "# Create sigmoid object\n",
        "\n",
        "sig = nn.Sigmoid()"
      ],
      "execution_count": 4,
      "outputs": []
    },
    {
      "cell_type": "markdown",
      "metadata": {
        "id": "QtCZbOeQhmae"
      },
      "source": [
        "Apply the element-wise function Sigmoid with the object:\n"
      ]
    },
    {
      "cell_type": "code",
      "metadata": {
        "id": "DvZpIL-rhmae"
      },
      "source": [
        "# Use sigmoid object to calculate the \n",
        "\n",
        "yhat = sig(z)"
      ],
      "execution_count": 5,
      "outputs": []
    },
    {
      "cell_type": "markdown",
      "metadata": {
        "id": "6XH5iKQphmae"
      },
      "source": [
        "Plot the results: \n"
      ]
    },
    {
      "cell_type": "code",
      "metadata": {
        "colab": {
          "base_uri": "https://localhost:8080/",
          "height": 296
        },
        "id": "I8WtsvoIhmae",
        "outputId": "2ca91415-41a5-4e50-9485-503a49a4fa82"
      },
      "source": [
        "plt.plot(z.numpy(), yhat.numpy())\n",
        "plt.xlabel('z')\n",
        "plt.ylabel('yhat')"
      ],
      "execution_count": 6,
      "outputs": [
        {
          "output_type": "execute_result",
          "data": {
            "text/plain": [
              "Text(0, 0.5, 'yhat')"
            ]
          },
          "metadata": {
            "tags": []
          },
          "execution_count": 6
        },
        {
          "output_type": "display_data",
          "data": {
            "image/png": "[encoded data removed]",
            "text/plain": [
              "<Figure size 432x288 with 1 Axes>"
            ]
          },
          "metadata": {
            "tags": [],
            "needs_background": "light"
          }
        }
      ]
    },
    {
      "cell_type": "markdown",
      "metadata": {
        "id": "Mkj2XM2Khmaf"
      },
      "source": [
        "Apply the element-wise Sigmoid from the function module and plot the results:\n"
      ]
    },
    {
      "cell_type": "code",
      "metadata": {
        "colab": {
          "base_uri": "https://localhost:8080/",
          "height": 282
        },
        "id": "lBTinbSnhmaf",
        "outputId": "5635be21-8c43-486b-983d-577cf0c860e8"
      },
      "source": [
        "yhat = torch.sigmoid(z)\n",
        "plt.plot(z.numpy(), yhat.numpy())"
      ],
      "execution_count": 7,
      "outputs": [
        {
          "output_type": "execute_result",
          "data": {
            "text/plain": [
              "[<matplotlib.lines.Line2D at 0x7fdb13599590>]"
            ]
          },
          "metadata": {
            "tags": []
          },
          "execution_count": 7
        },
        {
          "output_type": "display_data",
          "data": {
            "image/png": "[encoded data removed]",
            "text/plain": [
              "<Figure size 432x288 with 1 Axes>"
            ]
          },
          "metadata": {
            "tags": [],
            "needs_background": "light"
          }
        }
      ]
    },
    {
      "cell_type": "markdown",
      "metadata": {
        "id": "Uqcx6eaIhmaf"
      },
      "source": [
        "<!--Empty Space for separating topics-->\n"
      ]
    },
    {
      "cell_type": "markdown",
      "metadata": {
        "id": "xf_h6Midhmag"
      },
      "source": [
        "<h2 id=\"Seq\">Build a Logistic Regression with <code>nn.Sequential</code></h2>\n"
      ]
    },
    {
      "cell_type": "markdown",
      "metadata": {
        "id": "un9uTTxmhmag"
      },
      "source": [
        "Create a 1x1 tensor where x represents one data sample with one dimension, and 2x1 tensor X represents two data samples of one dimension:\n"
      ]
    },
    {
      "cell_type": "code",
      "metadata": {
        "colab": {
          "base_uri": "https://localhost:8080/"
        },
        "id": "3zBhtI7Ghmag",
        "outputId": "7f2d34cc-9d48-4560-c013-71587973a016"
      },
      "source": [
        "# Create x and X tensor\n",
        "\n",
        "x = torch.tensor([[1.0]])\n",
        "X = torch.tensor([[1.0], [100]])\n",
        "print('x = ', x)\n",
        "print('X = ', X)"
      ],
      "execution_count": 8,
      "outputs": [
        {
          "output_type": "stream",
          "text": [
            "x =  tensor([[1.]])\n",
            "X =  tensor([[  1.],\n",
            "        [100.]])\n"
          ],
          "name": "stdout"
        }
      ]
    },
    {
      "cell_type": "markdown",
      "metadata": {
        "id": "8hIaaPM9hmah"
      },
      "source": [
        "Create a logistic regression object with the <code>nn.Sequential</code> model with a one-dimensional input:\n"
      ]
    },
    {
      "cell_type": "code",
      "metadata": {
        "id": "stTDu4Akhmah"
      },
      "source": [
        "# Use sequential function to create model\n",
        "\n",
        "model = nn.Sequential(nn.Linear(1, 1), nn.Sigmoid())"
      ],
      "execution_count": 9,
      "outputs": []
    },
    {
      "cell_type": "markdown",
      "metadata": {
        "id": "gtVWA2rJh63X"
      },
      "source": [
        ""
      ]
    },
    {
      "cell_type": "markdown",
      "metadata": {
        "id": "J_7VO5KJhmah"
      },
      "source": [
        "The object is represented in the following diagram: \n"
      ]
    },
    {
      "cell_type": "markdown",
      "metadata": {
        "id": "ZRWjReK7hmah"
      },
      "source": [
        "<img src = \"https://s3-api.us-geo.objectstorage.softlayer.net/cf-courses-data/CognitiveClass/DL0110EN/notebook_images%20/chapter3/3.1.1_logistic_regression_block_diagram.png\" width = 800, align = \"center\" alt=\"logistic regression block diagram\" />\n"
      ]
    },
    {
      "cell_type": "markdown",
      "metadata": {
        "id": "kZqK5ncXhmai"
      },
      "source": [
        "In this case, the parameters are randomly initialized. You can view them the following ways:\n"
      ]
    },
    {
      "cell_type": "code",
      "metadata": {
        "colab": {
          "base_uri": "https://localhost:8080/"
        },
        "id": "yjA5yyLxhmai",
        "outputId": "0581332d-1c5a-4bbd-b6a8-b70fdb0835c8"
      },
      "source": [
        "# Print the parameters\n",
        "\n",
        "print(\"list(model.parameters()):\\n \", list(model.parameters()))\n",
        "print(\"\\nmodel.state_dict():\\n \", model.state_dict())"
      ],
      "execution_count": 10,
      "outputs": [
        {
          "output_type": "stream",
          "text": [
            "list(model.parameters()):\n",
            "  [Parameter containing:\n",
            "tensor([[0.2294]], requires_grad=True), Parameter containing:\n",
            "tensor([-0.2380], requires_grad=True)]\n",
            "\n",
            "model.state_dict():\n",
            "  OrderedDict([('0.weight', tensor([[0.2294]])), ('0.bias', tensor([-0.2380]))])\n"
          ],
          "name": "stdout"
        }
      ]
    },
    {
      "cell_type": "markdown",
      "metadata": {
        "id": "czVZ0ir_hmai"
      },
      "source": [
        "Make a prediction with one sample:\n"
      ]
    },
    {
      "cell_type": "code",
      "metadata": {
        "colab": {
          "base_uri": "https://localhost:8080/"
        },
        "id": "Jnlw9wt2hmaj",
        "outputId": "d8cf1b93-8091-405d-a8bc-953eecc41c8a"
      },
      "source": [
        "# The prediction for x\n",
        "\n",
        "yhat = model(x)\n",
        "print(\"The prediction: \", yhat)"
      ],
      "execution_count": 11,
      "outputs": [
        {
          "output_type": "stream",
          "text": [
            "The prediction:  tensor([[0.4979]], grad_fn=<SigmoidBackward>)\n"
          ],
          "name": "stdout"
        }
      ]
    },
    {
      "cell_type": "markdown",
      "metadata": {
        "id": "54NLttvwhmaj"
      },
      "source": [
        "Calling the object with tensor <code>X</code> performed the following operation <b>(code values may not be the same as the diagrams value  depending on the version of PyTorch) </b>:\n"
      ]
    },
    {
      "cell_type": "markdown",
      "metadata": {
        "id": "uPTm_of7hmaj"
      },
      "source": [
        "<img src=\"https://s3-api.us-geo.objectstorage.softlayer.net/cf-courses-data/CognitiveClass/DL0110EN/notebook_images%20/chapter3/3.1.1_logistic_functio_example%20.png\" width=\"400\" alt=\"Logistic Example\" />\n"
      ]
    },
    {
      "cell_type": "markdown",
      "metadata": {
        "id": "5R3tqAIthmaj"
      },
      "source": [
        "Make a prediction with multiple samples:\n"
      ]
    },
    {
      "cell_type": "code",
      "metadata": {
        "colab": {
          "base_uri": "https://localhost:8080/"
        },
        "id": "d-6J4kachmak",
        "outputId": "2b716a1a-9c3d-4196-e0b9-b8506865a5b4"
      },
      "source": [
        "# The prediction for X\n",
        "\n",
        "yhat = model(X)\n",
        "yhat"
      ],
      "execution_count": 12,
      "outputs": [
        {
          "output_type": "execute_result",
          "data": {
            "text/plain": [
              "tensor([[0.4979],\n",
              "        [1.0000]], grad_fn=<SigmoidBackward>)"
            ]
          },
          "metadata": {
            "tags": []
          },
          "execution_count": 12
        }
      ]
    },
    {
      "cell_type": "markdown",
      "metadata": {
        "id": "q9_OWGvlhmak"
      },
      "source": [
        "Calling the object performed the following operation: \n"
      ]
    },
    {
      "cell_type": "markdown",
      "metadata": {
        "id": "s9ALUY94hmak"
      },
      "source": [
        "Create a 1x2 tensor where x represents one data sample with one dimension, and 2x3 tensor X represents one data sample of two dimensions:\n"
      ]
    },
    {
      "cell_type": "code",
      "metadata": {
        "colab": {
          "base_uri": "https://localhost:8080/"
        },
        "id": "kPuB0RFThmal",
        "outputId": "041109ab-a0a5-4bf6-ffb5-b5242ef8ef72"
      },
      "source": [
        "# Create and print samples\n",
        "\n",
        "x = torch.tensor([[1.0, 1.0]])\n",
        "X = torch.tensor([[1.0, 1.0], [1.0, 2.0], [1.0, 3.0]])\n",
        "print('x = ', x)\n",
        "print('X = ', X)"
      ],
      "execution_count": 13,
      "outputs": [
        {
          "output_type": "stream",
          "text": [
            "x =  tensor([[1., 1.]])\n",
            "X =  tensor([[1., 1.],\n",
            "        [1., 2.],\n",
            "        [1., 3.]])\n"
          ],
          "name": "stdout"
        }
      ]
    },
    {
      "cell_type": "markdown",
      "metadata": {
        "id": "a7SsPypshmal"
      },
      "source": [
        "Create a logistic regression object with the <code>nn.Sequential</code> model with a two-dimensional input: \n"
      ]
    },
    {
      "cell_type": "code",
      "metadata": {
        "id": "i__PfJ3Ohmal"
      },
      "source": [
        "# Create new model using nn.sequential()\n",
        "\n",
        "model = nn.Sequential(nn.Linear(2, 1), nn.Sigmoid())"
      ],
      "execution_count": 14,
      "outputs": []
    },
    {
      "cell_type": "markdown",
      "metadata": {
        "id": "zYUbdzYQhmal"
      },
      "source": [
        "The object will apply the Sigmoid function to the output of the linear function as shown in the following diagram:\n"
      ]
    },
    {
      "cell_type": "markdown",
      "metadata": {
        "id": "dL25_LdQhmam"
      },
      "source": [
        "<img src=\"https://s3-api.us-geo.objectstorage.softlayer.net/cf-courses-data/CognitiveClass/DL0110EN/notebook_images%20/chapter3/3.1.1logistic_output.png\" width=\"800\" alt=\"The structure of nn.sequential\"/>\n"
      ]
    },
    {
      "cell_type": "markdown",
      "metadata": {
        "id": "C6-cLob_hmam"
      },
      "source": [
        "In this case, the parameters are randomly initialized. You can view them the following ways:\n"
      ]
    },
    {
      "cell_type": "code",
      "metadata": {
        "colab": {
          "base_uri": "https://localhost:8080/"
        },
        "id": "YcWvQEYqhmam",
        "outputId": "51bdc44a-e7d7-422d-ead5-1232029db7f8"
      },
      "source": [
        "# Print the parameters\n",
        "\n",
        "print(\"list(model.parameters()):\\n \", list(model.parameters()))\n",
        "print(\"\\nmodel.state_dict():\\n \", model.state_dict())"
      ],
      "execution_count": 15,
      "outputs": [
        {
          "output_type": "stream",
          "text": [
            "list(model.parameters()):\n",
            "  [Parameter containing:\n",
            "tensor([[ 0.1939, -0.0361]], requires_grad=True), Parameter containing:\n",
            "tensor([0.3021], requires_grad=True)]\n",
            "\n",
            "model.state_dict():\n",
            "  OrderedDict([('0.weight', tensor([[ 0.1939, -0.0361]])), ('0.bias', tensor([0.3021]))])\n"
          ],
          "name": "stdout"
        }
      ]
    },
    {
      "cell_type": "markdown",
      "metadata": {
        "id": "qz4G7mdJhman"
      },
      "source": [
        "Make a prediction with one sample:\n"
      ]
    },
    {
      "cell_type": "code",
      "metadata": {
        "colab": {
          "base_uri": "https://localhost:8080/"
        },
        "id": "7roupTwNhman",
        "outputId": "698c38ec-609d-4a8b-f530-f87cf0e32fa5"
      },
      "source": [
        "# Make the prediction of x\n",
        "\n",
        "yhat = model(x)\n",
        "print(\"The prediction: \", yhat)"
      ],
      "execution_count": 16,
      "outputs": [
        {
          "output_type": "stream",
          "text": [
            "The prediction:  tensor([[0.6130]], grad_fn=<SigmoidBackward>)\n"
          ],
          "name": "stdout"
        }
      ]
    },
    {
      "cell_type": "markdown",
      "metadata": {
        "id": "CasUbccNhmao"
      },
      "source": [
        "The operation is represented in the following diagram:\n"
      ]
    },
    {
      "cell_type": "markdown",
      "metadata": {
        "id": "BfPr4INAhmao"
      },
      "source": [
        "<img src=\"https://s3-api.us-geo.objectstorage.softlayer.net/cf-courses-data/CognitiveClass/DL0110EN/notebook_images%20/chapter3/3.3.1.logisticwithouptut.png\" width=\"500\" alt=\"Sequential Example\" />\n"
      ]
    },
    {
      "cell_type": "markdown",
      "metadata": {
        "id": "Dk-rniADhmao"
      },
      "source": [
        "Make a prediction with multiple samples:\n"
      ]
    },
    {
      "cell_type": "code",
      "metadata": {
        "colab": {
          "base_uri": "https://localhost:8080/"
        },
        "id": "GJ3NkYEShmap",
        "outputId": "d40610b2-81a0-4e02-8b91-d9e1d403e44d"
      },
      "source": [
        "# The prediction of X\n",
        "\n",
        "yhat = model(X)\n",
        "print(\"The prediction: \", yhat)"
      ],
      "execution_count": 17,
      "outputs": [
        {
          "output_type": "stream",
          "text": [
            "The prediction:  tensor([[0.6130],\n",
            "        [0.6044],\n",
            "        [0.5957]], grad_fn=<SigmoidBackward>)\n"
          ],
          "name": "stdout"
        }
      ]
    },
    {
      "cell_type": "markdown",
      "metadata": {
        "id": "I7nVIByrhmap"
      },
      "source": [
        "The operation is represented in the following diagram: \n"
      ]
    },
    {
      "cell_type": "markdown",
      "metadata": {
        "id": "sIBTJQVRhmap"
      },
      "source": [
        "<img src=\"https://s3-api.us-geo.objectstorage.softlayer.net/cf-courses-data/CognitiveClass/DL0110EN/notebook_images%20/chapter3/3.1.1_logistic_with_outputs2.png\" width=\"800\" alt=\"Sequential Example\" />\n"
      ]
    },
    {
      "cell_type": "markdown",
      "metadata": {
        "id": "Sz7GkNCfhmaq"
      },
      "source": [
        "<!--Empty Space for separating topics-->\n"
      ]
    },
    {
      "cell_type": "markdown",
      "metadata": {
        "id": "G8t7cyiyhmaq"
      },
      "source": [
        "<h2 id=\"Model\">Build Custom Modules</h2>\n"
      ]
    },
    {
      "cell_type": "markdown",
      "metadata": {
        "id": "An-zwR_Hhmar"
      },
      "source": [
        "In this section, you will build a custom Module or class. The model or object function is identical to using <code>nn.Sequential</code>.\n"
      ]
    },
    {
      "cell_type": "markdown",
      "metadata": {
        "id": "bonRHukHhmar"
      },
      "source": [
        "Create a logistic regression custom module:\n"
      ]
    },
    {
      "cell_type": "code",
      "metadata": {
        "id": "3nzl9K1Rhmar"
      },
      "source": [
        "# Create logistic_regression custom class\n",
        "\n",
        "class logistic_regression(nn.Module):\n",
        "    \n",
        "    # Constructor\n",
        "    def __init__(self, n_inputs):\n",
        "        super(logistic_regression, self).__init__()\n",
        "        self.linear = nn.Linear(n_inputs, 1)\n",
        "    \n",
        "    # Prediction\n",
        "    def forward(self, x):\n",
        "        yhat = torch.sigmoid(self.linear(x))\n",
        "        return yhat"
      ],
      "execution_count": 18,
      "outputs": []
    },
    {
      "cell_type": "markdown",
      "metadata": {
        "id": "4L0kIKGwhmar"
      },
      "source": [
        "Create a 1x1 tensor where x represents one data sample with one dimension, and 3x1 tensor where $X$ represents one data sample of one dimension:\n"
      ]
    },
    {
      "cell_type": "code",
      "metadata": {
        "colab": {
          "base_uri": "https://localhost:8080/"
        },
        "id": "afYtiOAbhmas",
        "outputId": "988f4b7d-50e8-4b43-b2eb-5ca374ad4bd4"
      },
      "source": [
        "# Create x and X tensor\n",
        "\n",
        "x = torch.tensor([[1.0]])\n",
        "X = torch.tensor([[-100], [0], [100.0]])\n",
        "print('x = ', x)\n",
        "print('X = ', X)"
      ],
      "execution_count": 19,
      "outputs": [
        {
          "output_type": "stream",
          "text": [
            "x =  tensor([[1.]])\n",
            "X =  tensor([[-100.],\n",
            "        [   0.],\n",
            "        [ 100.]])\n"
          ],
          "name": "stdout"
        }
      ]
    },
    {
      "cell_type": "markdown",
      "metadata": {
        "id": "yUuT3-hehmas"
      },
      "source": [
        "Create a model to predict one dimension: \n"
      ]
    },
    {
      "cell_type": "code",
      "metadata": {
        "id": "l33qcLrehmas"
      },
      "source": [
        "# Create logistic regression model\n",
        "\n",
        "model = logistic_regression(1)"
      ],
      "execution_count": 22,
      "outputs": []
    },
    {
      "cell_type": "markdown",
      "metadata": {
        "id": "QfNXyDq-hmat"
      },
      "source": [
        "In this case, the parameters are randomly initialized. You can view them the following ways:\n"
      ]
    },
    {
      "cell_type": "code",
      "metadata": {
        "colab": {
          "base_uri": "https://localhost:8080/"
        },
        "id": "yO5ramxGhmat",
        "outputId": "e7fb73bb-eabd-4f96-cc86-6a5cf41f93ad"
      },
      "source": [
        "# Print parameters \n",
        "\n",
        "print(\"list(model.parameters()):\\n \", list(model.parameters()))\n",
        "print(\"\\nmodel.state_dict():\\n \", model.state_dict())"
      ],
      "execution_count": 23,
      "outputs": [
        {
          "output_type": "stream",
          "text": [
            "list(model.parameters()):\n",
            "  [Parameter containing:\n",
            "tensor([[0.2381]], requires_grad=True), Parameter containing:\n",
            "tensor([-0.1149], requires_grad=True)]\n",
            "\n",
            "model.state_dict():\n",
            "  OrderedDict([('linear.weight', tensor([[0.2381]])), ('linear.bias', tensor([-0.1149]))])\n"
          ],
          "name": "stdout"
        }
      ]
    },
    {
      "cell_type": "markdown",
      "metadata": {
        "id": "g475y7yZhmat"
      },
      "source": [
        "Make a prediction with one sample:\n"
      ]
    },
    {
      "cell_type": "code",
      "metadata": {
        "colab": {
          "base_uri": "https://localhost:8080/"
        },
        "id": "oYPwbxzlhmat",
        "outputId": "bd1bd3d0-01d2-4c62-cc09-5376d873119a"
      },
      "source": [
        "# Make the prediction of x\n",
        "\n",
        "yhat = model(x)\n",
        "print(\"The prediction result: \\n\", yhat)"
      ],
      "execution_count": 24,
      "outputs": [
        {
          "output_type": "stream",
          "text": [
            "The prediction result: \n",
            " tensor([[0.5307]], grad_fn=<SigmoidBackward>)\n"
          ],
          "name": "stdout"
        }
      ]
    },
    {
      "cell_type": "markdown",
      "metadata": {
        "id": "8YK3TObthmau"
      },
      "source": [
        "Make a prediction with multiple samples:\n"
      ]
    },
    {
      "cell_type": "code",
      "metadata": {
        "colab": {
          "base_uri": "https://localhost:8080/"
        },
        "id": "Rpuutlyzhmau",
        "outputId": "70907edc-eef3-4a8d-f842-e99a923451ad"
      },
      "source": [
        "# Make the prediction of X\n",
        "\n",
        "\n",
        "yhat = model(X)\n",
        "print(\"The prediction result: \\n\", yhat)"
      ],
      "execution_count": 25,
      "outputs": [
        {
          "output_type": "stream",
          "text": [
            "The prediction result: \n",
            " tensor([[4.0805e-11],\n",
            "        [4.7130e-01],\n",
            "        [1.0000e+00]], grad_fn=<SigmoidBackward>)\n"
          ],
          "name": "stdout"
        }
      ]
    },
    {
      "cell_type": "markdown",
      "metadata": {
        "id": "zFggXzaBhmau"
      },
      "source": [
        "Create a logistic regression object with a function with two inputs: \n"
      ]
    },
    {
      "cell_type": "code",
      "metadata": {
        "id": "s-MFyX6zhmau"
      },
      "source": [
        "# Create logistic regression model\n",
        "\n",
        "model = logistic_regression(2)"
      ],
      "execution_count": 26,
      "outputs": []
    },
    {
      "cell_type": "markdown",
      "metadata": {
        "id": "Od1Uwvc-hmav"
      },
      "source": [
        "Create a 1x2 tensor where x represents one data sample with one dimension, and 3x2 tensor X represents one data sample of one dimension:\n"
      ]
    },
    {
      "cell_type": "code",
      "metadata": {
        "colab": {
          "base_uri": "https://localhost:8080/"
        },
        "id": "chZypkZvhmav",
        "outputId": "069dfb71-bddd-487c-fd56-1c362f1da9ad"
      },
      "source": [
        "# Create x and X tensor\n",
        "\n",
        "x = torch.tensor([[1.0, 2.0]])\n",
        "X = torch.tensor([[100, -100], [0.0, 0.0], [-100, 100]])\n",
        "print('x = ', x)\n",
        "print('X = ', X)"
      ],
      "execution_count": 27,
      "outputs": [
        {
          "output_type": "stream",
          "text": [
            "x =  tensor([[1., 2.]])\n",
            "X =  tensor([[ 100., -100.],\n",
            "        [   0.,    0.],\n",
            "        [-100.,  100.]])\n"
          ],
          "name": "stdout"
        }
      ]
    },
    {
      "cell_type": "markdown",
      "metadata": {
        "id": "C9EHGAUkhmav"
      },
      "source": [
        "Make a prediction with one sample:\n"
      ]
    },
    {
      "cell_type": "code",
      "metadata": {
        "colab": {
          "base_uri": "https://localhost:8080/"
        },
        "id": "X_wrGK7ghmav",
        "outputId": "ba2b159c-50a2-48e1-c379-87c51d39b327"
      },
      "source": [
        "# Make the prediction of x\n",
        "\n",
        "yhat = model(x)\n",
        "print(\"The prediction result: \\n\", yhat)"
      ],
      "execution_count": 28,
      "outputs": [
        {
          "output_type": "stream",
          "text": [
            "The prediction result: \n",
            " tensor([[0.2943]], grad_fn=<SigmoidBackward>)\n"
          ],
          "name": "stdout"
        }
      ]
    },
    {
      "cell_type": "markdown",
      "metadata": {
        "id": "CMBBDybfhmaw"
      },
      "source": [
        "Make a prediction with multiple samples: \n"
      ]
    },
    {
      "cell_type": "code",
      "metadata": {
        "colab": {
          "base_uri": "https://localhost:8080/"
        },
        "id": "Ks_WEs3Rhmaw",
        "outputId": "57f8598a-be72-4c3f-bb41-013c71bf205c"
      },
      "source": [
        "# Make the prediction of X\n",
        "\n",
        "yhat = model(X)\n",
        "print(\"The prediction result: \\n\", yhat)"
      ],
      "execution_count": 29,
      "outputs": [
        {
          "output_type": "stream",
          "text": [
            "The prediction result: \n",
            " tensor([[7.7529e-33],\n",
            "        [3.4841e-01],\n",
            "        [1.0000e+00]], grad_fn=<SigmoidBackward>)\n"
          ],
          "name": "stdout"
        }
      ]
    },
    {
      "cell_type": "markdown",
      "metadata": {
        "id": "iliA7gmchmaw"
      },
      "source": [
        "<!--Empty Space for separating topics-->\n"
      ]
    },
    {
      "cell_type": "markdown",
      "metadata": {
        "id": "P6hHRiN1hmax"
      },
      "source": [
        "<h3>Practice</h3>\n"
      ]
    },
    {
      "cell_type": "markdown",
      "metadata": {
        "id": "CSo_e6fKhmax"
      },
      "source": [
        "Make your own model <code>my_model</code> as applying linear regression first and then logistic regression using <code>nn.Sequential()</code>. Print out your prediction.\n"
      ]
    },
    {
      "cell_type": "code",
      "metadata": {
        "colab": {
          "base_uri": "https://localhost:8080/"
        },
        "id": "XJY_UsGKhmax",
        "outputId": "64606cda-affc-40f5-ba43-063c3c938b4b"
      },
      "source": [
        "# Practice: Make your model and make the prediction\n",
        "\n",
        "X = torch.tensor([-10.0])\n",
        "model = nn.Sequential(nn.Linear(1,1),nn.Sigmoid())\n",
        "model(X)"
      ],
      "execution_count": 31,
      "outputs": [
        {
          "output_type": "execute_result",
          "data": {
            "text/plain": [
              "tensor([0.9533], grad_fn=<SigmoidBackward>)"
            ]
          },
          "metadata": {
            "tags": []
          },
          "execution_count": 31
        }
      ]
    },
    {
      "cell_type": "markdown",
      "metadata": {
        "id": "eywDB-Dnhmax"
      },
      "source": [
        "Double-click <b>here</b> for the solution.\n",
        "\n",
        "<!-- \n",
        "my_model = nn.Sequential(nn.Linear(1, 1),nn.Sigmoid())\n",
        "yhat = my_model(X)\n",
        "print(\"The prediction: \", yhat)\n",
        "-->\n"
      ]
    },
    {
      "cell_type": "markdown",
      "metadata": {
        "id": "AAgnQL0Ghmay"
      },
      "source": [
        "<a href=\"https://dataplatform.cloud.ibm.com/registration/stepone?context=cpdaas&apps=data_science_experience,watson_machine_learning\"><img src=\"https://cf-courses-data.s3.us.cloud-object-storage.appdomain.cloud/IBMDeveloperSkillsNetwork-DL0110EN-SkillsNetwork/Template/module%201/images/Watson_Studio.png\"/></a>\n"
      ]
    },
    {
      "cell_type": "markdown",
      "metadata": {
        "id": "XCRExqC2hmay"
      },
      "source": [
        "<!--Empty Space for separating topics-->\n"
      ]
    },
    {
      "cell_type": "markdown",
      "metadata": {
        "id": "aqxZ-he3hmay"
      },
      "source": [
        "<h2>About the Authors:</h2> \n",
        "\n",
        "<a href=\"https://www.linkedin.com/in/joseph-s-50398b136/\">Joseph Santarcangelo</a> has a PhD in Electrical Engineering, his research focused on using machine learning, signal processing, and computer vision to determine how videos impact human cognition. Joseph has been working for IBM since he completed his PhD. \n"
      ]
    },
    {
      "cell_type": "markdown",
      "metadata": {
        "id": "nTWHR23Fhmaz"
      },
      "source": [
        "Other contributors: <a href=\"https://www.linkedin.com/in/michelleccarey/\">Michelle Carey</a>, <a href=\"www.linkedin.com/in/jiahui-mavis-zhou-a4537814a\">Mavis Zhou</a>\n"
      ]
    },
    {
      "cell_type": "markdown",
      "metadata": {
        "id": "zcec7Y-hhmaz"
      },
      "source": [
        "## Change Log\n",
        "\n",
        "| Date (YYYY-MM-DD) | Version | Changed By | Change Description                                          |\n",
        "| ----------------- | ------- | ---------- | ----------------------------------------------------------- |\n",
        "| 2020-09-23        | 2.0     | Shubham    | Migrated Lab to Markdown and added to course repo in GitLab |\n"
      ]
    },
    {
      "cell_type": "markdown",
      "metadata": {
        "id": "KlKw1TZ4hmaz"
      },
      "source": [
        "<hr>\n"
      ]
    },
    {
      "cell_type": "markdown",
      "metadata": {
        "id": "I3YML7sbhma0"
      },
      "source": [
        "## <h3 align=\"center\"> © IBM Corporation 2020. All rights reserved. <h3/>\n"
      ]
    }
  ]
}