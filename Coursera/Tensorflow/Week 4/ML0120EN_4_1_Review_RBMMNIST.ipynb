{
  "nbformat": 4,
  "nbformat_minor": 0,
  "metadata": {
    "kernelspec": {
      "display_name": "p37-dojo",
      "language": "python",
      "name": "p37-dojo"
    },
    "language_info": {
      "codemirror_mode": {
        "name": "ipython",
        "version": 3
      },
      "file_extension": ".py",
      "mimetype": "text/x-python",
      "name": "python",
      "nbconvert_exporter": "python",
      "pygments_lexer": "ipython3",
      "version": "3.7.7"
    },
    "colab": {
      "name": "ML0120EN-4.1-Review-RBMMNIST.ipynb",
      "provenance": []
    }
  },
  "cells": [
    {
      "cell_type": "markdown",
      "metadata": {
        "id": "XOnKx0qIFp1g"
      },
      "source": [
        "<a href=\"https://www.skills.network/\"><img src=\"https://cf-courses-data.s3.us.cloud-object-storage.appdomain.cloud/IBM-DL0120ENedX/labs/Template%20for%20Instructional%20Hands-on%20Labs/images/IDSNlogo.png\" width=\"400px\" align=\"center\"></a>\n",
        "\n",
        "<h1 align=\"center\"><font size=\"5\">RESTRICTED BOLTZMANN MACHINES</font></h1>\n"
      ]
    },
    {
      "cell_type": "markdown",
      "metadata": {
        "id": "V0dlNoaWFp1s"
      },
      "source": [
        "<h3>Introduction</h3>\n",
        "<b>Restricted Boltzmann Machine (RBM):</b>  RBMs are shallow neural nets that learn to reconstruct data by themselves in an unsupervised fashion.  \n",
        "\n",
        "<h4>Why are RBMs important?</h4>\n",
        "An RBM are a basic form of autoencoder.  It can automatically extract <b>meaningful</b> features from a given input.\n",
        "\n",
        "<h4>How does it work?</h4>\n",
        "RBM is a 2 layer neural network. Simply, RBM takes the inputs and translates those into a set of binary values that represents them in the hidden layer. Then, these numbers can be translated back to reconstruct the inputs. Through several forward and backward passes, the RBM will be trained, and a trained RBM can reveal which features are the most important ones when detecting patterns.   \n",
        "\n",
        "<h4>What are the applications of an RBM?</h4>\n",
        "RBM is useful for <a href='http://www.cs.utoronto.ca/~hinton/absps/netflixICML.pdf'>  Collaborative Filtering</a>, dimensionality reduction, classification, regression, feature learning, topic modeling and even <b>Deep Belief Networks</b>.\n",
        "\n",
        "<h4>Is RBM a generative or Discriminative model?</h4>\n",
        "RBM is a generative model. Let me explain it by first, see what is different between discriminative and generative models: \n",
        "\n",
        "<b>Discriminative:</b> Consider a classification problem where we want to learn to distinguish between Sedan cars (y = 1) and SUV cars (y = 0), based on some features of cars. Given a training set, an algorithm like logistic regression tries to find a straight line, or <i>decision boundary</i>, that separates the suv and sedan.  \n",
        "\n",
        "<b>Generative:</b> looking at cars, we can build a model of what Sedan cars look like. Then, looking at SUVs, we can build a separate model of what SUV cars look like. Finally, to classify a new car, we can match the new car against the Sedan model, and match it against the SUV model, to see whether the new car looks more like the SUV or Sedan. \n",
        "\n",
        "Generative Models specify a probability distribution over a dataset of input vectors. We can carry out both supervised and unsupervised tasks with generative models:\n",
        "\n",
        "<ul>\n",
        "    <li>In an unsupervised task, we try to form a model for $P(x)$, where $P$ is the probability given $x$ as an input vector.</li>\n",
        "    <li>In the supervised task, we first form a model for $P(x|y)$, where $P$ is the probability of $x$ given $y$(the label for $x$). For example, if $y = 0$ indicates that a car is an SUV, and $y = 1$ indicates that a car is a sedan, then $p(x|y = 0)$ models the distribution of SUV features, and $p(x|y = 1)$ models the distribution of sedan features. If we manage to find $P(x|y)$ and $P(y)$, then we can use <b>Bayes rule</b> to estimate $P(y|x)$, because:   \n",
        "        $$p(y|x) = \\frac{p(x|y)p(y)}{p(x)}$$</li>\n",
        "</ul>\n",
        "Now the question is, can we build a generative model, and then use it to create synthetic data by directly sampling from the modeled probability distributions? Lets see. \n"
      ]
    },
    {
      "cell_type": "markdown",
      "metadata": {
        "id": "ujRlEp_bFp1v"
      },
      "source": [
        "<h2>Table of Contents</h2>\n",
        "<ol>\n",
        "    <li><a href=\"#ref1\">Initialization</a></li>\n",
        "    <li><a href=\"#ref2\">RBM layers</a></li>\n",
        "    <li><a href=\"#ref3\">What RBM can do after training?</a></li>\n",
        "    <li><a href=\"#ref4\">How to train the model?</a></li>\n",
        "    <li><a href=\"#ref5\">Learned features</a></li>\n",
        "</ol>\n",
        "<p></p>\n",
        "</div>\n",
        "<br>\n",
        "\n",
        "<hr>\n"
      ]
    },
    {
      "cell_type": "markdown",
      "metadata": {
        "id": "OZwWcBwsFp1x"
      },
      "source": [
        "<a id=\"ref1\"></a>\n",
        "\n",
        "<h3>Initialization</h3>\n",
        "\n",
        "First, we have to load the utility file which contains different utility functions that are not connected\n",
        "in any way to the networks presented in the tutorials, but rather help in\n",
        "processing the outputs into a more understandable way.\n"
      ]
    },
    {
      "cell_type": "code",
      "metadata": {
        "id": "I4uKHHnoFp1y"
      },
      "source": [
        "import urllib.request\n",
        "with urllib.request.urlopen(\"https://cf-courses-data.s3.us.cloud-object-storage.appdomain.cloud/IBMDeveloperSkillsNetwork-DL0120EN-SkillsNetwork/labs/Week4/data/utils.py\") as url:\n",
        "    response = url.read()\n",
        "target = open('utils.py', 'w')\n",
        "target.write(response.decode('utf-8'))\n",
        "target.close()"
      ],
      "execution_count": 28,
      "outputs": []
    },
    {
      "cell_type": "markdown",
      "metadata": {
        "id": "cIRDsOuyFp1z"
      },
      "source": [
        "<h2>Installing TensorFlow </h2>\n",
        "\n",
        "We will installing TensorFlow version 2.2.0 and its required prerequistes.  Also installing pillow...\n"
      ]
    },
    {
      "cell_type": "code",
      "metadata": {
        "id": "Iul5YDKvFp10"
      },
      "source": [
        "!pip install grpcio==1.24.3\n",
        "!pip install tensorflow==2.2.0\n",
        "!pip install pillow"
      ],
      "execution_count": null,
      "outputs": []
    },
    {
      "cell_type": "markdown",
      "metadata": {
        "id": "6b2GwF44Fp11"
      },
      "source": [
        "<b>Notice:</b> This notebook has been created with TensorFlow version 2.2, and might not work with other versions. Therefore we check:\n"
      ]
    },
    {
      "cell_type": "code",
      "metadata": {
        "colab": {
          "base_uri": "https://localhost:8080/",
          "height": 108
        },
        "id": "t7jWurhRFp12",
        "outputId": "4513bafb-51b9-45dd-b25e-6c3e4979318e"
      },
      "source": [
        "import tensorflow as tf\n",
        "from IPython.display import Markdown, display\n",
        "\n",
        "def printmd(string):\n",
        "    display(Markdown('# <span style=\"color:red\">'+string+'</span>'))\n",
        "\n",
        "\n",
        "if not tf.__version__ == '2.2.0':\n",
        "    printmd('<<<<<!!!!! ERROR !!!! please upgrade to TensorFlow 2.2.0, or restart your Kernel (Kernel->Restart & Clear Output)>>>>>')"
      ],
      "execution_count": 29,
      "outputs": [
        {
          "output_type": "display_data",
          "data": {
            "text/markdown": "# <span style=\"color:red\"><<<<<!!!!! ERROR !!!! please upgrade to TensorFlow 2.2.0, or restart your Kernel (Kernel->Restart & Clear Output)>>>>></span>",
            "text/plain": [
              "<IPython.core.display.Markdown object>"
            ]
          },
          "metadata": {
            "tags": []
          }
        }
      ]
    },
    {
      "cell_type": "markdown",
      "metadata": {
        "id": "wmYRabHKFp13"
      },
      "source": [
        "Now, we load in all the packages that we use to create the net including the TensorFlow package:\n"
      ]
    },
    {
      "cell_type": "code",
      "metadata": {
        "id": "b_YS2vs_Fp13"
      },
      "source": [
        "import tensorflow as tf\n",
        "import numpy as np\n",
        "\n",
        "from PIL import Image\n",
        "from utils import tile_raster_images\n",
        "import matplotlib.pyplot as plt\n",
        "%matplotlib inline"
      ],
      "execution_count": 30,
      "outputs": []
    },
    {
      "cell_type": "markdown",
      "metadata": {
        "id": "PWH9kbsvFp14"
      },
      "source": [
        "<hr>\n"
      ]
    },
    {
      "cell_type": "markdown",
      "metadata": {
        "id": "g_gAdictFp15"
      },
      "source": [
        "<a id=\"ref2\"></a>\n",
        "\n",
        "<h3>RBM layers</h3>\n",
        "\n",
        "An RBM has two layers. The first layer of the RBM is called the <b>visible</b> (or input layer). Imagine that our toy example, has only vectors with 7 values, so the visible layer must have $V=7$ input nodes. \n",
        "The second layer is the <b>hidden</b> layer, which has $H$ neurons in our case. Each hidden node takes on values of either 0 or 1 (i.e., $h_i = 1$ or $h_i$ = 0), with a probability that is a logistic function of the inputs it receives from the other $V$ visible units, called for example, $p(h_i = 1)$. For our toy sample, we'll use 2 nodes in the hidden layer, so $H = 2$.\n",
        "\n",
        "<center><img src=\"https://ibm.box.com/shared/static/eu26opvcefgls6vnwuo29uwp0nudmokh.png\" alt=\"RBM Model\" style=\"width: 400px;\"></center>\n"
      ]
    },
    {
      "cell_type": "markdown",
      "metadata": {
        "id": "BnCpjTm9Fp15"
      },
      "source": [
        "Each node in the first layer also has a <b>bias</b>. We will denote the bias as $v_{bias}$, and this single value is shared among the $V$ visible units.\n",
        "\n",
        "The <b>bias</b> of the second is defined similarly as $h_{bias}$, and this single value among the $H$ hidden units.\n"
      ]
    },
    {
      "cell_type": "code",
      "metadata": {
        "id": "38TjZO1fFp15"
      },
      "source": [
        "v_bias = tf.Variable(tf.zeros([7]), tf.float32)\n",
        "h_bias = tf.Variable(tf.zeros([2]), tf.float32)"
      ],
      "execution_count": 31,
      "outputs": []
    },
    {
      "cell_type": "markdown",
      "metadata": {
        "id": "ht21iT3zFp16"
      },
      "source": [
        "We have to define weights among the input layer and hidden layer nodes. In the weight matrix, the number of rows are equal to the input nodes, and the number of columns are equal to the output nodes. We define a tensor $\\mathbf{W}$ of shape = (7,2), where the number of visible neurons = 7, and the number of hidden neurons = 2. \n"
      ]
    },
    {
      "cell_type": "code",
      "metadata": {
        "id": "NKJt1tcvFp16"
      },
      "source": [
        "W = tf.constant(np.random.normal(loc=0.0, scale=1.0, size=(7, 2)).astype(np.float32))"
      ],
      "execution_count": 32,
      "outputs": []
    },
    {
      "cell_type": "markdown",
      "metadata": {
        "id": "dNe_FusiFp16"
      },
      "source": [
        "<hr>\n"
      ]
    },
    {
      "cell_type": "markdown",
      "metadata": {
        "id": "esIFCltnFp17"
      },
      "source": [
        "<a id=\"ref3\"></a>\n",
        "\n",
        "<h3>What RBM can do after training?</h3>\n",
        "Think of RBM as a model that has been trained based on images of a dataset of many SUV and sedan cars. Also, imagine that the RBM network has only two hidden nodes, where one node encodes the weight and, and the other encodes the size.  \n",
        "In a sense, the different configurations represent different cars, where one is an SUV and the other is Sedan.  In a training process, through many forward and backward passes, the RBM adjust its weights to send a stronger signal to either the SUV node (0, 1) or the sedan node (1, 0) in the hidden layer, given the pixels of images. Now, given an SUV in hidden layer, which distribution of pixels should we expect? RBM can give you 2 things. First, it encodes your images in hidden layer. Second, it gives you the probability of observing a case, given some hidden values.\n",
        "\n",
        "<h3>The Inference Process</h3>\n",
        "\n",
        "RBM has two phases:\n",
        "\n",
        "<ul>\n",
        "    <li>Forward Pass</li>  \n",
        "    <li>Backward Pass or Reconstruction</li>\n",
        "</ul>\n",
        "\n",
        "<b>Phase 1) Forward pass:</b>  \n",
        "\n",
        "Input one training sample (one image) $\\mathbf{x}$ through all visible nodes, and pass it to all hidden nodes. Processing happens in each node in the hidden layer. This computation begins by making stochastic decisions about whether to transmit that input or not (i.e. to determine the state of each hidden layer).  First, the probability vector is computed using the input feature vector $\\mathbf{x}$, the weight matrix $\\mathbf{W}$, and the bias term $h_{bias}$, as \n",
        "\n",
        "$p({h_j}|\\mathbf x)= \\sigma(\\sum_{i=1}^V W_{ij} x_i + h_{bias} )$, \n",
        "\n",
        "where $\\sigma(z) = (1+e^{-z})^{-1}$ is the logistic function.\n",
        "\n",
        "So, what does $p({h_j})$ represent? It is the <b>probability distribution</b> of the hidden units. That is, RBM uses inputs $x_i$ to make predictions about hidden node activations. For example, imagine that the hidden node activation values are [0.51 0.84] for the first training item. It tells you that the conditional probability for each hidden neuron for Phase 1 is: \n",
        "\n",
        "$$p(h_{1} = 1|\\mathbf{v}) = 0.51$$\n",
        "$$p(h_{2} = 1|\\mathbf{v}) = 0.84$$\n",
        "\n",
        "As a result, for each row in the training set, vector of probabilities is generated.  In TensorFlow, this is referred to as a `tensor` with a shape of (1,2). \n",
        "\n",
        "We then turn unit $j$ with probability $p(h_{j}|\\mathbf{v})$, and turn it off with probability $1 - p(h_{j}|\\mathbf{v})$ by generating a uniform random number vector $\\mathbf{\\xi}$, and comparing it to the activation probability as \n",
        "\n",
        "<center>If $\\xi_j>p(h_{j}|\\mathbf{v})$, then $h_j=1$, else $h_j=0$.</center>\n",
        "\n",
        "Therefore, the conditional probability of a configuration of $\\mathbf{h}$ given $\\mathbf{v}$ (for a training sample) is:\n",
        "\n",
        "$$p(\\mathbf{h} \\mid \\mathbf{v}) = \\prod_{j=1}^H p(h_j \\mid \\mathbf{v})$$\n",
        "\n",
        "where $H$ is the number of hidden units.\n"
      ]
    },
    {
      "cell_type": "markdown",
      "metadata": {
        "id": "HHKNWxGnFp17"
      },
      "source": [
        "Before we go further, let's look at a toy example for one case out of all input. Assume that we have a trained RBM, and a very simple input vector, such as [1.0, 0.0, 0.0, 1.0, 0.0, 0.0, 0.0].  \n",
        "Let's see what the output of forward pass would look like:\n"
      ]
    },
    {
      "cell_type": "code",
      "metadata": {
        "colab": {
          "base_uri": "https://localhost:8080/"
        },
        "id": "3gRfakxYFp18",
        "outputId": "439f9cd5-79a0-4efc-acb5-41ba60514904"
      },
      "source": [
        "X = tf.constant([[1.0, 0.0, 0.0, 1.0, 0.0, 0.0, 0.0]], tf.float32)\n",
        "\n",
        "v_state = X\n",
        "print (\"Input: \", v_state)\n",
        "\n",
        "h_bias = tf.constant([0.1, 0.1])\n",
        "print (\"hb: \", h_bias)\n",
        "print (\"w: \", W)\n",
        "\n",
        "# Calculate the probabilities of turning the hidden units on:\n",
        "h_prob = tf.nn.sigmoid(tf.matmul(v_state, W) + h_bias)  #probabilities of the hidden units\n",
        "print (\"p(h|v): \", h_prob)\n",
        "\n",
        "# Draw samples from the distribution:\n",
        "h_state = tf.nn.relu(tf.sign(h_prob - tf.random.uniform(tf.shape(h_prob)))) #states\n",
        "print (\"h0 states:\", h_state)"
      ],
      "execution_count": 33,
      "outputs": [
        {
          "output_type": "stream",
          "text": [
            "Input:  tf.Tensor([[1. 0. 0. 1. 0. 0. 0.]], shape=(1, 7), dtype=float32)\n",
            "hb:  tf.Tensor([0.1 0.1], shape=(2,), dtype=float32)\n",
            "w:  tf.Tensor(\n",
            "[[-0.513651   -0.83541024]\n",
            " [ 0.9678112   0.6972692 ]\n",
            " [ 1.9244922   0.86671644]\n",
            " [-0.5163597  -0.45869446]\n",
            " [-0.23988448  0.26614273]\n",
            " [ 0.64989835 -0.04439257]\n",
            " [ 0.2968657   0.10628197]], shape=(7, 2), dtype=float32)\n",
            "p(h|v):  tf.Tensor([[0.28292257 0.23252562]], shape=(1, 2), dtype=float32)\n",
            "h0 states: tf.Tensor([[0. 0.]], shape=(1, 2), dtype=float32)\n"
          ],
          "name": "stdout"
        }
      ]
    },
    {
      "cell_type": "markdown",
      "metadata": {
        "id": "DgPAPF_dFp19"
      },
      "source": [
        "<b>Phase 2) Backward Pass (Reconstruction):</b>\n",
        "The RBM reconstructs data by making several forward and backward passes between the visible and hidden layers.\n",
        "\n",
        "So, in the second phase (i.e. reconstruction phase), the samples from the hidden layer (i.e. $\\mathbf h$) becomes the input in the backward pass. The same weight matrix and visible layer biases are used to passed to the sigmoid function. The reproduced output is a reconstruction which is an approximation of the original input.\n"
      ]
    },
    {
      "cell_type": "code",
      "metadata": {
        "colab": {
          "base_uri": "https://localhost:8080/"
        },
        "id": "BsVkv9N3Fp19",
        "outputId": "e77d93e4-8e94-48f5-c0b3-dff9490b7589"
      },
      "source": [
        "vb = tf.constant([0.1, 0.2, 0.1, 0.1, 0.1, 0.2, 0.1])\n",
        "print (\"b: \", vb)\n",
        "v_prob = tf.nn.sigmoid(tf.matmul(h_state, tf.transpose(W)) + vb)\n",
        "print (\"p(vi∣h): \", v_prob)\n",
        "v_state = tf.nn.relu(tf.sign(v_prob - tf.random.uniform(tf.shape(v_prob))))\n",
        "print (\"v probability states: \", v_state)"
      ],
      "execution_count": 34,
      "outputs": [
        {
          "output_type": "stream",
          "text": [
            "b:  tf.Tensor([0.1 0.2 0.1 0.1 0.1 0.2 0.1], shape=(7,), dtype=float32)\n",
            "p(vi∣h):  tf.Tensor([[0.5249792 0.549834  0.5249792 0.5249792 0.5249792 0.549834  0.5249792]], shape=(1, 7), dtype=float32)\n",
            "v probability states:  tf.Tensor([[1. 1. 1. 0. 0. 0. 1.]], shape=(1, 7), dtype=float32)\n"
          ],
          "name": "stdout"
        }
      ]
    },
    {
      "cell_type": "markdown",
      "metadata": {
        "id": "3VindQCaFp1-"
      },
      "source": [
        "RBM learns a probability distribution over the input, and then, after being trained, the RBM can generate new samples from the learned probability distribution. As you know, <b>probability distribution</b>, is a mathematical function that provides the probabilities of occurrence of different possible outcomes in an experiment.\n",
        "\n",
        "The (conditional) probability distribution over the visible units v is given by\n",
        "\n",
        "$p(\\mathbf{v} \\mid \\mathbf{h}) = \\prod_{i=1}^V p(v_i \\mid \\mathbf{h}),$\n",
        "\n",
        "where,\n",
        "\n",
        "$p(v_i \\mid \\mathbf{h}) = \\sigma\\left(\\sum_{j=1}^H W_{ji} h_j + v_{bias} \\right)$\n",
        "\n",
        "so, given current state of hidden units and weights, what is the probability of generating [1. 0. 0. 1. 0. 0. 0.] in reconstruction phase, based on the above <b>probability distribution</b> function?\n"
      ]
    },
    {
      "cell_type": "code",
      "metadata": {
        "colab": {
          "base_uri": "https://localhost:8080/"
        },
        "id": "N-2TXXfeFp1_",
        "outputId": "be2dd18a-03b2-454e-f37e-731959f66385"
      },
      "source": [
        "inp = X\n",
        "print(\"input X:\" , inp.numpy())\n",
        "\n",
        "print(\"probablity vector:\" , v_prob[0].numpy())\n",
        "v_probability = 1\n",
        "\n",
        "for elm, p in zip(inp[0],v_prob[0]) :\n",
        "    if elm ==1:\n",
        "        v_probability *= p\n",
        "    else:\n",
        "        v_probability *= (1-p)\n",
        "\n",
        "print(\"probability of generating X: \" , v_probability.numpy())"
      ],
      "execution_count": 35,
      "outputs": [
        {
          "output_type": "stream",
          "text": [
            "input X: [[1. 0. 0. 1. 0. 0. 0.]]\n",
            "probablity vector: [0.5249792 0.549834  0.5249792 0.5249792 0.5249792 0.549834  0.5249792]\n",
            "probability of generating X:  0.005986424\n"
          ],
          "name": "stdout"
        }
      ]
    },
    {
      "cell_type": "markdown",
      "metadata": {
        "id": "jR_b0ddjFp2A"
      },
      "source": [
        "How similar are vectors $\\mathbf{x}$ and $\\mathbf{v}$? Of course, the reconstructed values most likely will not look anything like the input vector, because our network has not been trained yet. Our objective is to train the model in such a way that the input vector and reconstructed vector to be same. Therefore, based on how different the input values look to the ones that we just reconstructed, the weights are adjusted. \n"
      ]
    },
    {
      "cell_type": "markdown",
      "metadata": {
        "id": "aaRt3jgwFp2B"
      },
      "source": [
        "<hr>\n"
      ]
    },
    {
      "cell_type": "markdown",
      "metadata": {
        "id": "eJE-9flVFp2B"
      },
      "source": [
        "<h2>MNIST</h2>\n"
      ]
    },
    {
      "cell_type": "markdown",
      "metadata": {
        "id": "CZBWKA6HFp2C"
      },
      "source": [
        "We will be using the MNIST dataset to practice the usage of RBMs. The following cell loads the MNIST dataset.\n"
      ]
    },
    {
      "cell_type": "code",
      "metadata": {
        "id": "1bwLAO_vFp2C"
      },
      "source": [
        "#loading training and test data\n",
        "mnist = tf.keras.datasets.mnist\n",
        "(trX, trY), (teX, teY) = mnist.load_data()\n",
        "\n",
        "# showing an example of the Flatten class and operation\n",
        "from tensorflow.keras.layers import Flatten\n",
        "flatten = Flatten(dtype='float32')\n",
        "trX = flatten(trX/255.0)\n",
        "trY = flatten(trY/255.0)"
      ],
      "execution_count": 36,
      "outputs": []
    },
    {
      "cell_type": "markdown",
      "metadata": {
        "id": "PBwqmXRyFp2C"
      },
      "source": [
        "Lets look at the dimension of the images.\n"
      ]
    },
    {
      "cell_type": "markdown",
      "metadata": {
        "id": "DozAfH7SFp2C"
      },
      "source": [
        "MNIST images have 784 pixels, so the visible layer must have 784 input nodes.  For our case, we'll use 50 nodes in the hidden layer, so i = 50.\n"
      ]
    },
    {
      "cell_type": "code",
      "metadata": {
        "jupyter": {
          "outputs_hidden": true
        },
        "id": "LVggY5WTFp2D"
      },
      "source": [
        "vb = tf.Variable(tf.zeros([784]), tf.float32)\n",
        "hb = tf.Variable(tf.zeros([50]), tf.float32)"
      ],
      "execution_count": 37,
      "outputs": []
    },
    {
      "cell_type": "markdown",
      "metadata": {
        "id": "ygbdkE6UFp2D"
      },
      "source": [
        "Let $\\mathbf W$ be the Tensor of 784x50 (784 - number of visible neurons, 50 - number of hidden neurons) that represents weights between the neurons. \n"
      ]
    },
    {
      "cell_type": "code",
      "metadata": {
        "jupyter": {
          "outputs_hidden": true
        },
        "id": "A0w_VUPLFp2D"
      },
      "source": [
        "W = tf.Variable(tf.zeros([784,50]), tf.float32)"
      ],
      "execution_count": 38,
      "outputs": []
    },
    {
      "cell_type": "markdown",
      "metadata": {
        "id": "JZpLQhpQFp2D"
      },
      "source": [
        "Lets define the visible layer:\n"
      ]
    },
    {
      "cell_type": "code",
      "metadata": {
        "colab": {
          "base_uri": "https://localhost:8080/"
        },
        "id": "HwME-f7BFp2E",
        "outputId": "4ec560fb-66ee-4f4f-f7e8-a6b85d8a801d"
      },
      "source": [
        "v0_state = tf.Variable(tf.zeros([784]), tf.float32)\n",
        "\n",
        "#testing to see if the matrix product works\n",
        "tf.matmul( [v0_state], W)"
      ],
      "execution_count": 39,
      "outputs": [
        {
          "output_type": "execute_result",
          "data": {
            "text/plain": [
              "<tf.Tensor: shape=(1, 50), dtype=float32, numpy=\n",
              "array([[0., 0., 0., 0., 0., 0., 0., 0., 0., 0., 0., 0., 0., 0., 0., 0.,\n",
              "        0., 0., 0., 0., 0., 0., 0., 0., 0., 0., 0., 0., 0., 0., 0., 0.,\n",
              "        0., 0., 0., 0., 0., 0., 0., 0., 0., 0., 0., 0., 0., 0., 0., 0.,\n",
              "        0., 0.]], dtype=float32)>"
            ]
          },
          "metadata": {
            "tags": []
          },
          "execution_count": 39
        }
      ]
    },
    {
      "cell_type": "markdown",
      "metadata": {
        "id": "wbY8k8ncFp2E"
      },
      "source": [
        "Now, we can define hidden layer:\n"
      ]
    },
    {
      "cell_type": "code",
      "metadata": {
        "id": "Mura3dIbFp2E",
        "colab": {
          "base_uri": "https://localhost:8080/"
        },
        "outputId": "1126d7e7-23b1-4c1a-8f55-f814089fe263"
      },
      "source": [
        "#computing the hidden nodes probability vector and checking shape\n",
        "h0_prob = tf.nn.sigmoid(tf.matmul([v0_state], W) + hb)  #probabilities of the hidden units\n",
        "print(\"h0_state shape: \" , tf.shape(h0_prob))\n",
        "\n",
        "#defining a function to return only the generated hidden states \n",
        "def hidden_layer(v0_state, W, hb):\n",
        "    h0_prob = tf.nn.sigmoid(tf.matmul([v0_state], W) + hb)  #probabilities of the hidden units\n",
        "    h0_state = tf.nn.relu(tf.sign(h0_prob - tf.random.uniform(tf.shape(h0_prob)))) #sample_h_given_X\n",
        "    return h0_state\n",
        "\n",
        "\n",
        "h0_state = hidden_layer(v0_state, W, hb)\n",
        "print(\"first 15 hidden states: \", h0_state[0][0:15])"
      ],
      "execution_count": 40,
      "outputs": [
        {
          "output_type": "stream",
          "text": [
            "h0_state shape:  tf.Tensor([ 1 50], shape=(2,), dtype=int32)\n",
            "first 15 hidden states:  tf.Tensor([0. 0. 1. 0. 0. 1. 0. 1. 1. 1. 0. 1. 1. 1. 1.], shape=(15,), dtype=float32)\n"
          ],
          "name": "stdout"
        }
      ]
    },
    {
      "cell_type": "markdown",
      "metadata": {
        "id": "z5C33W-KFp2E"
      },
      "source": [
        "Now, we define reconstruction part:\n"
      ]
    },
    {
      "cell_type": "code",
      "metadata": {
        "id": "YmVqTe1hFp2F",
        "colab": {
          "base_uri": "https://localhost:8080/"
        },
        "outputId": "0b6fbf4a-64ff-487e-f956-0b38c418fe70"
      },
      "source": [
        "def reconstructed_output(h0_state, W, vb):\n",
        "    v1_prob = tf.nn.sigmoid(tf.matmul(h0_state, tf.transpose(W)) + vb) \n",
        "    v1_state = tf.nn.relu(tf.sign(v1_prob - tf.random.uniform(tf.shape(v1_prob)))) #sample_v_given_h\n",
        "    return v1_state[0]\n",
        "\n",
        "v1_state = reconstructed_output(h0_state, W, vb)\n",
        "print(\"hidden state shape: \", h0_state.shape)\n",
        "print(\"v0 state shape:  \", v0_state.shape)\n",
        "print(\"v1 state shape:  \", v1_state.shape)"
      ],
      "execution_count": 41,
      "outputs": [
        {
          "output_type": "stream",
          "text": [
            "hidden state shape:  (1, 50)\n",
            "v0 state shape:   (784,)\n",
            "v1 state shape:   (784,)\n"
          ],
          "name": "stdout"
        }
      ]
    },
    {
      "cell_type": "markdown",
      "metadata": {
        "id": "nqzmZ2p4Fp2F"
      },
      "source": [
        "<h3>What is the objective function?</h3>\n",
        "\n",
        "<b>Goal</b>: Maximize the likelihood of our data being drawn from that distribution\n",
        "\n",
        "<b>Calculate error:</b>  \n",
        "In each epoch, we compute the \"error\" as a sum of the squared difference between step 1 and step n,\n",
        "e.g the error shows the difference between the data and its reconstruction.\n",
        "\n",
        "<b>Note:</b> tf.reduce_mean computes the mean of elements across dimensions of a tensor.\n"
      ]
    },
    {
      "cell_type": "code",
      "metadata": {
        "id": "MNB3Sa21Fp2F",
        "colab": {
          "base_uri": "https://localhost:8080/"
        },
        "outputId": "f84b5a8f-1d69-463f-bcb7-435d0941f557"
      },
      "source": [
        "def error(v0_state, v1_state):\n",
        "    return tf.reduce_mean(tf.square(v0_state - v1_state))\n",
        "\n",
        "err = tf.reduce_mean(tf.square(v0_state - v1_state))\n",
        "print(\"error\" , err.numpy())"
      ],
      "execution_count": 42,
      "outputs": [
        {
          "output_type": "stream",
          "text": [
            "error 0.47831634\n"
          ],
          "name": "stdout"
        }
      ]
    },
    {
      "cell_type": "markdown",
      "metadata": {
        "id": "wpeh8bUxFp2F"
      },
      "source": [
        "<a id=\"ref4\"></a>\n",
        "\n",
        "<h3>Training the Model</h3>\n",
        "<b>Warning...</b> The following part is math-heavy, but you can skip it if you just want to run the cells in the next section.\n",
        "\n",
        "As mentioned, we want to give a high probability to the input data we train on. So, in order to train an RBM, we have to maximize the product of probabilities assigned to all rows $\\mathbf{v}$ (images) in the training set $\\mathbf{V}$ (a matrix, where each row of it is treated as a visible vector $\\mathbf{v}$)\n",
        "\n",
        "$$\\arg\\max_W\\prod_{\\mathbf{v}\\in\\mathbf{V}_T}p(\\mathbf{v}),$$\n",
        "\n",
        "which is equivalent to maximizing the expectation of the log probability, given as\n",
        "\n",
        "$$\\arg\\max_W\\left[ \\mathbb{E} \\left(\\prod_{\\mathbf v\\in \\mathbf V}\\text{log} \\left(p(\\mathbf v)\\right) \\right) \\right].$$\n",
        "\n",
        "So, we have to update the weights $W_{ij}$  to increase $p(\\mathbf{v})$ for all $\\mathbf{v}$ in our training data during training. So we have to calculate the derivative:\n",
        "\n",
        "$$\\frac{\\partial \\log p(\\mathbf v)}{\\partial W_{ij}}$$\n",
        "\n",
        "This cannot be easily done by typical <b>gradient descent (SGD)</b>, so we can use another approach, which has 2 steps:\n",
        "\n",
        "<ol>\n",
        "    <li>Gibbs Sampling</li>\n",
        "    <li>Contrastive Divergence</li>\n",
        "</ol>    \n",
        "    \n",
        "<h3>Gibbs Sampling</h3>   \n",
        "\n",
        "<h4>Gibbs Sampling Step 1</h4> \n",
        "Given an input vector $\\mathbf{v}$, we are using $p(\\mathbf{h}|\\mathbf{v})$ to predict the hidden values $\\mathbf{h}$. \n",
        "  $$p({h_j}|\\mathbf v)= \\sigma\\left(\\sum_{i=1}^V W_{ij} v_i + h_{bias} \\right)$$\n",
        "The samples are generated from this distribution by generating the uniform random variate vector $\\mathbf{\\xi} \\sim U[0,1]$ of length $H$ and comparing to the computed probabilities as\n",
        "\n",
        "<center>If $\\xi_j>p(h_{j}|\\mathbf{v})$, then $h_j=1$, else $h_j=0$.</center>\n",
        "\n",
        "<h4>Gibbs Sampling Step 2</h4> \n",
        "Then, knowing the hidden values, we use $p(\\mathbf v| \\mathbf h)$ for reconstructing of new input values v. \n",
        "\n",
        "   $$p({v_i}|\\mathbf h)= \\sigma\\left(\\sum_{j=1}^H W^{T}_{ij} h_j + v_{bias} \\right)$$\n",
        "\n",
        "The samples are generated from this distribution by generating a uniform random variate vector $\\mathbf{\\xi} \\sim U[0,1]$ of length $V$ and comparing to the computed probabilities as\n",
        "\n",
        "<center>If $\\xi_i>p(v_{i}|\\mathbf{h})$, then $v_i=1$, else $v_i=0$.</center>\n",
        "\n",
        "Let vectors $\\mathbf v_k$ and $\\mathbf h_k$ be for the $k$th iteration.  In general, the $kth$ state is generrated as: \n",
        "\n",
        "<b>Iteration</b> $k$: \n",
        "\n",
        "$$\\mathbf v_{k-1} \\Rightarrow p(\\mathbf h_{k-1}|\\mathbf v_{k-1})\\Rightarrow \\mathbf h_{k-1}\\Rightarrow p(\\mathbf v_{k}|\\mathbf h_{k-1})\\Rightarrow \\mathbf v_k$$       \n",
        "\n",
        "<h3>Contrastive Divergence (CD-k)</h3>\n",
        "The update of the weight matrix is done during the Contrastive Divergence step. \n",
        "\n",
        "Vectors v0 and vk are used to calculate the activation probabilities for hidden values h0 and hk. The difference between the outer products of those probabilities with input vectors v0 and vk results in the update matrix:\n",
        "\n",
        "$\\Delta \\mathbf W_k =\\mathbf v_k \\otimes \\mathbf h_k - \\mathbf v_{k-1} \\otimes \\mathbf h_{k-1}$ \n",
        "\n",
        "Contrastive Divergence is actually matrix of values that is computed and used to adjust values of the $\\mathbf W$ matrix. Changing $\\mathbf W$ incrementally leads to training of the  $\\mathbf W$ values. Then, on each step (epoch), $\\mathbf W$ is updated using the following:\n",
        "\n",
        "$\\mathbf W_k = \\mathbf W_{k-1} + \\alpha * \\Delta \\mathbf W_k$ \n",
        "\n",
        "Reconstruction steps:\n",
        "\n",
        "<ul>\n",
        "    <li> Get one data point from data set, like <i>x</i>, and pass it through the following steps:</li>\n",
        "    \n",
        "<b>Iteration</b> $k=1$: \n",
        "    \n",
        "Sampling (starting with input image)\n",
        "    $$\\mathbf x = \\mathbf v_0 \\Rightarrow p(\\mathbf h_0|\\mathbf v_0)\\Rightarrow \\mathbf h_0 \\Rightarrow p(\\mathbf v_1|\\mathbf h_0)\\Rightarrow \\mathbf v_1$$   \n",
        "    followed by the CD-k step\n",
        "$$\\Delta \\mathbf W_1 =\\mathbf v_1 \\otimes \\mathbf h_1 - \\mathbf v_{0} \\otimes \\mathbf h_{0}$$     \n",
        "$$\\mathbf W_1 = \\mathbf W_{0} + \\alpha * \\Delta \\mathbf W_1$$ \n",
        " \n",
        "<li> $\\mathbf v_1$ is the reconstruction of $\\mathbf x$ sent to the next iteration).</li>\n",
        "\n",
        "<b>Iteration</b> $k=2$: \n",
        "\n",
        "Sampling (starting with $\\mathbf v_1$)\n",
        "\n",
        "$$\\mathbf v_1 \\Rightarrow p(\\mathbf h_1|\\mathbf v_1)\\Rightarrow \\mathbf h_1\\Rightarrow p(\\mathbf v_2|\\mathbf h_1)\\Rightarrow \\mathbf v_2$$   \n",
        "\n",
        "followed by the CD-k step\n",
        "$$\\Delta \\mathbf W_2 =\\mathbf v_2 \\otimes \\mathbf h_2 - \\mathbf v_{1} \\otimes \\mathbf h_{1}$$  \n",
        "$$\\mathbf W_2 = \\mathbf W_{1} + \\alpha * \\Delta \\mathbf W_2$$ \n",
        "\n",
        "<li> $\\mathbf v_2$ is the reconstruction of $\\mathbf v_1$ sent to the next iteration).</li>    \n",
        "      \n",
        "<b>Iteration</b> $k=K$:\n",
        "    \n",
        "Sampling (starting with $\\mathbf v_{K-1}$)\n",
        "\n",
        "$$\\mathbf v_{K-1} \\Rightarrow p(\\mathbf h_{K-1}|\\mathbf v_{K-1})\\Rightarrow \\mathbf h_{K-1}\\Rightarrow p(\\mathbf v_K|\\mathbf h_{K-1})\\Rightarrow \\mathbf v_K$$   \n",
        "\n",
        "followed by the CD-k step\n",
        "$$\\Delta \\mathbf W_K =\\mathbf v_K \\otimes \\mathbf h_K - \\mathbf v_{K-1} \\otimes \\mathbf h_{K-1}$$  \n",
        "$$\\mathbf W_K = \\mathbf W_{K-1} + \\alpha * \\Delta \\mathbf W_K$$ \n",
        "\n",
        "<b>What is $\\alpha$?</b>  \n",
        "Here, alpha is some small step size, and is also known as the \"learning rate\".\n"
      ]
    },
    {
      "cell_type": "markdown",
      "metadata": {
        "id": "2-KGPy5YFp2G"
      },
      "source": [
        "$K$ is adjustable, and good performance can be achieved with $K=1$, so that we just take one set of sampling steps per image.\n"
      ]
    },
    {
      "cell_type": "code",
      "metadata": {
        "id": "rA_RMC3pFp2G"
      },
      "source": [
        "h1_prob = tf.nn.sigmoid(tf.matmul([v1_state], W) + hb)\n",
        "h1_state = tf.nn.relu(tf.sign(h1_prob - tf.random.uniform(tf.shape(h1_prob)))) #sample_h_given_X"
      ],
      "execution_count": 43,
      "outputs": []
    },
    {
      "cell_type": "markdown",
      "metadata": {
        "id": "QY4aVCuUFp2G"
      },
      "source": [
        "Lets look at the error of the first run:\n"
      ]
    },
    {
      "cell_type": "code",
      "metadata": {
        "id": "ZVrWeiv2Fp2H",
        "colab": {
          "base_uri": "https://localhost:8080/"
        },
        "outputId": "2c0b2ec3-4362-4718-fcb9-92f7a35936c3"
      },
      "source": [
        "print(\"error: \", error(v0_state, v1_state))"
      ],
      "execution_count": 44,
      "outputs": [
        {
          "output_type": "stream",
          "text": [
            "error:  tf.Tensor(0.47831634, shape=(), dtype=float32)\n"
          ],
          "name": "stdout"
        }
      ]
    },
    {
      "cell_type": "code",
      "metadata": {
        "id": "HAr5byZgFp2H",
        "colab": {
          "base_uri": "https://localhost:8080/"
        },
        "outputId": "1944d5fb-0807-459f-f2f7-17302b4541be"
      },
      "source": [
        "#Parameters\n",
        "alpha = 0.01\n",
        "epochs = 1\n",
        "batchsize = 200\n",
        "weights = []\n",
        "errors = []\n",
        "batch_number = 0\n",
        "K = 1\n",
        "\n",
        "#creating datasets\n",
        "train_ds = \\\n",
        "    tf.data.Dataset.from_tensor_slices((trX, trY)).batch(batchsize)\n",
        "\n",
        "for epoch in range(epochs):\n",
        "    for batch_x, batch_y in train_ds:\n",
        "        batch_number += 1\n",
        "        for i_sample in range(batchsize):           \n",
        "            for k in range(K):\n",
        "                v0_state = batch_x[i_sample]\n",
        "                h0_state = hidden_layer(v0_state, W, hb)\n",
        "                v1_state = reconstructed_output(h0_state, W, vb)\n",
        "                h1_state = hidden_layer(v1_state, W, hb)\n",
        "\n",
        "                delta_W = tf.matmul(tf.transpose([v0_state]), h0_state) - tf.matmul(tf.transpose([v1_state]), h1_state)\n",
        "                W = W + alpha * delta_W\n",
        "\n",
        "                vb = vb + alpha * tf.reduce_mean(v0_state - v1_state, 0)\n",
        "                hb = hb + alpha * tf.reduce_mean(h0_state - h1_state, 0) \n",
        "\n",
        "                v0_state = v1_state\n",
        "\n",
        "            if i_sample == batchsize-1:\n",
        "                err = error(batch_x[i_sample], v1_state)\n",
        "                errors.append(err)\n",
        "                weights.append(W)\n",
        "                print ( 'Epoch: %d' % epoch, \n",
        "                       \"batch #: %i \" % batch_number, \"of %i\" % int(60e3/batchsize), \n",
        "                       \"sample #: %i\" % i_sample,\n",
        "                       'reconstruction error: %f' % err)\n",
        "\n"
      ],
      "execution_count": 45,
      "outputs": [
        {
          "output_type": "stream",
          "text": [
            "Epoch: 0 batch #: 1  of 300 sample #: 199 reconstruction error: 0.161227\n",
            "Epoch: 0 batch #: 2  of 300 sample #: 199 reconstruction error: 0.242084\n",
            "Epoch: 0 batch #: 3  of 300 sample #: 199 reconstruction error: 0.117358\n",
            "Epoch: 0 batch #: 4  of 300 sample #: 199 reconstruction error: 0.132389\n",
            "Epoch: 0 batch #: 5  of 300 sample #: 199 reconstruction error: 0.103214\n",
            "Epoch: 0 batch #: 6  of 300 sample #: 199 reconstruction error: 0.201260\n",
            "Epoch: 0 batch #: 7  of 300 sample #: 199 reconstruction error: 0.106436\n",
            "Epoch: 0 batch #: 8  of 300 sample #: 199 reconstruction error: 0.116117\n",
            "Epoch: 0 batch #: 9  of 300 sample #: 199 reconstruction error: 0.092704\n",
            "Epoch: 0 batch #: 10  of 300 sample #: 199 reconstruction error: 0.167763\n",
            "Epoch: 0 batch #: 11  of 300 sample #: 199 reconstruction error: 0.091861\n",
            "Epoch: 0 batch #: 12  of 300 sample #: 199 reconstruction error: 0.160520\n",
            "Epoch: 0 batch #: 13  of 300 sample #: 199 reconstruction error: 0.059197\n",
            "Epoch: 0 batch #: 14  of 300 sample #: 199 reconstruction error: 0.103693\n",
            "Epoch: 0 batch #: 15  of 300 sample #: 199 reconstruction error: 0.107869\n",
            "Epoch: 0 batch #: 16  of 300 sample #: 199 reconstruction error: 0.098184\n",
            "Epoch: 0 batch #: 17  of 300 sample #: 199 reconstruction error: 0.083281\n",
            "Epoch: 0 batch #: 18  of 300 sample #: 199 reconstruction error: 0.140763\n",
            "Epoch: 0 batch #: 19  of 300 sample #: 199 reconstruction error: 0.138855\n",
            "Epoch: 0 batch #: 20  of 300 sample #: 199 reconstruction error: 0.106483\n",
            "Epoch: 0 batch #: 21  of 300 sample #: 199 reconstruction error: 0.084827\n",
            "Epoch: 0 batch #: 22  of 300 sample #: 199 reconstruction error: 0.071486\n",
            "Epoch: 0 batch #: 23  of 300 sample #: 199 reconstruction error: 0.133104\n",
            "Epoch: 0 batch #: 24  of 300 sample #: 199 reconstruction error: 0.131807\n",
            "Epoch: 0 batch #: 25  of 300 sample #: 199 reconstruction error: 0.095808\n",
            "Epoch: 0 batch #: 26  of 300 sample #: 199 reconstruction error: 0.106515\n",
            "Epoch: 0 batch #: 27  of 300 sample #: 199 reconstruction error: 0.111284\n",
            "Epoch: 0 batch #: 28  of 300 sample #: 199 reconstruction error: 0.080584\n",
            "Epoch: 0 batch #: 29  of 300 sample #: 199 reconstruction error: 0.109564\n",
            "Epoch: 0 batch #: 30  of 300 sample #: 199 reconstruction error: 0.086107\n",
            "Epoch: 0 batch #: 31  of 300 sample #: 199 reconstruction error: 0.094170\n",
            "Epoch: 0 batch #: 32  of 300 sample #: 199 reconstruction error: 0.110906\n",
            "Epoch: 0 batch #: 33  of 300 sample #: 199 reconstruction error: 0.045432\n",
            "Epoch: 0 batch #: 34  of 300 sample #: 199 reconstruction error: 0.073975\n",
            "Epoch: 0 batch #: 35  of 300 sample #: 199 reconstruction error: 0.081888\n",
            "Epoch: 0 batch #: 36  of 300 sample #: 199 reconstruction error: 0.086545\n",
            "Epoch: 0 batch #: 37  of 300 sample #: 199 reconstruction error: 0.063639\n",
            "Epoch: 0 batch #: 38  of 300 sample #: 199 reconstruction error: 0.067007\n",
            "Epoch: 0 batch #: 39  of 300 sample #: 199 reconstruction error: 0.087435\n",
            "Epoch: 0 batch #: 40  of 300 sample #: 199 reconstruction error: 0.129596\n",
            "Epoch: 0 batch #: 41  of 300 sample #: 199 reconstruction error: 0.078158\n",
            "Epoch: 0 batch #: 42  of 300 sample #: 199 reconstruction error: 0.058912\n",
            "Epoch: 0 batch #: 43  of 300 sample #: 199 reconstruction error: 0.115855\n",
            "Epoch: 0 batch #: 44  of 300 sample #: 199 reconstruction error: 0.068689\n",
            "Epoch: 0 batch #: 45  of 300 sample #: 199 reconstruction error: 0.064879\n",
            "Epoch: 0 batch #: 46  of 300 sample #: 199 reconstruction error: 0.026004\n",
            "Epoch: 0 batch #: 47  of 300 sample #: 199 reconstruction error: 0.034683\n",
            "Epoch: 0 batch #: 48  of 300 sample #: 199 reconstruction error: 0.030507\n",
            "Epoch: 0 batch #: 49  of 300 sample #: 199 reconstruction error: 0.123077\n",
            "Epoch: 0 batch #: 50  of 300 sample #: 199 reconstruction error: 0.052799\n",
            "Epoch: 0 batch #: 51  of 300 sample #: 199 reconstruction error: 0.059854\n",
            "Epoch: 0 batch #: 52  of 300 sample #: 199 reconstruction error: 0.046305\n",
            "Epoch: 0 batch #: 53  of 300 sample #: 199 reconstruction error: 0.086989\n",
            "Epoch: 0 batch #: 54  of 300 sample #: 199 reconstruction error: 0.061828\n",
            "Epoch: 0 batch #: 55  of 300 sample #: 199 reconstruction error: 0.085150\n",
            "Epoch: 0 batch #: 56  of 300 sample #: 199 reconstruction error: 0.045696\n",
            "Epoch: 0 batch #: 57  of 300 sample #: 199 reconstruction error: 0.050485\n",
            "Epoch: 0 batch #: 58  of 300 sample #: 199 reconstruction error: 0.068450\n",
            "Epoch: 0 batch #: 59  of 300 sample #: 199 reconstruction error: 0.053980\n",
            "Epoch: 0 batch #: 60  of 300 sample #: 199 reconstruction error: 0.088157\n",
            "Epoch: 0 batch #: 61  of 300 sample #: 199 reconstruction error: 0.084048\n",
            "Epoch: 0 batch #: 62  of 300 sample #: 199 reconstruction error: 0.082519\n",
            "Epoch: 0 batch #: 63  of 300 sample #: 199 reconstruction error: 0.055071\n",
            "Epoch: 0 batch #: 64  of 300 sample #: 199 reconstruction error: 0.099303\n",
            "Epoch: 0 batch #: 65  of 300 sample #: 199 reconstruction error: 0.090036\n",
            "Epoch: 0 batch #: 66  of 300 sample #: 199 reconstruction error: 0.056764\n",
            "Epoch: 0 batch #: 67  of 300 sample #: 199 reconstruction error: 0.055487\n",
            "Epoch: 0 batch #: 68  of 300 sample #: 199 reconstruction error: 0.060867\n",
            "Epoch: 0 batch #: 69  of 300 sample #: 199 reconstruction error: 0.090195\n",
            "Epoch: 0 batch #: 70  of 300 sample #: 199 reconstruction error: 0.083573\n",
            "Epoch: 0 batch #: 71  of 300 sample #: 199 reconstruction error: 0.079521\n",
            "Epoch: 0 batch #: 72  of 300 sample #: 199 reconstruction error: 0.070954\n",
            "Epoch: 0 batch #: 73  of 300 sample #: 199 reconstruction error: 0.089520\n",
            "Epoch: 0 batch #: 74  of 300 sample #: 199 reconstruction error: 0.079128\n",
            "Epoch: 0 batch #: 75  of 300 sample #: 199 reconstruction error: 0.046957\n",
            "Epoch: 0 batch #: 76  of 300 sample #: 199 reconstruction error: 0.090871\n",
            "Epoch: 0 batch #: 77  of 300 sample #: 199 reconstruction error: 0.089844\n",
            "Epoch: 0 batch #: 78  of 300 sample #: 199 reconstruction error: 0.099818\n",
            "Epoch: 0 batch #: 79  of 300 sample #: 199 reconstruction error: 0.104170\n",
            "Epoch: 0 batch #: 80  of 300 sample #: 199 reconstruction error: 0.033036\n",
            "Epoch: 0 batch #: 81  of 300 sample #: 199 reconstruction error: 0.050269\n",
            "Epoch: 0 batch #: 82  of 300 sample #: 199 reconstruction error: 0.049734\n",
            "Epoch: 0 batch #: 83  of 300 sample #: 199 reconstruction error: 0.080336\n",
            "Epoch: 0 batch #: 84  of 300 sample #: 199 reconstruction error: 0.086756\n",
            "Epoch: 0 batch #: 85  of 300 sample #: 199 reconstruction error: 0.054041\n",
            "Epoch: 0 batch #: 86  of 300 sample #: 199 reconstruction error: 0.082798\n",
            "Epoch: 0 batch #: 87  of 300 sample #: 199 reconstruction error: 0.077476\n",
            "Epoch: 0 batch #: 88  of 300 sample #: 199 reconstruction error: 0.036480\n",
            "Epoch: 0 batch #: 89  of 300 sample #: 199 reconstruction error: 0.059959\n",
            "Epoch: 0 batch #: 90  of 300 sample #: 199 reconstruction error: 0.070513\n",
            "Epoch: 0 batch #: 91  of 300 sample #: 199 reconstruction error: 0.064968\n",
            "Epoch: 0 batch #: 92  of 300 sample #: 199 reconstruction error: 0.071736\n",
            "Epoch: 0 batch #: 93  of 300 sample #: 199 reconstruction error: 0.108685\n",
            "Epoch: 0 batch #: 94  of 300 sample #: 199 reconstruction error: 0.117641\n",
            "Epoch: 0 batch #: 95  of 300 sample #: 199 reconstruction error: 0.061889\n",
            "Epoch: 0 batch #: 96  of 300 sample #: 199 reconstruction error: 0.058602\n",
            "Epoch: 0 batch #: 97  of 300 sample #: 199 reconstruction error: 0.100453\n",
            "Epoch: 0 batch #: 98  of 300 sample #: 199 reconstruction error: 0.090040\n",
            "Epoch: 0 batch #: 99  of 300 sample #: 199 reconstruction error: 0.062783\n",
            "Epoch: 0 batch #: 100  of 300 sample #: 199 reconstruction error: 0.107737\n",
            "Epoch: 0 batch #: 101  of 300 sample #: 199 reconstruction error: 0.073042\n",
            "Epoch: 0 batch #: 102  of 300 sample #: 199 reconstruction error: 0.070707\n",
            "Epoch: 0 batch #: 103  of 300 sample #: 199 reconstruction error: 0.083797\n",
            "Epoch: 0 batch #: 104  of 300 sample #: 199 reconstruction error: 0.079846\n",
            "Epoch: 0 batch #: 105  of 300 sample #: 199 reconstruction error: 0.058155\n",
            "Epoch: 0 batch #: 106  of 300 sample #: 199 reconstruction error: 0.122508\n",
            "Epoch: 0 batch #: 107  of 300 sample #: 199 reconstruction error: 0.142480\n",
            "Epoch: 0 batch #: 108  of 300 sample #: 199 reconstruction error: 0.071828\n",
            "Epoch: 0 batch #: 109  of 300 sample #: 199 reconstruction error: 0.122595\n",
            "Epoch: 0 batch #: 110  of 300 sample #: 199 reconstruction error: 0.064664\n",
            "Epoch: 0 batch #: 111  of 300 sample #: 199 reconstruction error: 0.091593\n",
            "Epoch: 0 batch #: 112  of 300 sample #: 199 reconstruction error: 0.044292\n",
            "Epoch: 0 batch #: 113  of 300 sample #: 199 reconstruction error: 0.072238\n",
            "Epoch: 0 batch #: 114  of 300 sample #: 199 reconstruction error: 0.076900\n",
            "Epoch: 0 batch #: 115  of 300 sample #: 199 reconstruction error: 0.058685\n",
            "Epoch: 0 batch #: 116  of 300 sample #: 199 reconstruction error: 0.042252\n",
            "Epoch: 0 batch #: 117  of 300 sample #: 199 reconstruction error: 0.042532\n",
            "Epoch: 0 batch #: 118  of 300 sample #: 199 reconstruction error: 0.079598\n",
            "Epoch: 0 batch #: 119  of 300 sample #: 199 reconstruction error: 0.127510\n",
            "Epoch: 0 batch #: 120  of 300 sample #: 199 reconstruction error: 0.081283\n",
            "Epoch: 0 batch #: 121  of 300 sample #: 199 reconstruction error: 0.047319\n",
            "Epoch: 0 batch #: 122  of 300 sample #: 199 reconstruction error: 0.099142\n",
            "Epoch: 0 batch #: 123  of 300 sample #: 199 reconstruction error: 0.064873\n",
            "Epoch: 0 batch #: 124  of 300 sample #: 199 reconstruction error: 0.063320\n",
            "Epoch: 0 batch #: 125  of 300 sample #: 199 reconstruction error: 0.050188\n",
            "Epoch: 0 batch #: 126  of 300 sample #: 199 reconstruction error: 0.084327\n",
            "Epoch: 0 batch #: 127  of 300 sample #: 199 reconstruction error: 0.081081\n",
            "Epoch: 0 batch #: 128  of 300 sample #: 199 reconstruction error: 0.081132\n",
            "Epoch: 0 batch #: 129  of 300 sample #: 199 reconstruction error: 0.055012\n",
            "Epoch: 0 batch #: 130  of 300 sample #: 199 reconstruction error: 0.080311\n",
            "Epoch: 0 batch #: 131  of 300 sample #: 199 reconstruction error: 0.064228\n",
            "Epoch: 0 batch #: 132  of 300 sample #: 199 reconstruction error: 0.053469\n",
            "Epoch: 0 batch #: 133  of 300 sample #: 199 reconstruction error: 0.058581\n",
            "Epoch: 0 batch #: 134  of 300 sample #: 199 reconstruction error: 0.102420\n",
            "Epoch: 0 batch #: 135  of 300 sample #: 199 reconstruction error: 0.096044\n",
            "Epoch: 0 batch #: 136  of 300 sample #: 199 reconstruction error: 0.107221\n",
            "Epoch: 0 batch #: 137  of 300 sample #: 199 reconstruction error: 0.062758\n",
            "Epoch: 0 batch #: 138  of 300 sample #: 199 reconstruction error: 0.097172\n",
            "Epoch: 0 batch #: 139  of 300 sample #: 199 reconstruction error: 0.124446\n",
            "Epoch: 0 batch #: 140  of 300 sample #: 199 reconstruction error: 0.069899\n",
            "Epoch: 0 batch #: 141  of 300 sample #: 199 reconstruction error: 0.091144\n",
            "Epoch: 0 batch #: 142  of 300 sample #: 199 reconstruction error: 0.083865\n",
            "Epoch: 0 batch #: 143  of 300 sample #: 199 reconstruction error: 0.051594\n",
            "Epoch: 0 batch #: 144  of 300 sample #: 199 reconstruction error: 0.069824\n",
            "Epoch: 0 batch #: 145  of 300 sample #: 199 reconstruction error: 0.094962\n",
            "Epoch: 0 batch #: 146  of 300 sample #: 199 reconstruction error: 0.108397\n",
            "Epoch: 0 batch #: 147  of 300 sample #: 199 reconstruction error: 0.073306\n",
            "Epoch: 0 batch #: 148  of 300 sample #: 199 reconstruction error: 0.082547\n",
            "Epoch: 0 batch #: 149  of 300 sample #: 199 reconstruction error: 0.036484\n",
            "Epoch: 0 batch #: 150  of 300 sample #: 199 reconstruction error: 0.037112\n",
            "Epoch: 0 batch #: 151  of 300 sample #: 199 reconstruction error: 0.104916\n",
            "Epoch: 0 batch #: 152  of 300 sample #: 199 reconstruction error: 0.081553\n",
            "Epoch: 0 batch #: 153  of 300 sample #: 199 reconstruction error: 0.058086\n",
            "Epoch: 0 batch #: 154  of 300 sample #: 199 reconstruction error: 0.070961\n",
            "Epoch: 0 batch #: 155  of 300 sample #: 199 reconstruction error: 0.067945\n",
            "Epoch: 0 batch #: 156  of 300 sample #: 199 reconstruction error: 0.069779\n",
            "Epoch: 0 batch #: 157  of 300 sample #: 199 reconstruction error: 0.091178\n",
            "Epoch: 0 batch #: 158  of 300 sample #: 199 reconstruction error: 0.059705\n",
            "Epoch: 0 batch #: 159  of 300 sample #: 199 reconstruction error: 0.080070\n",
            "Epoch: 0 batch #: 160  of 300 sample #: 199 reconstruction error: 0.084118\n",
            "Epoch: 0 batch #: 161  of 300 sample #: 199 reconstruction error: 0.084956\n",
            "Epoch: 0 batch #: 162  of 300 sample #: 199 reconstruction error: 0.109792\n",
            "Epoch: 0 batch #: 163  of 300 sample #: 199 reconstruction error: 0.048856\n",
            "Epoch: 0 batch #: 164  of 300 sample #: 199 reconstruction error: 0.069462\n",
            "Epoch: 0 batch #: 165  of 300 sample #: 199 reconstruction error: 0.078849\n",
            "Epoch: 0 batch #: 166  of 300 sample #: 199 reconstruction error: 0.055589\n",
            "Epoch: 0 batch #: 167  of 300 sample #: 199 reconstruction error: 0.080087\n",
            "Epoch: 0 batch #: 168  of 300 sample #: 199 reconstruction error: 0.051332\n",
            "Epoch: 0 batch #: 169  of 300 sample #: 199 reconstruction error: 0.040607\n",
            "Epoch: 0 batch #: 170  of 300 sample #: 199 reconstruction error: 0.059634\n",
            "Epoch: 0 batch #: 171  of 300 sample #: 199 reconstruction error: 0.027775\n",
            "Epoch: 0 batch #: 172  of 300 sample #: 199 reconstruction error: 0.050732\n",
            "Epoch: 0 batch #: 173  of 300 sample #: 199 reconstruction error: 0.079922\n",
            "Epoch: 0 batch #: 174  of 300 sample #: 199 reconstruction error: 0.125610\n",
            "Epoch: 0 batch #: 175  of 300 sample #: 199 reconstruction error: 0.070657\n",
            "Epoch: 0 batch #: 176  of 300 sample #: 199 reconstruction error: 0.054695\n",
            "Epoch: 0 batch #: 177  of 300 sample #: 199 reconstruction error: 0.049402\n",
            "Epoch: 0 batch #: 178  of 300 sample #: 199 reconstruction error: 0.120646\n",
            "Epoch: 0 batch #: 179  of 300 sample #: 199 reconstruction error: 0.073229\n",
            "Epoch: 0 batch #: 180  of 300 sample #: 199 reconstruction error: 0.093035\n",
            "Epoch: 0 batch #: 181  of 300 sample #: 199 reconstruction error: 0.094752\n",
            "Epoch: 0 batch #: 182  of 300 sample #: 199 reconstruction error: 0.075516\n",
            "Epoch: 0 batch #: 183  of 300 sample #: 199 reconstruction error: 0.110459\n",
            "Epoch: 0 batch #: 184  of 300 sample #: 199 reconstruction error: 0.065614\n",
            "Epoch: 0 batch #: 185  of 300 sample #: 199 reconstruction error: 0.078751\n",
            "Epoch: 0 batch #: 186  of 300 sample #: 199 reconstruction error: 0.126663\n",
            "Epoch: 0 batch #: 187  of 300 sample #: 199 reconstruction error: 0.056138\n",
            "Epoch: 0 batch #: 188  of 300 sample #: 199 reconstruction error: 0.127571\n",
            "Epoch: 0 batch #: 189  of 300 sample #: 199 reconstruction error: 0.079847\n",
            "Epoch: 0 batch #: 190  of 300 sample #: 199 reconstruction error: 0.047967\n",
            "Epoch: 0 batch #: 191  of 300 sample #: 199 reconstruction error: 0.134524\n",
            "Epoch: 0 batch #: 192  of 300 sample #: 199 reconstruction error: 0.115157\n",
            "Epoch: 0 batch #: 193  of 300 sample #: 199 reconstruction error: 0.102538\n",
            "Epoch: 0 batch #: 194  of 300 sample #: 199 reconstruction error: 0.077058\n",
            "Epoch: 0 batch #: 195  of 300 sample #: 199 reconstruction error: 0.048804\n",
            "Epoch: 0 batch #: 196  of 300 sample #: 199 reconstruction error: 0.060238\n",
            "Epoch: 0 batch #: 197  of 300 sample #: 199 reconstruction error: 0.045361\n",
            "Epoch: 0 batch #: 198  of 300 sample #: 199 reconstruction error: 0.086177\n",
            "Epoch: 0 batch #: 199  of 300 sample #: 199 reconstruction error: 0.087182\n",
            "Epoch: 0 batch #: 200  of 300 sample #: 199 reconstruction error: 0.107143\n",
            "Epoch: 0 batch #: 201  of 300 sample #: 199 reconstruction error: 0.088492\n",
            "Epoch: 0 batch #: 202  of 300 sample #: 199 reconstruction error: 0.031534\n",
            "Epoch: 0 batch #: 203  of 300 sample #: 199 reconstruction error: 0.070934\n",
            "Epoch: 0 batch #: 204  of 300 sample #: 199 reconstruction error: 0.060773\n",
            "Epoch: 0 batch #: 205  of 300 sample #: 199 reconstruction error: 0.018209\n",
            "Epoch: 0 batch #: 206  of 300 sample #: 199 reconstruction error: 0.069740\n",
            "Epoch: 0 batch #: 207  of 300 sample #: 199 reconstruction error: 0.082743\n",
            "Epoch: 0 batch #: 208  of 300 sample #: 199 reconstruction error: 0.056346\n",
            "Epoch: 0 batch #: 209  of 300 sample #: 199 reconstruction error: 0.036518\n",
            "Epoch: 0 batch #: 210  of 300 sample #: 199 reconstruction error: 0.106310\n",
            "Epoch: 0 batch #: 211  of 300 sample #: 199 reconstruction error: 0.086642\n",
            "Epoch: 0 batch #: 212  of 300 sample #: 199 reconstruction error: 0.079680\n",
            "Epoch: 0 batch #: 213  of 300 sample #: 199 reconstruction error: 0.102609\n",
            "Epoch: 0 batch #: 214  of 300 sample #: 199 reconstruction error: 0.094191\n",
            "Epoch: 0 batch #: 215  of 300 sample #: 199 reconstruction error: 0.030227\n",
            "Epoch: 0 batch #: 216  of 300 sample #: 199 reconstruction error: 0.092904\n",
            "Epoch: 0 batch #: 217  of 300 sample #: 199 reconstruction error: 0.080841\n",
            "Epoch: 0 batch #: 218  of 300 sample #: 199 reconstruction error: 0.067966\n",
            "Epoch: 0 batch #: 219  of 300 sample #: 199 reconstruction error: 0.063443\n",
            "Epoch: 0 batch #: 220  of 300 sample #: 199 reconstruction error: 0.064988\n",
            "Epoch: 0 batch #: 221  of 300 sample #: 199 reconstruction error: 0.107811\n",
            "Epoch: 0 batch #: 222  of 300 sample #: 199 reconstruction error: 0.086846\n",
            "Epoch: 0 batch #: 223  of 300 sample #: 199 reconstruction error: 0.070472\n",
            "Epoch: 0 batch #: 224  of 300 sample #: 199 reconstruction error: 0.075045\n",
            "Epoch: 0 batch #: 225  of 300 sample #: 199 reconstruction error: 0.055542\n",
            "Epoch: 0 batch #: 226  of 300 sample #: 199 reconstruction error: 0.137881\n",
            "Epoch: 0 batch #: 227  of 300 sample #: 199 reconstruction error: 0.080807\n",
            "Epoch: 0 batch #: 228  of 300 sample #: 199 reconstruction error: 0.064110\n",
            "Epoch: 0 batch #: 229  of 300 sample #: 199 reconstruction error: 0.074724\n",
            "Epoch: 0 batch #: 230  of 300 sample #: 199 reconstruction error: 0.038610\n",
            "Epoch: 0 batch #: 231  of 300 sample #: 199 reconstruction error: 0.024519\n",
            "Epoch: 0 batch #: 232  of 300 sample #: 199 reconstruction error: 0.079168\n",
            "Epoch: 0 batch #: 233  of 300 sample #: 199 reconstruction error: 0.068134\n",
            "Epoch: 0 batch #: 234  of 300 sample #: 199 reconstruction error: 0.075991\n",
            "Epoch: 0 batch #: 235  of 300 sample #: 199 reconstruction error: 0.067364\n",
            "Epoch: 0 batch #: 236  of 300 sample #: 199 reconstruction error: 0.095795\n",
            "Epoch: 0 batch #: 237  of 300 sample #: 199 reconstruction error: 0.078379\n",
            "Epoch: 0 batch #: 238  of 300 sample #: 199 reconstruction error: 0.116071\n",
            "Epoch: 0 batch #: 239  of 300 sample #: 199 reconstruction error: 0.028605\n",
            "Epoch: 0 batch #: 240  of 300 sample #: 199 reconstruction error: 0.086307\n",
            "Epoch: 0 batch #: 241  of 300 sample #: 199 reconstruction error: 0.071491\n",
            "Epoch: 0 batch #: 242  of 300 sample #: 199 reconstruction error: 0.072221\n",
            "Epoch: 0 batch #: 243  of 300 sample #: 199 reconstruction error: 0.070770\n",
            "Epoch: 0 batch #: 244  of 300 sample #: 199 reconstruction error: 0.092018\n",
            "Epoch: 0 batch #: 245  of 300 sample #: 199 reconstruction error: 0.063543\n",
            "Epoch: 0 batch #: 246  of 300 sample #: 199 reconstruction error: 0.106662\n",
            "Epoch: 0 batch #: 247  of 300 sample #: 199 reconstruction error: 0.046540\n",
            "Epoch: 0 batch #: 248  of 300 sample #: 199 reconstruction error: 0.069828\n",
            "Epoch: 0 batch #: 249  of 300 sample #: 199 reconstruction error: 0.039879\n",
            "Epoch: 0 batch #: 250  of 300 sample #: 199 reconstruction error: 0.095800\n",
            "Epoch: 0 batch #: 251  of 300 sample #: 199 reconstruction error: 0.034806\n",
            "Epoch: 0 batch #: 252  of 300 sample #: 199 reconstruction error: 0.081026\n",
            "Epoch: 0 batch #: 253  of 300 sample #: 199 reconstruction error: 0.055435\n",
            "Epoch: 0 batch #: 254  of 300 sample #: 199 reconstruction error: 0.044819\n",
            "Epoch: 0 batch #: 255  of 300 sample #: 199 reconstruction error: 0.054572\n",
            "Epoch: 0 batch #: 256  of 300 sample #: 199 reconstruction error: 0.102995\n",
            "Epoch: 0 batch #: 257  of 300 sample #: 199 reconstruction error: 0.085327\n",
            "Epoch: 0 batch #: 258  of 300 sample #: 199 reconstruction error: 0.101989\n",
            "Epoch: 0 batch #: 259  of 300 sample #: 199 reconstruction error: 0.070206\n",
            "Epoch: 0 batch #: 260  of 300 sample #: 199 reconstruction error: 0.096718\n",
            "Epoch: 0 batch #: 261  of 300 sample #: 199 reconstruction error: 0.040945\n",
            "Epoch: 0 batch #: 262  of 300 sample #: 199 reconstruction error: 0.060751\n",
            "Epoch: 0 batch #: 263  of 300 sample #: 199 reconstruction error: 0.066647\n",
            "Epoch: 0 batch #: 264  of 300 sample #: 199 reconstruction error: 0.095453\n",
            "Epoch: 0 batch #: 265  of 300 sample #: 199 reconstruction error: 0.070549\n",
            "Epoch: 0 batch #: 266  of 300 sample #: 199 reconstruction error: 0.037099\n",
            "Epoch: 0 batch #: 267  of 300 sample #: 199 reconstruction error: 0.059268\n",
            "Epoch: 0 batch #: 268  of 300 sample #: 199 reconstruction error: 0.021504\n",
            "Epoch: 0 batch #: 269  of 300 sample #: 199 reconstruction error: 0.097782\n",
            "Epoch: 0 batch #: 270  of 300 sample #: 199 reconstruction error: 0.077630\n",
            "Epoch: 0 batch #: 271  of 300 sample #: 199 reconstruction error: 0.043207\n",
            "Epoch: 0 batch #: 272  of 300 sample #: 199 reconstruction error: 0.064512\n",
            "Epoch: 0 batch #: 273  of 300 sample #: 199 reconstruction error: 0.059379\n",
            "Epoch: 0 batch #: 274  of 300 sample #: 199 reconstruction error: 0.053116\n",
            "Epoch: 0 batch #: 275  of 300 sample #: 199 reconstruction error: 0.102602\n",
            "Epoch: 0 batch #: 276  of 300 sample #: 199 reconstruction error: 0.058815\n",
            "Epoch: 0 batch #: 277  of 300 sample #: 199 reconstruction error: 0.067792\n",
            "Epoch: 0 batch #: 278  of 300 sample #: 199 reconstruction error: 0.051262\n",
            "Epoch: 0 batch #: 279  of 300 sample #: 199 reconstruction error: 0.046224\n",
            "Epoch: 0 batch #: 280  of 300 sample #: 199 reconstruction error: 0.065894\n",
            "Epoch: 0 batch #: 281  of 300 sample #: 199 reconstruction error: 0.078576\n",
            "Epoch: 0 batch #: 282  of 300 sample #: 199 reconstruction error: 0.098313\n",
            "Epoch: 0 batch #: 283  of 300 sample #: 199 reconstruction error: 0.040014\n",
            "Epoch: 0 batch #: 284  of 300 sample #: 199 reconstruction error: 0.053654\n",
            "Epoch: 0 batch #: 285  of 300 sample #: 199 reconstruction error: 0.062875\n",
            "Epoch: 0 batch #: 286  of 300 sample #: 199 reconstruction error: 0.092172\n",
            "Epoch: 0 batch #: 287  of 300 sample #: 199 reconstruction error: 0.061145\n",
            "Epoch: 0 batch #: 288  of 300 sample #: 199 reconstruction error: 0.033360\n",
            "Epoch: 0 batch #: 289  of 300 sample #: 199 reconstruction error: 0.093390\n",
            "Epoch: 0 batch #: 290  of 300 sample #: 199 reconstruction error: 0.093292\n",
            "Epoch: 0 batch #: 291  of 300 sample #: 199 reconstruction error: 0.105987\n",
            "Epoch: 0 batch #: 292  of 300 sample #: 199 reconstruction error: 0.066751\n",
            "Epoch: 0 batch #: 293  of 300 sample #: 199 reconstruction error: 0.053994\n",
            "Epoch: 0 batch #: 294  of 300 sample #: 199 reconstruction error: 0.076509\n",
            "Epoch: 0 batch #: 295  of 300 sample #: 199 reconstruction error: 0.082055\n",
            "Epoch: 0 batch #: 296  of 300 sample #: 199 reconstruction error: 0.028449\n",
            "Epoch: 0 batch #: 297  of 300 sample #: 199 reconstruction error: 0.108728\n",
            "Epoch: 0 batch #: 298  of 300 sample #: 199 reconstruction error: 0.051887\n",
            "Epoch: 0 batch #: 299  of 300 sample #: 199 reconstruction error: 0.058084\n",
            "Epoch: 0 batch #: 300  of 300 sample #: 199 reconstruction error: 0.086191\n"
          ],
          "name": "stdout"
        }
      ]
    },
    {
      "cell_type": "markdown",
      "metadata": {
        "id": "p-XuPKS0Fp2H"
      },
      "source": [
        "Let's take a look at the errors at the end of each batch:\n"
      ]
    },
    {
      "cell_type": "code",
      "metadata": {
        "id": "J-lj-V-nFp2I"
      },
      "source": [
        "plt.plot(errors)\n",
        "plt.xlabel(\"Batch Number\")\n",
        "plt.ylabel(\"Error\")\n",
        "plt.show()"
      ],
      "execution_count": null,
      "outputs": []
    },
    {
      "cell_type": "markdown",
      "metadata": {
        "id": "_pKkkgoKFp2I"
      },
      "source": [
        "What is the final weight matrix $W$ after training?\n"
      ]
    },
    {
      "cell_type": "code",
      "metadata": {
        "id": "Hd2kzdsXFp2I"
      },
      "source": [
        "print(W.numpy()) # a weight matrix of shape (50,784)"
      ],
      "execution_count": null,
      "outputs": []
    },
    {
      "cell_type": "markdown",
      "metadata": {
        "id": "TFH91ve0Fp2I"
      },
      "source": [
        "<a id=\"ref5\"></a>\n",
        "\n",
        "<h3>Learned features</h3> \n"
      ]
    },
    {
      "cell_type": "markdown",
      "metadata": {
        "id": "KhF9qCw_Fp2I"
      },
      "source": [
        "We can take each hidden unit and visualize the connections between that hidden unit and each element in the input vector. In our case, we have 50 hidden units. Lets visualize those.\n"
      ]
    },
    {
      "cell_type": "markdown",
      "metadata": {
        "id": "nAKS-E3hFp2J"
      },
      "source": [
        "Let's plot the current weights:\n",
        "<b>tile_raster_images</b> helps in generating an easy to grasp image from a set of samples or weights. It transforms the <b>uw</b> (with one flattened image per row of size 784), into an array (of size $28\\times28$) in which images are reshaped and laid out like tiles on a floor.\n"
      ]
    },
    {
      "cell_type": "code",
      "metadata": {
        "id": "VuHbjdKZFp2J"
      },
      "source": [
        "tile_raster_images(X=W.numpy().T, img_shape=(28, 28), tile_shape=(5, 10), tile_spacing=(1, 1))\n",
        "import matplotlib.pyplot as plt\n",
        "from PIL import Image\n",
        "%matplotlib inline\n",
        "image = Image.fromarray(tile_raster_images(X=W.numpy().T, img_shape=(28, 28) ,tile_shape=(5, 10), tile_spacing=(1, 1)))\n",
        "### Plot image\n",
        "plt.rcParams['figure.figsize'] = (18.0, 18.0)\n",
        "imgplot = plt.imshow(image)\n",
        "imgplot.set_cmap('gray')  "
      ],
      "execution_count": null,
      "outputs": []
    },
    {
      "cell_type": "markdown",
      "metadata": {
        "id": "nA3N6cR6Fp2J"
      },
      "source": [
        "Each tile in the above visualization corresponds to a vector of connections between a hidden unit and visible layer's units. \n"
      ]
    },
    {
      "cell_type": "markdown",
      "metadata": {
        "id": "nPY7wslNFp2J"
      },
      "source": [
        "Let's look at one of the learned weights corresponding to one of hidden units for example. In this particular square, the gray color represents weight = 0, and the whiter it is, the more positive the weights are (closer to 1). Conversely, the darker pixels are, the more negative the weights. The positive pixels will increase the probability of activation in hidden units (after multiplying by input/visible pixels), and negative pixels will decrease the probability of a unit hidden to be 1 (activated). So, why is this important?  So we can see that this specific square (hidden unit) can detect a feature (e.g. a \"/\" shape) and if it exists in the input.\n"
      ]
    },
    {
      "cell_type": "code",
      "metadata": {
        "id": "eWhq9IRvFp2K"
      },
      "source": [
        "from PIL import Image\n",
        "image = Image.fromarray(tile_raster_images(X =W.numpy().T[10:11], img_shape=(28, 28),tile_shape=(1, 1), tile_spacing=(1, 1)))\n",
        "### Plot image\n",
        "plt.rcParams['figure.figsize'] = (4.0, 4.0)\n",
        "imgplot = plt.imshow(image)\n",
        "imgplot.set_cmap('gray')  "
      ],
      "execution_count": null,
      "outputs": []
    },
    {
      "cell_type": "markdown",
      "metadata": {
        "id": "CwzWX0AQFp2K"
      },
      "source": [
        "Let's look at the reconstruction of an image now. Imagine that we have a destructed image of figure 3. Lets see if our trained network can fix it:\n",
        "\n",
        "First we plot the image:\n"
      ]
    },
    {
      "cell_type": "code",
      "metadata": {
        "id": "yD6Y0CxAFp2K"
      },
      "source": [
        "!wget -O destructed3.jpg  https://ibm.box.com/shared/static/vvm1b63uvuxq88vbw9znpwu5ol380mco.jpg\n",
        "img = Image.open('destructed3.jpg')\n",
        "img"
      ],
      "execution_count": null,
      "outputs": []
    },
    {
      "cell_type": "markdown",
      "metadata": {
        "id": "eWzs1MNnFp2K"
      },
      "source": [
        "Now let's pass this image through the neural net:\n"
      ]
    },
    {
      "cell_type": "code",
      "metadata": {
        "id": "rYv086_lFp2L"
      },
      "source": [
        "# convert the image to a 1d numpy array\n",
        "sample_case = np.array(img.convert('I').resize((28,28))).ravel().reshape((1, -1))/255.0\n",
        "\n",
        "sample_case = tf.cast(sample_case, dtype=tf.float32)"
      ],
      "execution_count": null,
      "outputs": []
    },
    {
      "cell_type": "markdown",
      "metadata": {
        "id": "Gpn1QZHoFp2L"
      },
      "source": [
        "Feed the sample case into the network and reconstruct the output:\n"
      ]
    },
    {
      "cell_type": "code",
      "metadata": {
        "id": "DEhSVqcvFp2L"
      },
      "source": [
        "hh0_p = tf.nn.sigmoid(tf.matmul(sample_case, W) + hb)\n",
        "hh0_s = tf.round(hh0_p)\n",
        "\n",
        "print(\"Probability nodes in hidden layer:\" ,hh0_p)\n",
        "print(\"activated nodes in hidden layer:\" ,hh0_s)\n",
        "\n",
        "# reconstruct\n",
        "vv1_p = tf.nn.sigmoid(tf.matmul(hh0_s, tf.transpose(W)) + vb)\n",
        "\n",
        "print(vv1_p)\n",
        "#rec_prob = sess.run(vv1_p, feed_dict={ hh0_s: hh0_s_val, W: prv_w, vb: prv_vb})"
      ],
      "execution_count": null,
      "outputs": []
    },
    {
      "cell_type": "markdown",
      "metadata": {
        "id": "Ry3PkK2kFp2L"
      },
      "source": [
        "Here we plot the reconstructed image:\n"
      ]
    },
    {
      "cell_type": "code",
      "metadata": {
        "id": "E_OeYwCtFp2M",
        "colab": {
          "base_uri": "https://localhost:8080/",
          "height": 265
        },
        "outputId": "cdb0572c-36c5-4372-d8ab-2f4250643cbd"
      },
      "source": [
        "img = Image.fromarray(tile_raster_images(X=vv1_p.numpy(), img_shape=(28, 28),tile_shape=(1, 1), tile_spacing=(1, 1)))\n",
        "plt.rcParams['figure.figsize'] = (4.0, 4.0)\n",
        "imgplot = plt.imshow(img)\n",
        "imgplot.set_cmap('gray') "
      ],
      "execution_count": 46,
      "outputs": [
        {
          "output_type": "display_data",
          "data": {
            "image/png": "[encoded data removed]",
            "text/plain": [
              "<Figure size 288x288 with 1 Axes>"
            ]
          },
          "metadata": {
            "tags": [],
            "needs_background": "light"
          }
        }
      ]
    },
    {
      "cell_type": "markdown",
      "metadata": {
        "id": "UfM6G-j6Fp2M"
      },
      "source": [
        "<hr>\n",
        "\n",
        "## Want to learn more?\n",
        "\n",
        "Running deep learning programs usually needs a high performance platform. **PowerAI** speeds up deep learning and AI. Built on IBM’s Power Systems, **PowerAI** is a scalable software platform that accelerates deep learning and AI with blazing performance for individual users or enterprises. The **PowerAI** platform supports popular machine learning libraries and dependencies including TensorFlow, Caffe, Torch, and Theano. You can use [PowerAI on IMB Cloud](https://cocl.us/ML0120EN_PAI).\n",
        "\n",
        "Also, you can use **Watson Studio** to run these notebooks faster with bigger datasets.**Watson Studio** is IBM’s leading cloud solution for data scientists, built by data scientists. With Jupyter notebooks, RStudio, Apache Spark and popular libraries pre-packaged in the cloud, **Watson Studio** enables data scientists to collaborate on their projects without having to install anything. Join the fast-growing community of **Watson Studio** users today with a free account at [Watson Studio](https://cocl.us/ML0120EN_DSX).This is the end of this lesson. Thank you for reading this notebook, and good luck on your studies.\n"
      ]
    },
    {
      "cell_type": "markdown",
      "metadata": {
        "id": "t7_sV_18Fp2M"
      },
      "source": [
        "### Thanks for completing this lesson!\n",
        "\n",
        "Notebook created by: <a href = \"https://ca.linkedin.com/in/saeedaghabozorgi\">Saeed Aghabozorgi</a>\n",
        "\n",
        "Updated to TF 2.X by  <a href=\"https://ca.linkedin.com/in/nilmeier\"> Jerome Nilmeier</a><br />\n"
      ]
    },
    {
      "cell_type": "markdown",
      "metadata": {
        "id": "onEHWZCqFp2M"
      },
      "source": [
        "### References:\n",
        "\n",
        "[https://en.wikipedia.org/wiki/Restricted_Boltzmann_machine](https://en.wikipedia.org/wiki/Restricted_Boltzmann_machine?cm_mmc=Email_Newsletter-_-Developer_Ed%2BTech-_-WW_WW-_-SkillsNetwork-Courses-IBMDeveloperSkillsNetwork-DL0120EN-SkillsNetwork-20629446&cm_mmca1=000026UJ&cm_mmca2=10006555&cm_mmca3=M12345678&cvosrc=email.Newsletter.M12345678&cvo_campaign=000026UJ)  \n",
        "[http://deeplearning.net/tutorial/rbm.html](http://deeplearning.net/tutorial/rbm.html?cm_mmc=Email_Newsletter-_-Developer_Ed%2BTech-_-WW_WW-_-SkillsNetwork-Courses-IBMDeveloperSkillsNetwork-DL0120EN-SkillsNetwork-20629446&cm_mmca1=000026UJ&cm_mmca2=10006555&cm_mmca3=M12345678&cvosrc=email.Newsletter.M12345678&cvo_campaign=000026UJ&cm_mmc=Email_Newsletter-_-Developer_Ed%2BTech-_-WW_WW-_-SkillsNetwork-Courses-IBMDeveloperSkillsNetwork-DL0120EN-SkillsNetwork-20629446&cm_mmca1=000026UJ&cm_mmca2=10006555&cm_mmca3=M12345678&cvosrc=email.Newsletter.M12345678&cvo_campaign=000026UJ)  \n",
        "[http://www.cs.utoronto.ca/~hinton/absps/netflixICML.pdf](http://www.cs.utoronto.ca/~hinton/absps/netflixICML.pdf?cm_mmc=Email_Newsletter-_-Developer_Ed%2BTech-_-WW_WW-_-SkillsNetwork-Courses-IBMDeveloperSkillsNetwork-DL0120EN-SkillsNetwork-20629446&cm_mmca1=000026UJ&cm_mmca2=10006555&cm_mmca3=M12345678&cvosrc=email.Newsletter.M12345678&cvo_campaign=000026UJ&cm_mmc=Email_Newsletter-_-Developer_Ed%2BTech-_-WW_WW-_-SkillsNetwork-Courses-IBMDeveloperSkillsNetwork-DL0120EN-SkillsNetwork-20629446&cm_mmca1=000026UJ&cm_mmca2=10006555&cm_mmca3=M12345678&cvosrc=email.Newsletter.M12345678&cvo_campaign=000026UJ)<br>\n",
        "<http://imonad.com/rbm/restricted-boltzmann-machine/>  \n"
      ]
    },
    {
      "cell_type": "markdown",
      "metadata": {
        "id": "No3-S8stFp2N"
      },
      "source": [
        "<hr>\n",
        "\n",
        "Copyright © 2018 [Cognitive Class](https://cocl.us/DX0108EN_CC). This notebook and its source code are released under the terms of the [MIT License](https://bigdatauniversity.com/mit-license?cm_mmc=Email_Newsletter-_-Developer_Ed%2BTech-_-WW_WW-_-SkillsNetwork-Courses-IBMDeveloperSkillsNetwork-DL0120EN-SkillsNetwork-20629446&cm_mmca1=000026UJ&cm_mmca2=10006555&cm_mmca3=M12345678&cvosrc=email.Newsletter.M12345678&cvo_campaign=000026UJ&cm_mmc=Email_Newsletter-_-Developer_Ed%2BTech-_-WW_WW-_-SkillsNetwork-Courses-IBMDeveloperSkillsNetwork-DL0120EN-SkillsNetwork-20629446&cm_mmca1=000026UJ&cm_mmca2=10006555&cm_mmca3=M12345678&cvosrc=email.Newsletter.M12345678&cvo_campaign=000026UJ).\n"
      ]
    }
  ]
}