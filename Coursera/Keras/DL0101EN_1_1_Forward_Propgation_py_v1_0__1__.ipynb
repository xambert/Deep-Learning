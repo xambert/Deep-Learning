{
  "nbformat": 4,
  "nbformat_minor": 0,
  "metadata": {
    "kernelspec": {
      "display_name": "Python",
      "language": "python",
      "name": "conda-env-python-py"
    },
    "language_info": {
      "codemirror_mode": {
        "name": "ipython",
        "version": 3
      },
      "file_extension": ".py",
      "mimetype": "text/x-python",
      "name": "python",
      "nbconvert_exporter": "python",
      "pygments_lexer": "ipython3",
      "version": "3.6.7"
    },
    "colab": {
      "name": "DL0101EN-1-1-Forward-Propgation-py-v1.0__1__.ipynb",
      "provenance": []
    }
  },
  "cells": [
    {
      "cell_type": "markdown",
      "metadata": {
        "button": false,
        "deletable": true,
        "new_sheet": false,
        "run_control": {
          "read_only": false
        },
        "id": "dEGD67jZ0MEW"
      },
      "source": [
        "<a href=\"https://cognitiveclass.ai\"><img src = \"https://s3-api.us-geo.objectstorage.softlayer.net/cf-courses-data/CognitiveClass/Logos/organization_logo/organization_logo.png\" width = 400> </a>\n",
        "\n",
        "<h1 align=center><font size = 5>Artificial Neural Networks - Forward Propagation</font></h1>\n"
      ]
    },
    {
      "cell_type": "markdown",
      "metadata": {
        "button": false,
        "deletable": true,
        "new_sheet": false,
        "run_control": {
          "read_only": false
        },
        "id": "6UfIgqrU0MEa"
      },
      "source": [
        "## Introduction\n"
      ]
    },
    {
      "cell_type": "markdown",
      "metadata": {
        "button": false,
        "deletable": true,
        "new_sheet": false,
        "run_control": {
          "read_only": false
        },
        "id": "PC1hphaw0MEb"
      },
      "source": [
        "In this lab, we will build a neural network from scratch and code how it performs predictions using forward propagation. Please note that all deep learning libraries have the entire training and prediction processes implemented, and so in practice you wouldn't really need to build a neural network from scratch. However, hopefully completing this lab will help you understand neural networks and how they work even better.\n"
      ]
    },
    {
      "cell_type": "markdown",
      "metadata": {
        "id": "28RsF6GO0MEc"
      },
      "source": [
        "<h2>Artificial Neural Networks - Forward Propagation</h2>\n",
        "\n",
        "<h3>Objective for this Notebook<h3>    \n",
        "<h5> 1. Initalize a Network</h5>\n",
        "<h5> 2. Compute Weighted Sum at Each Node. </h5>\n",
        "<h5> 3. Compute Node Activation </h5>\n",
        "<h5> 4. Access your <b>Flask</b> app via a webpage anywhere using a custom link. </h5>     \n"
      ]
    },
    {
      "cell_type": "markdown",
      "metadata": {
        "button": false,
        "deletable": true,
        "new_sheet": false,
        "run_control": {
          "read_only": false
        },
        "id": "5UqDz6XZ0MEd"
      },
      "source": [
        "## Table of Contents\n",
        "\n",
        "<div class=\"alert alert-block alert-info\" style=\"margin-top: 20px\">\n",
        "\n",
        "<font size = 3>    \n",
        "\n",
        "1.  <a href=\"#item11\">Recap</a>\n",
        "2.  <a href=\"#item12\">Initalize a Network</a>  \n",
        "3.  <a href=\"#item13\">Compute Weighted Sum at Each Node</a>  \n",
        "4.  <a href=\"#item14\">Compute Node Activation</a>  \n",
        "5.  <a href=\"#item15\">Forward Propagation</a>\n",
        "\n",
        "</font>\n",
        "    \n",
        "</div>\n"
      ]
    },
    {
      "cell_type": "markdown",
      "metadata": {
        "button": false,
        "deletable": true,
        "new_sheet": false,
        "run_control": {
          "read_only": false
        },
        "id": "XsFnx0-x0MEe"
      },
      "source": [
        "\n"
      ]
    },
    {
      "cell_type": "markdown",
      "metadata": {
        "button": false,
        "deletable": true,
        "new_sheet": false,
        "run_control": {
          "read_only": false
        },
        "id": "cJRaxaWb0MEe"
      },
      "source": [
        "<a id=\"item1\"></a>\n"
      ]
    },
    {
      "cell_type": "markdown",
      "metadata": {
        "id": "ORSWdGsV0MEf"
      },
      "source": [
        "<a id='item11'></a>\n"
      ]
    },
    {
      "cell_type": "markdown",
      "metadata": {
        "button": false,
        "deletable": true,
        "new_sheet": false,
        "run_control": {
          "read_only": false
        },
        "id": "ZJR_9z0h0MEf"
      },
      "source": [
        "# Recap\n"
      ]
    },
    {
      "cell_type": "markdown",
      "metadata": {
        "button": false,
        "deletable": true,
        "new_sheet": false,
        "run_control": {
          "read_only": false
        },
        "id": "wueAkpNB0MEg"
      },
      "source": [
        "From the videos, let's recap how a neural network makes predictions through the forward propagation process. Here is a neural network that takes two inputs, has one hidden layer with two nodes, and an output layer with one node.\n"
      ]
    },
    {
      "cell_type": "markdown",
      "metadata": {
        "button": false,
        "deletable": true,
        "new_sheet": false,
        "run_control": {
          "read_only": false
        },
        "id": "8yCIY6d50MEg"
      },
      "source": [
        "\n"
      ]
    },
    {
      "cell_type": "markdown",
      "metadata": {
        "button": false,
        "deletable": true,
        "new_sheet": false,
        "run_control": {
          "read_only": false
        },
        "id": "4sFXoZ0P0MEg"
      },
      "source": [
        "<img src=\"http://cocl.us/neural_network_example\" alt=\"Neural Network Example\" width=600px>\n"
      ]
    },
    {
      "cell_type": "markdown",
      "metadata": {
        "button": false,
        "deletable": true,
        "new_sheet": false,
        "run_control": {
          "read_only": false
        },
        "id": "p_e7ORNQ0MEh"
      },
      "source": [
        "\n"
      ]
    },
    {
      "cell_type": "markdown",
      "metadata": {
        "button": false,
        "deletable": true,
        "new_sheet": false,
        "run_control": {
          "read_only": false
        },
        "id": "-SbP1pVK0MEh"
      },
      "source": [
        "Let's start by randomly initializing the weights and the biases in the network. We have 6 weights and 3 biases, one for each node in the hidden layer as well as for each node in the output layer.\n"
      ]
    },
    {
      "cell_type": "code",
      "metadata": {
        "button": false,
        "collapsed": true,
        "deletable": true,
        "jupyter": {
          "outputs_hidden": true
        },
        "new_sheet": false,
        "run_control": {
          "read_only": false
        },
        "id": "ArMmcWel0MEi"
      },
      "source": [
        "import numpy as np # import Numpy library to generate \n",
        "\n",
        "weights = np.around(np.random.uniform(size=6), decimals=2) # initialize the weights\n",
        "biases = np.around(np.random.uniform(size=3), decimals=2) # initialize the biases"
      ],
      "execution_count": 3,
      "outputs": []
    },
    {
      "cell_type": "markdown",
      "metadata": {
        "button": false,
        "deletable": true,
        "new_sheet": false,
        "run_control": {
          "read_only": false
        },
        "id": "-0NBGLVi0MEi"
      },
      "source": [
        "Let's print the weights and biases for sanity check.\n"
      ]
    },
    {
      "cell_type": "code",
      "metadata": {
        "button": false,
        "collapsed": true,
        "deletable": true,
        "jupyter": {
          "outputs_hidden": true
        },
        "new_sheet": false,
        "run_control": {
          "read_only": false
        },
        "colab": {
          "base_uri": "https://localhost:8080/"
        },
        "id": "9mSWJhCC0MEj",
        "outputId": "505a44cb-86d0-4f10-c561-e57ceed97dc7"
      },
      "source": [
        "print(weights)\n",
        "print(biases)"
      ],
      "execution_count": 4,
      "outputs": [
        {
          "output_type": "stream",
          "text": [
            "[0.52 0.56 0.62 0.01 0.26 0.8 ]\n",
            "[0.4  0.4  0.67]\n"
          ],
          "name": "stdout"
        }
      ]
    },
    {
      "cell_type": "markdown",
      "metadata": {
        "button": false,
        "deletable": true,
        "new_sheet": false,
        "run_control": {
          "read_only": false
        },
        "id": "FCPUZx8w0MEj"
      },
      "source": [
        "Now that we have the weights and the biases defined for the network, let's compute the output for a given input, $x_1$ and $x_2$.\n"
      ]
    },
    {
      "cell_type": "code",
      "metadata": {
        "button": false,
        "collapsed": true,
        "deletable": true,
        "jupyter": {
          "outputs_hidden": true
        },
        "new_sheet": false,
        "run_control": {
          "read_only": false
        },
        "colab": {
          "base_uri": "https://localhost:8080/"
        },
        "id": "kKWrNoTz0MEk",
        "outputId": "e52f1513-a23b-4356-a7f9-2a12d5d7ae7d"
      },
      "source": [
        "x_1 = 0.5 # input 1\n",
        "x_2 = 0.85 # input 2\n",
        "\n",
        "print('x1 is {} and x2 is {}'.format(x_1, x_2))"
      ],
      "execution_count": 5,
      "outputs": [
        {
          "output_type": "stream",
          "text": [
            "x1 is 0.5 and x2 is 0.85\n"
          ],
          "name": "stdout"
        }
      ]
    },
    {
      "cell_type": "markdown",
      "metadata": {
        "button": false,
        "deletable": true,
        "new_sheet": false,
        "run_control": {
          "read_only": false
        },
        "id": "JsqYe9S_0MEk"
      },
      "source": [
        "Let's start by computing the wighted sum of the inputs, $z\\_{1, 1}$, at the first node of the hidden layer.\n"
      ]
    },
    {
      "cell_type": "code",
      "metadata": {
        "button": false,
        "collapsed": true,
        "deletable": true,
        "jupyter": {
          "outputs_hidden": true
        },
        "new_sheet": false,
        "run_control": {
          "read_only": false
        },
        "colab": {
          "base_uri": "https://localhost:8080/"
        },
        "id": "H1j85OFU0MEl",
        "outputId": "f9b0a1af-02b6-4f23-dd91-30c64dc484c6"
      },
      "source": [
        "z_11 = x_1 * weights[0] + x_2 * weights[1] + biases[0]\n",
        "\n",
        "print('The weighted sum of the inputs at the first node in the hidden layer is {}'.format(z_11))"
      ],
      "execution_count": 6,
      "outputs": [
        {
          "output_type": "stream",
          "text": [
            "The weighted sum of the inputs at the first node in the hidden layer is 1.1360000000000001\n"
          ],
          "name": "stdout"
        }
      ]
    },
    {
      "cell_type": "markdown",
      "metadata": {
        "button": false,
        "deletable": true,
        "new_sheet": false,
        "run_control": {
          "read_only": false
        },
        "id": "iKscs5zf0MEl"
      },
      "source": [
        "Next, let's compute the weighted sum of the inputs, $z\\_{1, 2}$, at the second node of the hidden layer. Assign the value to **z_12**.\n"
      ]
    },
    {
      "cell_type": "code",
      "metadata": {
        "button": false,
        "collapsed": true,
        "deletable": true,
        "jupyter": {
          "outputs_hidden": true
        },
        "new_sheet": false,
        "run_control": {
          "read_only": false
        },
        "id": "yLFJeq8s0MEl"
      },
      "source": [
        "### type your answer here\n",
        "z_12 = x_1 * weights[2] + x_2 * weights[3] + biases[1]\n"
      ],
      "execution_count": 7,
      "outputs": []
    },
    {
      "cell_type": "markdown",
      "metadata": {
        "button": false,
        "deletable": true,
        "new_sheet": false,
        "run_control": {
          "read_only": false
        },
        "id": "QFiCaSFo0MEm"
      },
      "source": [
        "Double-click **here** for the solution.\n",
        "\n",
        "<!-- The correct answer is:\n",
        "z_12 = x_1 * weights[2] + x_2 * weights[3] + biases[1]\n",
        "-->\n"
      ]
    },
    {
      "cell_type": "markdown",
      "metadata": {
        "button": false,
        "deletable": true,
        "new_sheet": false,
        "run_control": {
          "read_only": false
        },
        "id": "drFXMa4G0MEm"
      },
      "source": [
        "Print the weighted sum.\n"
      ]
    },
    {
      "cell_type": "code",
      "metadata": {
        "button": false,
        "collapsed": true,
        "deletable": true,
        "jupyter": {
          "outputs_hidden": true
        },
        "new_sheet": false,
        "run_control": {
          "read_only": false
        },
        "colab": {
          "base_uri": "https://localhost:8080/"
        },
        "id": "o7K8045Q0MEm",
        "outputId": "4e555b08-8025-4b01-c16a-383a92081bc0"
      },
      "source": [
        "print('The weighted sum of the inputs at the second node in the hidden layer is {}'.format(np.around(z_12, decimals=4)))"
      ],
      "execution_count": 8,
      "outputs": [
        {
          "output_type": "stream",
          "text": [
            "The weighted sum of the inputs at the second node in the hidden layer is 0.7185\n"
          ],
          "name": "stdout"
        }
      ]
    },
    {
      "cell_type": "markdown",
      "metadata": {
        "button": false,
        "deletable": true,
        "new_sheet": false,
        "run_control": {
          "read_only": false
        },
        "id": "_y2WfK3Y0MEn"
      },
      "source": [
        "Next, assuming a sigmoid activation function, let's compute the activation of the first node, $a\\_{1, 1}$, in the hidden layer.\n"
      ]
    },
    {
      "cell_type": "code",
      "metadata": {
        "button": false,
        "collapsed": true,
        "deletable": true,
        "jupyter": {
          "outputs_hidden": true
        },
        "new_sheet": false,
        "run_control": {
          "read_only": false
        },
        "colab": {
          "base_uri": "https://localhost:8080/"
        },
        "id": "WUnWvtgi0MEn",
        "outputId": "c3455f59-10bb-4cd1-c105-e7f54b53050e"
      },
      "source": [
        "a_11 = 1.0 / (1.0 + np.exp(-z_11))\n",
        "\n",
        "print('The activation of the first node in the hidden layer is {}'.format(np.around(a_11, decimals=4)))"
      ],
      "execution_count": 9,
      "outputs": [
        {
          "output_type": "stream",
          "text": [
            "The activation of the first node in the hidden layer is 0.7569\n"
          ],
          "name": "stdout"
        }
      ]
    },
    {
      "cell_type": "markdown",
      "metadata": {
        "button": false,
        "deletable": true,
        "new_sheet": false,
        "run_control": {
          "read_only": false
        },
        "id": "JJRkYgXb0MEo"
      },
      "source": [
        "Let's also compute the activation of the second node, $a\\_{1, 2}$, in the hidden layer. Assign the value to **a_12**.\n"
      ]
    },
    {
      "cell_type": "code",
      "metadata": {
        "button": false,
        "collapsed": true,
        "deletable": true,
        "jupyter": {
          "outputs_hidden": true
        },
        "new_sheet": false,
        "run_control": {
          "read_only": false
        },
        "id": "QOPMgeqo0MEo"
      },
      "source": [
        "### type your answer here\n",
        "a_12 = 1.0 / (1.0 + np.exp(-z_12))\n"
      ],
      "execution_count": 10,
      "outputs": []
    },
    {
      "cell_type": "markdown",
      "metadata": {
        "button": false,
        "deletable": true,
        "new_sheet": false,
        "run_control": {
          "read_only": false
        },
        "id": "VSa-oqm30MEo"
      },
      "source": [
        "Double-click **here** for the solution.\n",
        "\n",
        "<!-- The correct answer is:\n",
        "a_12 = 1.0 / (1.0 + np.exp(-z_12))\n",
        "-->\n"
      ]
    },
    {
      "cell_type": "markdown",
      "metadata": {
        "button": false,
        "deletable": true,
        "new_sheet": false,
        "run_control": {
          "read_only": false
        },
        "id": "ydyx2Nrl0MEp"
      },
      "source": [
        "Print the activation of the second node.\n"
      ]
    },
    {
      "cell_type": "code",
      "metadata": {
        "button": false,
        "collapsed": true,
        "deletable": true,
        "jupyter": {
          "outputs_hidden": true
        },
        "new_sheet": false,
        "run_control": {
          "read_only": false
        },
        "colab": {
          "base_uri": "https://localhost:8080/"
        },
        "id": "R6brvcxt0MEp",
        "outputId": "27229f40-6bcc-428b-d552-7ddf609a15db"
      },
      "source": [
        "print('The activation of the second node in the hidden layer is {}'.format(np.around(a_12, decimals=4)))"
      ],
      "execution_count": 11,
      "outputs": [
        {
          "output_type": "stream",
          "text": [
            "The activation of the second node in the hidden layer is 0.6723\n"
          ],
          "name": "stdout"
        }
      ]
    },
    {
      "cell_type": "markdown",
      "metadata": {
        "button": false,
        "deletable": true,
        "new_sheet": false,
        "run_control": {
          "read_only": false
        },
        "id": "2GkQlE510MEp"
      },
      "source": [
        "Now these activations will serve as the inputs to the output layer. So, let's compute the weighted sum of these inputs to the node in the output layer. Assign the value to **z_2**.\n"
      ]
    },
    {
      "cell_type": "code",
      "metadata": {
        "button": false,
        "collapsed": true,
        "deletable": true,
        "jupyter": {
          "outputs_hidden": true
        },
        "new_sheet": false,
        "run_control": {
          "read_only": false
        },
        "id": "kiqnk2nQ0MEq"
      },
      "source": [
        "### type your answer here\n",
        "z_2 = a_11 * weights[4] + a_12 * weights[5] + biases[2]\n"
      ],
      "execution_count": 14,
      "outputs": []
    },
    {
      "cell_type": "markdown",
      "metadata": {
        "button": false,
        "deletable": true,
        "new_sheet": false,
        "run_control": {
          "read_only": false
        },
        "id": "5wwS3LaE0MEq"
      },
      "source": [
        "Double-click **here** for the solution.\n",
        "\n",
        "<!-- The correct answer is:\n",
        "z_2 = a_11 * weights[4] + a_12 * weights[5] + biases[2]\n",
        "-->\n"
      ]
    },
    {
      "cell_type": "markdown",
      "metadata": {
        "button": false,
        "deletable": true,
        "new_sheet": false,
        "run_control": {
          "read_only": false
        },
        "id": "uzu3yr1i0MEq"
      },
      "source": [
        "Print the weighted sum of the inputs at the node in the output layer.\n"
      ]
    },
    {
      "cell_type": "code",
      "metadata": {
        "button": false,
        "collapsed": true,
        "deletable": true,
        "jupyter": {
          "outputs_hidden": true
        },
        "new_sheet": false,
        "run_control": {
          "read_only": false
        },
        "colab": {
          "base_uri": "https://localhost:8080/"
        },
        "id": "vXUA3X4i0MEr",
        "outputId": "94b26426-6f1f-4635-e2fe-1b906bb90467"
      },
      "source": [
        "print('The weighted sum of the inputs at the node in the output layer is {}'.format(np.around(z_2, decimals=4)))"
      ],
      "execution_count": 15,
      "outputs": [
        {
          "output_type": "stream",
          "text": [
            "The weighted sum of the inputs at the node in the output layer is 1.4046\n"
          ],
          "name": "stdout"
        }
      ]
    },
    {
      "cell_type": "markdown",
      "metadata": {
        "button": false,
        "deletable": true,
        "new_sheet": false,
        "run_control": {
          "read_only": false
        },
        "id": "TyKr4g5q0MEr"
      },
      "source": [
        "Finally, let's compute the output of the network as the activation of the node in the output layer. Assign the value to **a_2**.\n"
      ]
    },
    {
      "cell_type": "code",
      "metadata": {
        "button": false,
        "collapsed": true,
        "deletable": true,
        "jupyter": {
          "outputs_hidden": true
        },
        "new_sheet": false,
        "run_control": {
          "read_only": false
        },
        "id": "cs6aS8X40MEs"
      },
      "source": [
        "### type your answer here\n",
        "\n",
        "a_2 = 1.0 / (1.0 + np.exp(-z_2))"
      ],
      "execution_count": 16,
      "outputs": []
    },
    {
      "cell_type": "markdown",
      "metadata": {
        "button": false,
        "deletable": true,
        "new_sheet": false,
        "run_control": {
          "read_only": false
        },
        "id": "jL-ag5Ae0MEs"
      },
      "source": [
        "Double-click **here** for the solution.\n",
        "\n",
        "<!-- The correct answer is:\n",
        "a_2 = 1.0 / (1.0 + np.exp(-z_2))\n",
        "-->\n"
      ]
    },
    {
      "cell_type": "markdown",
      "metadata": {
        "button": false,
        "deletable": true,
        "new_sheet": false,
        "run_control": {
          "read_only": false
        },
        "id": "IMUZ-v0y0MEs"
      },
      "source": [
        "Print the activation of the node in the output layer which is equivalent to the prediction made by the network.\n"
      ]
    },
    {
      "cell_type": "code",
      "metadata": {
        "button": false,
        "collapsed": true,
        "deletable": true,
        "jupyter": {
          "outputs_hidden": true
        },
        "new_sheet": false,
        "run_control": {
          "read_only": false
        },
        "colab": {
          "base_uri": "https://localhost:8080/"
        },
        "id": "vi4hopEV0MEt",
        "outputId": "d38d089b-f118-4b5b-c63e-84cc5624d616"
      },
      "source": [
        "print('The output of the network for x1 = 0.5 and x2 = 0.85 is {}'.format(np.around(a_2, decimals=4)))"
      ],
      "execution_count": 17,
      "outputs": [
        {
          "output_type": "stream",
          "text": [
            "The output of the network for x1 = 0.5 and x2 = 0.85 is 0.8029\n"
          ],
          "name": "stdout"
        }
      ]
    },
    {
      "cell_type": "markdown",
      "metadata": {
        "button": false,
        "deletable": true,
        "new_sheet": false,
        "run_control": {
          "read_only": false
        },
        "id": "Mq4eymYB0MEt"
      },
      "source": [
        "<hr>\n"
      ]
    },
    {
      "cell_type": "markdown",
      "metadata": {
        "button": false,
        "deletable": true,
        "new_sheet": false,
        "run_control": {
          "read_only": false
        },
        "id": "hiIxUqXA0MEt"
      },
      "source": [
        "Obviously, neural networks for real problems are composed of many hidden layers and many more nodes in each layer. So, we can't continue making predictions using this very inefficient approach of computing the weighted sum at each node and the activation of each node manually. \n"
      ]
    },
    {
      "cell_type": "markdown",
      "metadata": {
        "button": false,
        "deletable": true,
        "new_sheet": false,
        "run_control": {
          "read_only": false
        },
        "id": "5W5Bj7aw0MEu"
      },
      "source": [
        "In order to code an automatic way of making predictions, let's generalize our network. A general network would take $n$ inputs, would have many hidden layers, each hidden layer having $m$ nodes, and would have an output layer. Although the network is showing one hidden layer, but we will code the network to have many hidden layers. Similarly, although the network shows an output layer with one node, we will code the network to have more than one node in the output layer.\n"
      ]
    },
    {
      "cell_type": "markdown",
      "metadata": {
        "button": false,
        "deletable": true,
        "new_sheet": false,
        "run_control": {
          "read_only": false
        },
        "id": "yD4n_tz40MEu"
      },
      "source": [
        "<img src=\"http://cocl.us/general_neural_network\" alt=\"Neural Network General\" width=600px>\n"
      ]
    },
    {
      "cell_type": "markdown",
      "metadata": {
        "button": false,
        "deletable": true,
        "new_sheet": false,
        "run_control": {
          "read_only": false
        },
        "id": "7RyvrXPV0MEv"
      },
      "source": [
        "\n"
      ]
    },
    {
      "cell_type": "markdown",
      "metadata": {
        "button": false,
        "deletable": true,
        "new_sheet": false,
        "run_control": {
          "read_only": false
        },
        "id": "0DpG8gVL0MEv"
      },
      "source": [
        "<a id=\"item2\"></a>\n"
      ]
    },
    {
      "cell_type": "markdown",
      "metadata": {
        "id": "0dm9A7pi0MEv"
      },
      "source": [
        "<a id='item12'></a>\n"
      ]
    },
    {
      "cell_type": "markdown",
      "metadata": {
        "button": false,
        "deletable": true,
        "new_sheet": false,
        "run_control": {
          "read_only": false
        },
        "id": "WgkKiQYi0MEv"
      },
      "source": [
        "## Initialize a Network\n"
      ]
    },
    {
      "cell_type": "markdown",
      "metadata": {
        "button": false,
        "deletable": true,
        "new_sheet": false,
        "run_control": {
          "read_only": false
        },
        "id": "M-zIAJkT0MEw"
      },
      "source": [
        "Let's start by formally defining the structure of the network.\n"
      ]
    },
    {
      "cell_type": "code",
      "metadata": {
        "button": false,
        "collapsed": true,
        "deletable": true,
        "jupyter": {
          "outputs_hidden": true
        },
        "new_sheet": false,
        "run_control": {
          "read_only": false
        },
        "id": "RjusgBJU0MEw"
      },
      "source": [
        "n = 2 # number of inputs\n",
        "num_hidden_layers = 2 # number of hidden layers\n",
        "m = [2, 2] # number of nodes in each hidden layer\n",
        "num_nodes_output = 1 # number of nodes in the output layer"
      ],
      "execution_count": 18,
      "outputs": []
    },
    {
      "cell_type": "markdown",
      "metadata": {
        "button": false,
        "deletable": true,
        "new_sheet": false,
        "run_control": {
          "read_only": false
        },
        "id": "0XN5TCuq0MEw"
      },
      "source": [
        "Now that we defined the structure of the network, let's go ahead and inititailize the weights and the biases in the network to random numbers. In order to be able to initialize the weights and the biases to random numbers, we will need to import the **Numpy** library.\n"
      ]
    },
    {
      "cell_type": "code",
      "metadata": {
        "button": false,
        "collapsed": true,
        "deletable": true,
        "jupyter": {
          "outputs_hidden": true
        },
        "new_sheet": false,
        "run_control": {
          "read_only": false
        },
        "colab": {
          "base_uri": "https://localhost:8080/"
        },
        "id": "kXtX4xvK0MEx",
        "outputId": "90ecd9f7-d02e-4350-a33e-ea6241a14da7"
      },
      "source": [
        "import numpy as np # import the Numpy library\n",
        "\n",
        "num_nodes_previous = n # number of nodes in the previous layer\n",
        "\n",
        "network = {} # initialize network an an empty dictionary\n",
        "\n",
        "# loop through each layer and randomly initialize the weights and biases associated with each node\n",
        "# notice how we are adding 1 to the number of hidden layers in order to include the output layer\n",
        "for layer in range(num_hidden_layers + 1): \n",
        "    \n",
        "    # determine name of layer\n",
        "    if layer == num_hidden_layers:\n",
        "        layer_name = 'output'\n",
        "        num_nodes = num_nodes_output\n",
        "    else:\n",
        "        layer_name = 'layer_{}'.format(layer + 1)\n",
        "        num_nodes = m[layer]\n",
        "    \n",
        "    # initialize weights and biases associated with each node in the current layer\n",
        "    network[layer_name] = {}\n",
        "    for node in range(num_nodes):\n",
        "        node_name = 'node_{}'.format(node+1)\n",
        "        network[layer_name][node_name] = {\n",
        "            'weights': np.around(np.random.uniform(size=num_nodes_previous), decimals=2),\n",
        "            'bias': np.around(np.random.uniform(size=1), decimals=2),\n",
        "        }\n",
        "    \n",
        "    num_nodes_previous = num_nodes\n",
        "    \n",
        "print(network) # print network"
      ],
      "execution_count": 19,
      "outputs": [
        {
          "output_type": "stream",
          "text": [
            "{'layer_1': {'node_1': {'weights': array([0.82, 0.26]), 'bias': array([0.53])}, 'node_2': {'weights': array([0.67, 0.69]), 'bias': array([0.43])}}, 'layer_2': {'node_1': {'weights': array([0.58, 0.34]), 'bias': array([0.18])}, 'node_2': {'weights': array([0.11, 0.72]), 'bias': array([0.98])}}, 'output': {'node_1': {'weights': array([0.31, 0.44]), 'bias': array([0.68])}}}\n"
          ],
          "name": "stdout"
        }
      ]
    },
    {
      "cell_type": "markdown",
      "metadata": {
        "button": false,
        "deletable": true,
        "new_sheet": false,
        "run_control": {
          "read_only": false
        },
        "id": "gAi1LIGY0MEy"
      },
      "source": [
        "Awesome! So now with the above code, we are able to initialize the weights and the biases pertaining to any network of any number of hidden layers and number of nodes in each layer. But let's put this code in a function so that we are able to repetitively execute all this code whenever we want to construct a neural network.\n"
      ]
    },
    {
      "cell_type": "code",
      "metadata": {
        "button": false,
        "collapsed": true,
        "deletable": true,
        "jupyter": {
          "outputs_hidden": true
        },
        "new_sheet": false,
        "run_control": {
          "read_only": false
        },
        "id": "bRjtSUZ20MEy"
      },
      "source": [
        "def initialize_network(num_inputs, num_hidden_layers, num_nodes_hidden, num_nodes_output):\n",
        "    \n",
        "    num_nodes_previous = num_inputs # number of nodes in the previous layer\n",
        "\n",
        "    network = {}\n",
        "    \n",
        "    # loop through each layer and randomly initialize the weights and biases associated with each layer\n",
        "    for layer in range(num_hidden_layers + 1):\n",
        "        \n",
        "        if layer == num_hidden_layers:\n",
        "            layer_name = 'output' # name last layer in the network output\n",
        "            num_nodes = num_nodes_output\n",
        "        else:\n",
        "            layer_name = 'layer_{}'.format(layer + 1) # otherwise give the layer a number\n",
        "            num_nodes = num_nodes_hidden[layer] \n",
        "        \n",
        "        # initialize weights and bias for each node\n",
        "        network[layer_name] = {}\n",
        "        for node in range(num_nodes):\n",
        "            node_name = 'node_{}'.format(node+1)\n",
        "            network[layer_name][node_name] = {\n",
        "                'weights': np.around(np.random.uniform(size=num_nodes_previous), decimals=2),\n",
        "                'bias': np.around(np.random.uniform(size=1), decimals=2),\n",
        "            }\n",
        "    \n",
        "        num_nodes_previous = num_nodes\n",
        "\n",
        "    return network # return the network"
      ],
      "execution_count": 20,
      "outputs": []
    },
    {
      "cell_type": "markdown",
      "metadata": {
        "button": false,
        "deletable": true,
        "new_sheet": false,
        "run_control": {
          "read_only": false
        },
        "id": "J9l7LJfD0MEz"
      },
      "source": [
        "#### Use the _initialize_network_ function to create a network that:\n",
        "\n",
        "1.  takes 5 inputs\n",
        "2.  has three hidden layers\n",
        "3.  has 3 nodes in the first layer, 2 nodes in the second layer, and 3 nodes in the third layer\n",
        "4.  has 1 node in the output layer\n",
        "\n",
        "Call the network **small_network**.\n"
      ]
    },
    {
      "cell_type": "code",
      "metadata": {
        "id": "9H30kJoE96xy"
      },
      "source": [
        "small_network = initialize_network(5,3,[3,2,3],1)"
      ],
      "execution_count": 21,
      "outputs": []
    },
    {
      "cell_type": "code",
      "metadata": {
        "button": false,
        "collapsed": true,
        "deletable": true,
        "jupyter": {
          "outputs_hidden": true
        },
        "new_sheet": false,
        "run_control": {
          "read_only": false
        },
        "id": "6G2AH3Cf0ME0"
      },
      "source": [
        "### type your answer here\n",
        "\n"
      ],
      "execution_count": null,
      "outputs": []
    },
    {
      "cell_type": "markdown",
      "metadata": {
        "button": false,
        "deletable": true,
        "new_sheet": false,
        "run_control": {
          "read_only": false
        },
        "id": "WaL6-N5V0ME0"
      },
      "source": [
        "Double-click **here** for the solution.\n",
        "\n",
        "<!-- The correct answer is:\n",
        "small_network = initialize_network(5, 3, [3, 2, 3], 1)\n",
        "-->\n"
      ]
    },
    {
      "cell_type": "markdown",
      "metadata": {
        "button": false,
        "deletable": true,
        "new_sheet": false,
        "run_control": {
          "read_only": false
        },
        "id": "w3DWFbcO0ME0"
      },
      "source": [
        "\n"
      ]
    },
    {
      "cell_type": "markdown",
      "metadata": {
        "button": false,
        "deletable": true,
        "new_sheet": false,
        "run_control": {
          "read_only": false
        },
        "id": "XnTqoPKV0ME1"
      },
      "source": [
        "<a id=\"item3\"></a>\n"
      ]
    },
    {
      "cell_type": "markdown",
      "metadata": {
        "id": "6jLh0t9S0ME1"
      },
      "source": [
        "<a id='item13'></a>\n"
      ]
    },
    {
      "cell_type": "markdown",
      "metadata": {
        "button": false,
        "deletable": true,
        "new_sheet": false,
        "run_control": {
          "read_only": false
        },
        "id": "dOMwTUHu0ME1"
      },
      "source": [
        "## Compute Weighted Sum at Each Node\n"
      ]
    },
    {
      "cell_type": "markdown",
      "metadata": {
        "button": false,
        "deletable": true,
        "new_sheet": false,
        "run_control": {
          "read_only": false
        },
        "id": "2KG8uX9Y0ME1"
      },
      "source": [
        "The weighted sum at each node is computed as the dot product of the inputs and the weights plus the bias. So let's create a function called _compute_weighted_sum_ that does just that.\n"
      ]
    },
    {
      "cell_type": "code",
      "metadata": {
        "button": false,
        "collapsed": true,
        "deletable": true,
        "jupyter": {
          "outputs_hidden": true
        },
        "new_sheet": false,
        "run_control": {
          "read_only": false
        },
        "id": "evDI724q0ME2"
      },
      "source": [
        "def compute_weighted_sum(inputs, weights, bias):\n",
        "    return np.sum(inputs * weights) + bias"
      ],
      "execution_count": 22,
      "outputs": []
    },
    {
      "cell_type": "markdown",
      "metadata": {
        "button": false,
        "deletable": true,
        "new_sheet": false,
        "run_control": {
          "read_only": false
        },
        "id": "9sMB6jLt0ME3"
      },
      "source": [
        "Let's generate 5 inputs that we can feed to **small_network**.\n"
      ]
    },
    {
      "cell_type": "code",
      "metadata": {
        "button": false,
        "collapsed": true,
        "deletable": true,
        "jupyter": {
          "outputs_hidden": true
        },
        "new_sheet": false,
        "run_control": {
          "read_only": false
        },
        "colab": {
          "base_uri": "https://localhost:8080/"
        },
        "id": "rEHm4EMc0ME3",
        "outputId": "337c9214-de99-4d3c-91f5-cd67a5088d9e"
      },
      "source": [
        "from random import seed\n",
        "import numpy as np\n",
        "\n",
        "np.random.seed(12)\n",
        "inputs = np.around(np.random.uniform(size=5), decimals=2)\n",
        "\n",
        "print('The inputs to the network are {}'.format(inputs))"
      ],
      "execution_count": 23,
      "outputs": [
        {
          "output_type": "stream",
          "text": [
            "The inputs to the network are [0.15 0.74 0.26 0.53 0.01]\n"
          ],
          "name": "stdout"
        }
      ]
    },
    {
      "cell_type": "markdown",
      "metadata": {
        "button": false,
        "deletable": true,
        "new_sheet": false,
        "run_control": {
          "read_only": false
        },
        "id": "9t4JNnU-0ME3"
      },
      "source": [
        "#### Use the _compute_weighted_sum_ function to compute the weighted sum at the first node in the first hidden layer.\n"
      ]
    },
    {
      "cell_type": "code",
      "metadata": {
        "button": false,
        "collapsed": true,
        "deletable": true,
        "jupyter": {
          "outputs_hidden": true
        },
        "new_sheet": false,
        "run_control": {
          "read_only": false
        },
        "id": "g5ST-9I10ME4"
      },
      "source": [
        "### type your answer here\n",
        "weights = small_network[\"layer_1\"][\"node_1\"][\"weights\"]\n",
        "bias = small_network[\"layer_1\"][\"node_1\"][\"bias\"]\n",
        "weighted_sum = compute_weighted_sum(inputs, weights, bias)\n",
        "\n",
        "\n"
      ],
      "execution_count": 27,
      "outputs": []
    },
    {
      "cell_type": "markdown",
      "metadata": {
        "button": false,
        "deletable": true,
        "new_sheet": false,
        "run_control": {
          "read_only": false
        },
        "id": "I9KdrEp00ME4"
      },
      "source": [
        "Double-click **here** for the solution.\n",
        "\n",
        "<!-- The correct answer is:\n",
        "node_weights = small_network['layer_1']['node_1']['weights']\n",
        "node_bias = small_network['layer_1']['node_1']['bias']\n",
        "\n",
        "weighted_sum = compute_weighted_sum(inputs, node_weights, node_bias)\n",
        "print('The weighted sum at the first node in the hidden layer is {}'.format(np.around(weighted_sum[0], decimals=4)))\n",
        "-->\n"
      ]
    },
    {
      "cell_type": "markdown",
      "metadata": {
        "button": false,
        "deletable": true,
        "new_sheet": false,
        "run_control": {
          "read_only": false
        },
        "id": "reIUUXc00ME4"
      },
      "source": [
        "\n"
      ]
    },
    {
      "cell_type": "markdown",
      "metadata": {
        "button": false,
        "deletable": true,
        "new_sheet": false,
        "run_control": {
          "read_only": false
        },
        "id": "HjBzM2Io0ME4"
      },
      "source": [
        "<a id=\"item4\"></a>\n"
      ]
    },
    {
      "cell_type": "markdown",
      "metadata": {
        "id": "hR9xQWBz0ME5"
      },
      "source": [
        "<a id='item14'></a>\n"
      ]
    },
    {
      "cell_type": "markdown",
      "metadata": {
        "button": false,
        "deletable": true,
        "new_sheet": false,
        "run_control": {
          "read_only": false
        },
        "id": "NMXlknaZ0ME5"
      },
      "source": [
        "## Compute Node Activation\n"
      ]
    },
    {
      "cell_type": "markdown",
      "metadata": {
        "button": false,
        "deletable": true,
        "new_sheet": false,
        "run_control": {
          "read_only": false
        },
        "id": "J13_aOVD0ME5"
      },
      "source": [
        "Recall that the output of each node is simply a non-linear tranformation of the weighted sum. We use activation functions for this mapping. Let's use the sigmoid function as the activation function here. So let's define a function that takes a weighted sum as input and returns the non-linear transformation of the input using the sigmoid function.\n"
      ]
    },
    {
      "cell_type": "code",
      "metadata": {
        "button": false,
        "collapsed": true,
        "deletable": true,
        "jupyter": {
          "outputs_hidden": true
        },
        "new_sheet": false,
        "run_control": {
          "read_only": false
        },
        "id": "FbiKkHm60ME5"
      },
      "source": [
        "def node_activation(weighted_sum):\n",
        "    return 1.0 / (1.0 + np.exp(-1 * weighted_sum))"
      ],
      "execution_count": 25,
      "outputs": []
    },
    {
      "cell_type": "markdown",
      "metadata": {
        "button": false,
        "deletable": true,
        "new_sheet": false,
        "run_control": {
          "read_only": false
        },
        "id": "NDW_umA10ME6"
      },
      "source": [
        "#### Use the _node_activation_ function to compute the output of the first node in the first hidden layer.\n"
      ]
    },
    {
      "cell_type": "code",
      "metadata": {
        "button": false,
        "collapsed": true,
        "deletable": true,
        "jupyter": {
          "outputs_hidden": true
        },
        "new_sheet": false,
        "run_control": {
          "read_only": false
        },
        "colab": {
          "base_uri": "https://localhost:8080/"
        },
        "id": "17sF_zrx0ME6",
        "outputId": "01a76517-4d52-4027-8120-cd2715d783ba"
      },
      "source": [
        "### type your answer here\n",
        "na = node_activation(weighted_sum[0])\n",
        "print(na)\n",
        "\n"
      ],
      "execution_count": 28,
      "outputs": [
        {
          "output_type": "stream",
          "text": [
            "0.8452864210499051\n"
          ],
          "name": "stdout"
        }
      ]
    },
    {
      "cell_type": "markdown",
      "metadata": {
        "button": false,
        "deletable": true,
        "new_sheet": false,
        "run_control": {
          "read_only": false
        },
        "id": "MJ08OSNI0ME6"
      },
      "source": [
        "Double-click **here** for the solution.\n",
        "\n",
        "<!-- The correct answer is:\n",
        "node_output  = node_activation(compute_weighted_sum(inputs, node_weights, node_bias))\n",
        "print('The output of the first node in the hidden layer is {}'.format(np.around(node_output[0], decimals=4)))\n",
        "-->\n"
      ]
    },
    {
      "cell_type": "markdown",
      "metadata": {
        "button": false,
        "deletable": true,
        "new_sheet": false,
        "run_control": {
          "read_only": false
        },
        "id": "hrfvsKx_0ME6"
      },
      "source": [
        "\n"
      ]
    },
    {
      "cell_type": "markdown",
      "metadata": {
        "button": false,
        "deletable": true,
        "new_sheet": false,
        "run_control": {
          "read_only": false
        },
        "id": "IGPHusJb0ME7"
      },
      "source": [
        "<a id=\"item5\"></a>\n"
      ]
    },
    {
      "cell_type": "markdown",
      "metadata": {
        "id": "ABRzum1c0ME7"
      },
      "source": [
        "<a id='item15'></a>\n"
      ]
    },
    {
      "cell_type": "markdown",
      "metadata": {
        "button": false,
        "deletable": true,
        "new_sheet": false,
        "run_control": {
          "read_only": false
        },
        "id": "jS9Hl5FY0ME7"
      },
      "source": [
        "## Forward Propagation\n"
      ]
    },
    {
      "cell_type": "markdown",
      "metadata": {
        "button": false,
        "deletable": true,
        "new_sheet": false,
        "run_control": {
          "read_only": false
        },
        "id": "z8XEP-Sw0ME7"
      },
      "source": [
        "The final piece of building a neural network that can perform predictions is to put everything together. So let's create a function that applies the _compute_weighted_sum_ and _node_activation_ functions to each node in the network and propagates the data all the way to the output layer and outputs a prediction for each node in the output layer.\n"
      ]
    },
    {
      "cell_type": "markdown",
      "metadata": {
        "button": false,
        "deletable": true,
        "new_sheet": false,
        "run_control": {
          "read_only": false
        },
        "id": "96Scb-_k0ME8"
      },
      "source": [
        "The way we are going to accomplish this is through the following procedure:\n",
        "\n",
        "1.  Start with the input layer as the input to the first hidden layer.\n",
        "2.  Compute the weighted sum at the nodes of the current layer.\n",
        "3.  Compute the output of the nodes of the current layer.\n",
        "4.  Set the output of the current layer to be the input to the next layer.\n",
        "5.  Move to the next layer in the network.\n",
        "6.  Repeat steps 2 - 4 until we compute the output of the output layer.\n"
      ]
    },
    {
      "cell_type": "code",
      "metadata": {
        "button": false,
        "collapsed": true,
        "deletable": true,
        "jupyter": {
          "outputs_hidden": true
        },
        "new_sheet": false,
        "run_control": {
          "read_only": false
        },
        "id": "S6QBHpdI0ME8"
      },
      "source": [
        "def forward_propagate(network, inputs):\n",
        "    \n",
        "    layer_inputs = list(inputs) # start with the input layer as the input to the first hidden layer\n",
        "    \n",
        "    for layer in network:\n",
        "        \n",
        "        layer_data = network[layer]\n",
        "        \n",
        "        layer_outputs = [] \n",
        "        for layer_node in layer_data:\n",
        "        \n",
        "            node_data = layer_data[layer_node]\n",
        "        \n",
        "            # compute the weighted sum and the output of each node at the same time \n",
        "            node_output = node_activation(compute_weighted_sum(layer_inputs, node_data['weights'], node_data['bias']))\n",
        "            layer_outputs.append(np.around(node_output[0], decimals=4))\n",
        "            \n",
        "        if layer != 'output':\n",
        "            print('The outputs of the nodes in hidden layer number {} is {}'.format(layer.split('_')[1], layer_outputs))\n",
        "    \n",
        "        layer_inputs = layer_outputs # set the output of this layer to be the input to next layer\n",
        "\n",
        "    network_predictions = layer_outputs\n",
        "    return network_predictions"
      ],
      "execution_count": 29,
      "outputs": []
    },
    {
      "cell_type": "markdown",
      "metadata": {
        "button": false,
        "deletable": true,
        "new_sheet": false,
        "run_control": {
          "read_only": false
        },
        "id": "Xp-n0P2Q0ME8"
      },
      "source": [
        "#### Use the _forward_propagate_ function to compute the prediction of our small network\n"
      ]
    },
    {
      "cell_type": "code",
      "metadata": {
        "button": false,
        "collapsed": true,
        "deletable": true,
        "jupyter": {
          "outputs_hidden": true
        },
        "new_sheet": false,
        "run_control": {
          "read_only": false
        },
        "colab": {
          "base_uri": "https://localhost:8080/"
        },
        "id": "2BTPAFPt0ME9",
        "outputId": "d6879e48-6f03-431c-eb9b-40ce519790aa"
      },
      "source": [
        "### type your answser here\n",
        "\n",
        "predictions = forward_propagate(small_network, inputs)\n",
        "print('The predicted value by the network for the given input is {}'.format(np.around(predictions[0], decimals=4)))\n"
      ],
      "execution_count": 31,
      "outputs": [
        {
          "output_type": "stream",
          "text": [
            "The outputs of the nodes in hidden layer number 1 is [0.8453, 0.828, 0.7811]\n",
            "The outputs of the nodes in hidden layer number 2 is [0.8688, 0.9307]\n",
            "The outputs of the nodes in hidden layer number 3 is [0.8124, 0.8784, 0.7019]\n",
            "The predicted value by the network for the given input is 0.8001\n"
          ],
          "name": "stdout"
        }
      ]
    },
    {
      "cell_type": "markdown",
      "metadata": {
        "button": false,
        "deletable": true,
        "new_sheet": false,
        "run_control": {
          "read_only": false
        },
        "id": "2aG1zZaW0ME9"
      },
      "source": [
        "Double-click **here** for the solution.\n",
        "\n",
        "<!-- The correct answer is:\n",
        "predictions = forward_propagate(small_network, inputs)\n",
        "print('The predicted value by the network for the given input is {}'.format(np.around(predictions[0], decimals=4)))\n",
        "-->\n"
      ]
    },
    {
      "cell_type": "markdown",
      "metadata": {
        "button": false,
        "deletable": true,
        "new_sheet": false,
        "run_control": {
          "read_only": false
        },
        "id": "E8b9kMj20ME9"
      },
      "source": [
        "So we built the code to define a neural network. We can specify the number of inputs that a neural network can take, the number of hidden layers as well as the number of nodes in each hidden layer, and the number of nodes in the output layer.\n"
      ]
    },
    {
      "cell_type": "markdown",
      "metadata": {
        "button": false,
        "deletable": true,
        "new_sheet": false,
        "run_control": {
          "read_only": false
        },
        "id": "yaS1ogRC0ME9"
      },
      "source": [
        "We first use the _initialize_network_ to create our neural network and define its weights and biases.\n"
      ]
    },
    {
      "cell_type": "code",
      "metadata": {
        "button": false,
        "collapsed": true,
        "deletable": true,
        "jupyter": {
          "outputs_hidden": true
        },
        "new_sheet": false,
        "run_control": {
          "read_only": false
        },
        "id": "PF-UM5ax0ME-"
      },
      "source": [
        "my_network = initialize_network(5, 3, [2, 3, 2], 3)"
      ],
      "execution_count": 32,
      "outputs": []
    },
    {
      "cell_type": "markdown",
      "metadata": {
        "button": false,
        "deletable": true,
        "new_sheet": false,
        "run_control": {
          "read_only": false
        },
        "id": "y2sKne-V0ME-"
      },
      "source": [
        "Then, for a given input,\n"
      ]
    },
    {
      "cell_type": "code",
      "metadata": {
        "button": false,
        "collapsed": true,
        "deletable": true,
        "jupyter": {
          "outputs_hidden": true
        },
        "new_sheet": false,
        "run_control": {
          "read_only": false
        },
        "id": "fOgMSQWP0ME-"
      },
      "source": [
        "inputs = np.around(np.random.uniform(size=5), decimals=2)"
      ],
      "execution_count": 33,
      "outputs": []
    },
    {
      "cell_type": "markdown",
      "metadata": {
        "button": false,
        "deletable": true,
        "new_sheet": false,
        "run_control": {
          "read_only": false
        },
        "id": "IPbwnDCs0ME_"
      },
      "source": [
        "we compute the network predictions.\n"
      ]
    },
    {
      "cell_type": "code",
      "metadata": {
        "button": false,
        "collapsed": true,
        "deletable": true,
        "jupyter": {
          "outputs_hidden": true
        },
        "new_sheet": false,
        "run_control": {
          "read_only": false
        },
        "colab": {
          "base_uri": "https://localhost:8080/"
        },
        "id": "1CpfUYcD0ME_",
        "outputId": "615d4fbc-b593-4fc1-f4e1-8ff2fde5b1b1"
      },
      "source": [
        "predictions = forward_propagate(my_network, inputs)\n",
        "print('The predicted values by the network for the given input are {}'.format(predictions))"
      ],
      "execution_count": 34,
      "outputs": [
        {
          "output_type": "stream",
          "text": [
            "The outputs of the nodes in hidden layer number 1 is [0.8857, 0.8889]\n",
            "The outputs of the nodes in hidden layer number 2 is [0.7822, 0.6965, 0.7411]\n",
            "The outputs of the nodes in hidden layer number 3 is [0.868, 0.881]\n",
            "The predicted values by the network for the given input are [0.8952, 0.8222, 0.8035]\n"
          ],
          "name": "stdout"
        }
      ]
    },
    {
      "cell_type": "markdown",
      "metadata": {
        "button": false,
        "deletable": true,
        "new_sheet": false,
        "run_control": {
          "read_only": false
        },
        "id": "99Mf0nly0ME_"
      },
      "source": [
        "Feel free to play around with the code by creating different networks of different structures and enjoy making predictions using the _forward_propagate_ function.\n"
      ]
    },
    {
      "cell_type": "code",
      "metadata": {
        "button": false,
        "collapsed": true,
        "deletable": true,
        "jupyter": {
          "outputs_hidden": true
        },
        "new_sheet": false,
        "run_control": {
          "read_only": false
        },
        "id": "OF6toIwH0ME_"
      },
      "source": [
        "### create a network\n",
        "\n",
        "\n",
        "\n"
      ],
      "execution_count": null,
      "outputs": []
    },
    {
      "cell_type": "code",
      "metadata": {
        "button": false,
        "collapsed": true,
        "deletable": true,
        "jupyter": {
          "outputs_hidden": true
        },
        "new_sheet": false,
        "run_control": {
          "read_only": false
        },
        "id": "c1bWyZuh0MFA"
      },
      "source": [
        "### create another network\n",
        "\n",
        "\n",
        "\n"
      ],
      "execution_count": null,
      "outputs": []
    },
    {
      "cell_type": "markdown",
      "metadata": {
        "button": false,
        "deletable": true,
        "new_sheet": false,
        "run_control": {
          "read_only": false
        },
        "id": "fYrl61Ku0MFA"
      },
      "source": [
        "### Thank you for completing this lab!\n",
        "\n",
        "This notebook was created by [Alex Aklson](https://www.linkedin.com/in/aklson?cm_mmc=Email_Newsletter-_-Developer_Ed%2BTech-_-WW_WW-_-SkillsNetwork-Courses-IBMDeveloperSkillsNetwork-DL0101EN-SkillsNetwork-20718188&cm_mmca1=000026UJ&cm_mmca2=10006555&cm_mmca3=M12345678&cvosrc=email.Newsletter.M12345678&cvo_campaign=000026UJ&cm_mmc=Email_Newsletter-_-Developer_Ed%2BTech-_-WW_WW-_-SkillsNetwork-Courses-IBMDeveloperSkillsNetwork-DL0101EN-SkillsNetwork-20718188&cm_mmca1=000026UJ&cm_mmca2=10006555&cm_mmca3=M12345678&cvosrc=email.Newsletter.M12345678&cvo_campaign=000026UJ). I hope you found this lab interesting and educational. Feel free to contact me if you have any questions!\n"
      ]
    },
    {
      "cell_type": "markdown",
      "metadata": {
        "id": "Jhp1QJmk0MFA"
      },
      "source": [
        "## Change Log\n",
        "\n",
        "| Date (YYYY-MM-DD) | Version | Changed By | Change Description                                          |\n",
        "| ----------------- | ------- | ---------- | ----------------------------------------------------------- |\n",
        "| 2020-09-21        | 2.0     | Srishti    | Migrated Lab to Markdown and added to course repo in GitLab |\n",
        "\n",
        "<hr>\n",
        "\n",
        "## <h3 align=\"center\"> © IBM Corporation 2020. All rights reserved. <h3/>\n"
      ]
    },
    {
      "cell_type": "markdown",
      "metadata": {
        "button": false,
        "deletable": true,
        "new_sheet": false,
        "run_control": {
          "read_only": false
        },
        "id": "r237yeDv0MFA"
      },
      "source": [
        "This notebook is part of a course on **Coursera** called _Introduction to Deep Learning & Neural Networks with Keras_. If you accessed this notebook outside the course, you can take this course online by clicking [here](https://cocl.us/DL0101EN_Coursera_Week1_LAB1).\n"
      ]
    },
    {
      "cell_type": "markdown",
      "metadata": {
        "button": false,
        "deletable": true,
        "new_sheet": false,
        "run_control": {
          "read_only": false
        },
        "id": "eJ1raEva0MFB"
      },
      "source": [
        "<hr>\n",
        "\n",
        "Copyright © 2019 [IBM Developer Skills Network](https://cognitiveclass.ai?utm_source=bducopyrightlink&utm_medium=dswb&utm_campaign=bdu&cm_mmc=Email_Newsletter-_-Developer_Ed%2BTech-_-WW_WW-_-SkillsNetwork-Courses-IBMDeveloperSkillsNetwork-DL0101EN-SkillsNetwork-20718188&cm_mmca1=000026UJ&cm_mmca2=10006555&cm_mmca3=M12345678&cvosrc=email.Newsletter.M12345678&cvo_campaign=000026UJ&cm_mmc=Email_Newsletter-_-Developer_Ed%2BTech-_-WW_WW-_-SkillsNetwork-Courses-IBMDeveloperSkillsNetwork-DL0101EN-SkillsNetwork-20718188&cm_mmca1=000026UJ&cm_mmca2=10006555&cm_mmca3=M12345678&cvosrc=email.Newsletter.M12345678&cvo_campaign=000026UJ&cm_mmc=Email_Newsletter-_-Developer_Ed%2BTech-_-WW_WW-_-SkillsNetwork-Courses-IBMDeveloperSkillsNetwork-DL0101EN-SkillsNetwork-20718188&cm_mmca1=000026UJ&cm_mmca2=10006555&cm_mmca3=M12345678&cvosrc=email.Newsletter.M12345678&cvo_campaign=000026UJ&cm_mmc=Email_Newsletter-_-Developer_Ed%2BTech-_-WW_WW-_-SkillsNetwork-Courses-IBMDeveloperSkillsNetwork-DL0101EN-SkillsNetwork-20718188&cm_mmca1=000026UJ&cm_mmca2=10006555&cm_mmca3=M12345678&cvosrc=email.Newsletter.M12345678&cvo_campaign=000026UJ). This notebook and its source code are released under the terms of the [MIT License](https://bigdatauniversity.com/mit-license?cm_mmc=Email_Newsletter-_-Developer_Ed%2BTech-_-WW_WW-_-SkillsNetwork-Courses-IBMDeveloperSkillsNetwork-DL0101EN-SkillsNetwork-20718188&cm_mmca1=000026UJ&cm_mmca2=10006555&cm_mmca3=M12345678&cvosrc=email.Newsletter.M12345678&cvo_campaign=000026UJ&cm_mmc=Email_Newsletter-_-Developer_Ed%2BTech-_-WW_WW-_-SkillsNetwork-Courses-IBMDeveloperSkillsNetwork-DL0101EN-SkillsNetwork-20718188&cm_mmca1=000026UJ&cm_mmca2=10006555&cm_mmca3=M12345678&cvosrc=email.Newsletter.M12345678&cvo_campaign=000026UJ).\n"
      ]
    }
  ]
}